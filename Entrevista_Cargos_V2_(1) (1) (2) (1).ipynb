{
 "cells": [
  {
   "cell_type": "markdown",
   "metadata": {
    "id": "adIEHiXemwdK"
   },
   "source": [
    "## Preguntas teoricas\n",
    "\n",
    "* <span style=\"color:blue\"> **Basic Data Science Interview Questions** </span>.\n",
    "\n",
    "* <span style=\"color:blue\">**Statistics Interview Questions** </span>.\n",
    "\n",
    "* <span style=\"color:blue\">**Data Analysis Interview Questions**</span>.\n",
    "\n",
    "* <span style=\"color:blue\">**Machine Learning Interview Questions**</span>.\n",
    "\n",
    "* <span style=\"color:blue\">**Deep Learning Interview Questions**</span>."
   ]
  },
  {
   "cell_type": "markdown",
   "metadata": {
    "id": "27NfYRxAmwdO"
   },
   "source": [
    "# BASIC DATA SCIENCE INTERVIEW QUESTIONS"
   ]
  },
  {
   "cell_type": "markdown",
   "metadata": {
    "id": "Ij1SgM8amwdP"
   },
   "source": [
    "#### Q1. ¿Qué es la ciencia de datos? Enumere las diferencias entre el aprendizaje supervisado y no supervisado. (What is Data Science? List the differences between supervised and unsupervised learning.)"
   ]
  },
  {
   "cell_type": "markdown",
   "metadata": {
    "id": "dfZR1R3gmwdR"
   },
   "source": [
    "#### Q2. ¿Qué es el sesgo de selección? (What is Selection Bias?)"
   ]
  },
  {
   "cell_type": "markdown",
   "metadata": {
    "id": "MfWmbcOpmwdS"
   },
   "source": [
    "#### Q3. ¿Qué es la compensación de sesgo-varianza? (What is bias-variance trade-off?)"
   ]
  },
  {
   "cell_type": "markdown",
   "metadata": {
    "id": "9JUlZJFEmwdT"
   },
   "source": [
    "![Image](https://miro.medium.com/max/547/0*goZnsEUDxSoE3v3N.png)"
   ]
  },
  {
   "cell_type": "markdown",
   "metadata": {
    "id": "AxJdx5fXmwdU"
   },
   "source": [
    "#### Q4. ¿Qué es una matriz de confusión? (What is a confusion matrix?)"
   ]
  },
  {
   "cell_type": "markdown",
   "metadata": {
    "id": "oxQOIaZ2mwdX"
   },
   "source": [
    "# STATISTICS INTERVIEW QUESTIONS"
   ]
  },
  {
   "cell_type": "markdown",
   "metadata": {
    "id": "75hBMeRemwdY"
   },
   "source": [
    "#### Q5. ¿Cuál es la diferencia entre los datos de formato \"largo\" y \"ancho\"? (What is the difference between “long” and “wide” format data?)"
   ]
  },
  {
   "cell_type": "markdown",
   "metadata": {
    "id": "y81O2FNMmwdZ"
   },
   "source": [
    "#### Q6. ¿Qué entiendes por el término distribución normal? (What do you understand by the term Normal Distribution?)"
   ]
  },
  {
   "cell_type": "markdown",
   "metadata": {
    "id": "xLA18Ujdmwda"
   },
   "source": [
    "#### Q7. ¿Qué es la correlación y la covarianza en las estadísticas? (What is correlation and covariance in statistics?)"
   ]
  },
  {
   "cell_type": "markdown",
   "metadata": {
    "id": "PBhbSXN5mwdb"
   },
   "source": [
    "#### Q8. ¿Cuál es la diferencia entre las estimaciones puntuales y el intervalo de confianza? (What is the difference between Point Estimates and Confidence Interval?)"
   ]
  },
  {
   "cell_type": "markdown",
   "metadata": {
    "id": "sPhNKgNimwdc"
   },
   "source": [
    "#### Q9. ¿Cuál es el objetivo de las pruebas A / B? (What is the goal of A/B Testing?)"
   ]
  },
  {
   "cell_type": "markdown",
   "metadata": {
    "id": "gh3Gyxuumwde"
   },
   "source": [
    "#### Q10. ¿Qué es el valor p? (What is p-value?)"
   ]
  },
  {
   "cell_type": "markdown",
   "metadata": {
    "id": "okjUIvFBmwdf"
   },
   "source": [
    "#### Q11. En cualquier intervalo de 15 minutos, existe un 20% de probabilidad de que vea al menos una estrella fugaz. ¿Cuál es la probabilidad de que vea al menos una estrella fugaz en el período de una hora? (In any 15-minute interval, there is a 20% probability that you will see at least one shooting star. What is the proba­bility that you see at least one shooting star in the period of an hour?)"
   ]
  },
  {
   "cell_type": "markdown",
   "metadata": {
    "id": "1gI0nOJ5mwdh"
   },
   "source": [
    "#### Q12. ¿Cómo se puede generar un número aleatorio entre 1 y 7 con solo un dado? (How can you generate a random number between 1 – 7 with only a die?)"
   ]
  },
  {
   "cell_type": "markdown",
   "metadata": {
    "id": "ArURXDz2mwdh"
   },
   "source": [
    "#### Q13. Cierta pareja te dice que tienen dos hijos, al menos uno de los cuales es una niña. ¿Cuál es la probabilidad de que tengan dos niñas? (A certain couple tells you that they have two children, at least one of which is a girl. What is the probability that they have two girls?)"
   ]
  },
  {
   "cell_type": "markdown",
   "metadata": {
    "id": "L8d9LdKXmwdi"
   },
   "source": [
    "#### Q14. Un frasco tiene 1000 monedas, de las cuales 999 son justas y 1 es de dos cabezas. Elija una moneda al azar y tírela 10 veces. Dado que ve 10 caras, ¿cuál es la probabilidad de que el próximo lanzamiento de esa moneda también sea cara? ( A jar has 1000 coins, of which 999 are fair and 1 is double headed. Pick a coin at random, and toss it 10 times. Given that you see 10 heads, what is the probability that the next toss of that coin is also a head?)"
   ]
  },
  {
   "cell_type": "markdown",
   "metadata": {
    "id": "8EcW0GT3mwdj"
   },
   "source": [
    "#### Q15. ¿Qué entiendes por poder estadístico de sensibilidad y cómo lo calculas? (What do you understand by statistical power of sensitivity and how do you calculate it?)"
   ]
  },
  {
   "cell_type": "markdown",
   "metadata": {
    "id": "-h5C_sI4mwdk"
   },
   "source": [
    "#### Q16. ¿Por qué se realiza un nuevo muestreo? (Why Is Re-sampling Done?)"
   ]
  },
  {
   "cell_type": "markdown",
   "metadata": {
    "id": "z0g7UjbQmwdl"
   },
   "source": [
    "#### Q17. ¿Cuáles son las diferencias entre un ajuste excesivo y un ajuste insuficiente? (What are the differences between over-fitting and under-fitting?)"
   ]
  },
  {
   "cell_type": "markdown",
   "metadata": {
    "id": "FUXhGflQmwdm"
   },
   "source": [
    "#### Q18. ¿Cómo combatir el sobreajuste y el desajuste? (How to combat Overfitting and Underfitting?)"
   ]
  },
  {
   "cell_type": "markdown",
   "metadata": {
    "id": "9KV1W68wmwdm"
   },
   "source": [
    "#### Q19. ¿Qué es la regularización? ¿Por qué es útil? (What is regularisation? Why is it useful?)"
   ]
  },
  {
   "cell_type": "markdown",
   "metadata": {
    "id": "kBSejbalmwdn"
   },
   "source": [
    "#### Q20. ¿Qué es la ley de los números grandes? (What Is the Law of Large Numbers?)"
   ]
  },
  {
   "cell_type": "markdown",
   "metadata": {
    "id": "WZ7T7nOZmwdn"
   },
   "source": [
    "#### Q21. ¿Qué son las variables de confusión? (What Are Confounding Variables?)"
   ]
  },
  {
   "cell_type": "markdown",
   "metadata": {
    "id": "RoOGNMT_mwdn"
   },
   "source": [
    "#### Q22. ¿Cuáles son los tipos de sesgos que pueden ocurrir durante el muestreo? (What Are the Types of Biases That Can Occur During Sampling?)"
   ]
  },
  {
   "cell_type": "markdown",
   "metadata": {
    "id": "QT5dKSiWmwdo"
   },
   "source": [
    "#### Q23. ¿Qué es el sesgo de supervivencia? (What is Survivorship Bias?)"
   ]
  },
  {
   "cell_type": "markdown",
   "metadata": {
    "id": "mJauo53Nmwdo"
   },
   "source": [
    "#### Q24. ¿Qué es el sesgo de selección? (What is selection Bias?)"
   ]
  },
  {
   "cell_type": "markdown",
   "metadata": {
    "id": "UktXsl6qmwdp"
   },
   "source": [
    "#### Q25. Explique cómo funciona una curva ROC. (Explain how a ROC curve works?)"
   ]
  },
  {
   "cell_type": "markdown",
   "metadata": {
    "id": "A4q5oODwmwdp"
   },
   "source": []
  },
  {
   "cell_type": "markdown",
   "metadata": {
    "id": "i8Rciyp2mwdp"
   },
   "source": [
    "![Image](https://miro.medium.com/max/500/0*vLy0-cJN-uilKPBM.png)"
   ]
  },
  {
   "cell_type": "markdown",
   "metadata": {
    "id": "H3znPwNsmwdp"
   },
   "source": [
    "#### Q26. ¿Qué es la vectorización TF / IDF? (What is TF/IDF vectorization?)"
   ]
  },
  {
   "cell_type": "markdown",
   "metadata": {
    "id": "jdnjtOIQmwdq"
   },
   "source": [
    "#### Q27. ¿Por qué generalmente usamos la función de no linealidad de Softmax como última operación en la red? (Why we generally use Softmax non-linearity function as last operation in-network?)"
   ]
  },
  {
   "cell_type": "markdown",
   "metadata": {
    "id": "uULi2bVjmwdq"
   },
   "source": []
  },
  {
   "cell_type": "markdown",
   "metadata": {
    "id": "479HArgJmwdq"
   },
   "source": [
    "![Image](https://miro.medium.com/max/1521/1*G409bxCMO42RYNI4s7QaQw.png)"
   ]
  },
  {
   "cell_type": "markdown",
   "metadata": {
    "id": "3XaxewZ8mwdr"
   },
   "source": [
    "# DATA ANALYSIS INTERVIEW QUESTIONS"
   ]
  },
  {
   "cell_type": "markdown",
   "metadata": {
    "id": "1OPuktWGmwdr"
   },
   "source": [
    "#### Q28. Python o R: ¿cuál preferirías para el análisis de texto? (Python or R – Which one would you prefer for text analytics?)"
   ]
  },
  {
   "cell_type": "markdown",
   "metadata": {
    "id": "JitJzSsJmwdr"
   },
   "source": [
    "#### Q29. ¿Cómo juega la limpieza de datos un papel vital en el análisis? (How does data cleaning plays a vital role in the analysis?)"
   ]
  },
  {
   "cell_type": "markdown",
   "metadata": {
    "id": "SQwZcCx8mwds"
   },
   "source": [
    "#### Q30. Diferenciar entre análisis univariado, bivariado y multivariado. (Differentiate between univariate, bivariate and multivariate analysis.)"
   ]
  },
  {
   "cell_type": "markdown",
   "metadata": {
    "id": "Vp2LTtDbmwds"
   },
   "source": [
    "#### Q31. Explica el esquema de estrella. (Explain Star Schema.)"
   ]
  },
  {
   "cell_type": "markdown",
   "metadata": {
    "id": "RBiumLBImwds"
   },
   "source": [
    "#### Q32. ¿Qué es el muestreo de conglomerados? (What is Cluster Sampling?)"
   ]
  },
  {
   "cell_type": "markdown",
   "metadata": {
    "id": "xyOBSldQmwdt"
   },
   "source": [
    "#### Q33. ¿Qué es el muestreo sistemático? (What is Systematic Sampling?)"
   ]
  },
  {
   "cell_type": "markdown",
   "metadata": {
    "id": "FQIu-gp4mwdu"
   },
   "source": [
    "#### Q34. ¿Qué son los autovectores y los autovalores? (What are Eigenvectors and Eigenvalues?)"
   ]
  },
  {
   "cell_type": "markdown",
   "metadata": {
    "id": "3LCH73eVmwdu"
   },
   "source": [
    "#### Q35. ¿Puede citar algunos ejemplos en los que un falso positivo es importante que un falso negativo? (Can you cite some examples where a false positive is important than a false negative?)"
   ]
  },
  {
   "cell_type": "markdown",
   "metadata": {
    "id": "Aelt-fymmwdv"
   },
   "source": [
    "#### Q36. ¿Puede citar algunos ejemplos en los que un falso negativo es importante que un falso positivo? (Can you cite some examples where a false negative important than a false positive?)"
   ]
  },
  {
   "cell_type": "markdown",
   "metadata": {
    "id": "5TI-tSCFmwdv"
   },
   "source": [
    "#### Q37. ¿Puede citar algunos ejemplos en los que tanto los falsos positivos como los falsos negativos son igualmente importantes? (Can you cite some examples where both false positive and false negatives are equally important?)"
   ]
  },
  {
   "cell_type": "markdown",
   "metadata": {
    "id": "NooZkLw_mwdv"
   },
   "source": [
    "#### Q38. ¿Puede explicar la diferencia entre un conjunto de validación y un conjunto de prueba? (Can you explain the difference between a Validation Set and a Test Set?)"
   ]
  },
  {
   "cell_type": "markdown",
   "metadata": {
    "id": "letsGPptmwdw"
   },
   "source": [
    "#### Q39. Explique la validación cruzada. (Explain cross-validation)"
   ]
  },
  {
   "cell_type": "markdown",
   "metadata": {
    "id": "CuXNqJgomwdw"
   },
   "source": [
    "# MACHINE LEARNING INTERVIEW QUESTIONS"
   ]
  },
  {
   "cell_type": "markdown",
   "metadata": {
    "id": "Gj7gUugsmwdw"
   },
   "source": [
    "#### Q40. ¿Qué es el aprendizaje automático? (What is Machine Learning?)"
   ]
  },
  {
   "cell_type": "markdown",
   "metadata": {
    "id": "jPIDpZvimwdx"
   },
   "source": [
    "#### Q41. ¿Qué es el aprendizaje supervisado? (What is Supervised Learning?)"
   ]
  },
  {
   "cell_type": "markdown",
   "metadata": {
    "id": "2upS3t75mwdx"
   },
   "source": [
    "#### Q42. ¿Qué es el aprendizaje no supervisado? (What is Unsupervised learning?)"
   ]
  },
  {
   "cell_type": "markdown",
   "metadata": {
    "id": "1FDzGJJCmwdy"
   },
   "source": [
    "#### Q43. ¿Cuáles son los distintos algoritmos de clasificación? (What are the various classification algorithms?)"
   ]
  },
  {
   "cell_type": "markdown",
   "metadata": {
    "id": "wqdWtsSamwd1"
   },
   "source": [
    "#### Q44. ¿Qué es 'ingenuo' en un ingenuo Bayes? (What is ‘Naive’ in a Naive Bayes?)"
   ]
  },
  {
   "cell_type": "markdown",
   "metadata": {
    "id": "x65D6yEumwd1"
   },
   "source": [
    "#### Q45. Explique el algoritmo SVM en detalle. (Explain SVM algorithm in detail.)"
   ]
  },
  {
   "cell_type": "markdown",
   "metadata": {
    "id": "5hBCFBAnmwd2"
   },
   "source": []
  },
  {
   "cell_type": "markdown",
   "metadata": {
    "id": "zOAsAOvPmwd2"
   },
   "source": [
    "![Image](https://miro.medium.com/max/410/0*3goqCs8CkzoS-Fe1.png)"
   ]
  },
  {
   "cell_type": "markdown",
   "metadata": {
    "id": "ISaxOzD_mwd2"
   },
   "source": [
    "#### Q46. ¿Cuáles son los vectores de soporte en SVM? (What are the support vectors in SVM?)"
   ]
  },
  {
   "cell_type": "markdown",
   "metadata": {
    "id": "tXfnpKARmwd3"
   },
   "source": [
    "#### Q47. ¿Cuáles son los diferentes núcleos en SVM? (What are the different kernels in SVM?)"
   ]
  },
  {
   "cell_type": "markdown",
   "metadata": {
    "id": "m47hq3bNmwd3"
   },
   "source": [
    "#### Q48. Explique el algoritmo del árbol de decisión en detalle. (Explain Decision Tree algorithm in detail.)"
   ]
  },
  {
   "cell_type": "markdown",
   "metadata": {
    "id": "6KCt6DuEmwd4"
   },
   "source": [
    "#### Q49. ¿Qué son la entropía y la ganancia de información en el algoritmo de árbol de decisión? (What are Entropy and Information gain in Decision tree algorithm?)"
   ]
  },
  {
   "cell_type": "markdown",
   "metadata": {
    "id": "lpXy085Cmwd4"
   },
   "source": [
    "El algoritmo central para construir un árbol de decisiones se llama ID3 . ID3 utiliza Entropía y Ganancia de información para construir un árbol de decisiones.       \n",
    "\n",
    "Entropía\n",
    "Un árbol de decisiones se construye de arriba hacia abajo desde un nodo raíz e implica la partición de datos en subconjuntos homogéneos. ID3 utiliza la enteropia para comprobar la homogeneidad de una muestra. Si la muestra es completamente homogénea, la entropía es cero y si la muestra está dividida en partes iguales, tiene una entropía de uno.  "
   ]
  },
  {
   "cell_type": "markdown",
   "metadata": {
    "id": "0q-nG6eLmwd4"
   },
   "source": [
    "![Image](https://miro.medium.com/max/349/0*V47C0fOyeGHDwy00.png)"
   ]
  },
  {
   "cell_type": "markdown",
   "metadata": {
    "id": "bZLFllEQmwd4"
   },
   "source": [
    "Ganancia de información\n",
    "\n",
    "La ganancia de información se basa en la disminución de la entropía después de que un conjunto de datos se divide en un atributo. La construcción de un árbol de decisiones se trata de encontrar atributos que devuelvan la mayor ganancia de información.  "
   ]
  },
  {
   "cell_type": "markdown",
   "metadata": {
    "id": "6cdy_tYBmwd5"
   },
   "source": [
    "![Image](https://miro.medium.com/max/445/0*BsfxV8Trk-n253ZN.png)"
   ]
  },
  {
   "cell_type": "markdown",
   "metadata": {
    "id": "COkH_KsKmwd5"
   },
   "source": [
    "![Image](https://miro.medium.com/max/411/0*aiUbGqbkYHPvPLdF.png)"
   ]
  },
  {
   "cell_type": "markdown",
   "metadata": {
    "id": "WJBPFVJmmwd5"
   },
   "source": [
    "#### Q50. ¿Qué es la poda en Decision Tree? (What is pruning in Decision Tree?)"
   ]
  },
  {
   "cell_type": "markdown",
   "metadata": {
    "id": "5BaK9T56mwd6"
   },
   "source": [
    "#### Q51. ¿Qué es la regresión logística? Indique un ejemplo cuando haya utilizado la regresión logística recientemente. (What is logistic regression? State an example when you have used logistic regression recently.)"
   ]
  },
  {
   "cell_type": "markdown",
   "metadata": {
    "id": "fGwYOscBmwd6"
   },
   "source": [
    "#### Q52. ¿Qué es la regresión lineal? (What is Linear Regression?)"
   ]
  },
  {
   "cell_type": "markdown",
   "metadata": {
    "id": "qiitJn42mwd6"
   },
   "source": []
  },
  {
   "cell_type": "markdown",
   "metadata": {
    "id": "LOVaeLcTmwd7"
   },
   "source": [
    "![Image](https://www.edureka.co/blog/wp-content/uploads/2017/05/Regression-ALS-Data-Science-Interview-Questions-Edureka.gif)"
   ]
  },
  {
   "cell_type": "markdown",
   "metadata": {
    "id": "xpnCO6G5mwd7"
   },
   "source": [
    "#### Q53. ¿Cuáles son las desventajas del modelo lineal? (What Are the Drawbacks of the Linear Model?)"
   ]
  },
  {
   "cell_type": "markdown",
   "metadata": {
    "id": "f_lVNmSvmwd7"
   },
   "source": [
    "#### Q54. ¿Cuál es la diferencia entre las técnicas de Regresión y ML de clasificación? (What is the difference between Regression and classification ML techniques?)"
   ]
  },
  {
   "cell_type": "markdown",
   "metadata": {
    "id": "vZSUND6Kmwd8"
   },
   "source": [
    "#### Q55. ¿Qué son los sistemas de recomendación? (What are Recommender Systems?)"
   ]
  },
  {
   "cell_type": "markdown",
   "metadata": {
    "id": "kjrBj5rSmwd8"
   },
   "source": [
    "#### Q56. ¿Qué es el filtrado colaborativo? (What is Collaborative filtering?)"
   ]
  },
  {
   "cell_type": "markdown",
   "metadata": {
    "id": "RzAamACmmwd9"
   },
   "source": [
    "#### Q57. ¿Cómo se pueden tratar los valores atípicos? (How can outlier values be treated?)"
   ]
  },
  {
   "cell_type": "markdown",
   "metadata": {
    "id": "dWN_XRSWmwd-"
   },
   "source": [
    "#### Q58. ¿Cuáles son los distintos pasos involucrados en un proyecto de análisis? (What are the various steps involved in an analytics project?) "
   ]
  },
  {
   "cell_type": "markdown",
   "metadata": {
    "id": "zKSgEP60mwd-"
   },
   "source": [
    "#### Q59. Durante el análisis, ¿cómo se tratan los valores perdidos? (During analysis, how do you treat missing values?)"
   ]
  },
  {
   "cell_type": "markdown",
   "metadata": {
    "id": "d_oSjvmpmwd_"
   },
   "source": [
    "#### Q60. ¿Cómo definiría el número de clústeres en un algoritmo de agrupamiento? (How will you define the number of clusters in a clustering algorithm?)"
   ]
  },
  {
   "cell_type": "markdown",
   "metadata": {
    "id": "WiRKkm5hmweA"
   },
   "source": [
    "![Image](https://d1jnx9ba8s6j9r.cloudfront.net/blog/wp-content/uploads/2017/08/Clustering-Data-Science-Interview-Questions-Edureka.png)"
   ]
  },
  {
   "cell_type": "markdown",
   "metadata": {
    "id": "HoU-9tsSmweA"
   },
   "source": [
    "![Image](https://d1jnx9ba8s6j9r.cloudfront.net/blog/wp-content/uploads/2017/08/Clustering-Plots-Data-Science-Interview-Questions-Edureka.png)"
   ]
  },
  {
   "cell_type": "markdown",
   "metadata": {
    "id": "FwmdjMM_mweA"
   },
   "source": [
    "#### Q61. ¿Qué es Ensemble Learning? (What is Ensemble Learning?)"
   ]
  },
  {
   "cell_type": "markdown",
   "metadata": {
    "id": "OVP0timomweB"
   },
   "source": [
    "#### Q62. ¿Describe brevemente algún tipo de Ensemble Learning? (Describe in brief any type of Ensemble Learning?)"
   ]
  },
  {
   "cell_type": "markdown",
   "metadata": {
    "id": "wAnDXRevmweB"
   },
   "source": [
    "#### Bagging"
   ]
  },
  {
   "cell_type": "markdown",
   "metadata": {
    "id": "Q_nGl_eTwszJ"
   },
   "source": []
  },
  {
   "cell_type": "markdown",
   "metadata": {
    "id": "XIosZkzcmweB"
   },
   "source": [
    "![Image](https://miro.medium.com/max/481/0*Rij9jxO1zpy1jNYD.png)"
   ]
  },
  {
   "cell_type": "markdown",
   "metadata": {
    "id": "skocJmQ7mweC"
   },
   "source": [
    "#### Boosting"
   ]
  },
  {
   "cell_type": "markdown",
   "metadata": {
    "id": "8W98MQZpmweC"
   },
   "source": []
  },
  {
   "cell_type": "markdown",
   "metadata": {
    "id": "mxy01qAJmweC"
   },
   "source": [
    "![Image](https://miro.medium.com/max/598/0*YFGitoFUAZBCQZaS.png)"
   ]
  },
  {
   "cell_type": "markdown",
   "metadata": {
    "id": "zWeLsb98mweC"
   },
   "source": [
    "#### Q63. ¿Qué es un bosque aleatorio? ¿Como funciona? (What is a Random Forest? How does it work?)"
   ]
  },
  {
   "cell_type": "markdown",
   "metadata": {
    "id": "zwoAP184mweC"
   },
   "source": []
  },
  {
   "cell_type": "markdown",
   "metadata": {
    "id": "Z_pPOuIgmweC"
   },
   "source": [
    "![Image](https://d1jnx9ba8s6j9r.cloudfront.net/blog/wp-content/uploads/2019/12/random-forest-data-science-interview-questions-edureka.png)"
   ]
  },
  {
   "cell_type": "markdown",
   "metadata": {
    "id": "iR3on6oJmweD"
   },
   "source": [
    "#### Q64. ¿Cómo se trabaja hacia un bosque aleatorio? (How Do You Work Towards a Random Forest?)"
   ]
  },
  {
   "cell_type": "markdown",
   "metadata": {
    "id": "a6Z081p5mweD"
   },
   "source": [
    "#### Q65. ¿Qué técnica de validación cruzada usaría en un conjunto de datos de series de tiempo? (What cross-validation technique would you use on a time series data set?)"
   ]
  },
  {
   "cell_type": "markdown",
   "metadata": {
    "id": "iqriLrhdmweE"
   },
   "source": [
    "#### Q66. ¿Qué es una transformación Box-Cox? (What is a Box-Cox Transformation?)"
   ]
  },
  {
   "cell_type": "markdown",
   "metadata": {
    "id": "RzOV8M_fmweE"
   },
   "source": [
    "![Image](https://miro.medium.com/max/576/0*Ty7GYUMcoj21uMq9.jpg)"
   ]
  },
  {
   "cell_type": "markdown",
   "metadata": {
    "id": "nRzyDKY_mweE"
   },
   "source": []
  },
  {
   "cell_type": "markdown",
   "metadata": {
    "id": "5aSYIun6mweE"
   },
   "source": [
    "#### Q67. ¿Con qué frecuencia se debe actualizar un algoritmo? (How Regularly Must an Algorithm be Updated?)"
   ]
  },
  {
   "cell_type": "markdown",
   "metadata": {
    "id": "-DCuxfHlmweF"
   },
   "source": [
    "#### Q68. Si tiene 4 GB de RAM en su máquina y desea entrenar su modelo en un conjunto de datos de 10 GB. ¿Cómo solucionaría este problema? ¿Alguna vez ha enfrentado este tipo de problema en su experiencia de ciencia de datos / aprendizaje automático hasta ahora? (If you are having 4GB RAM in your machine and you want to train your model on 10GB data set. How would you go about this problem? Have you ever faced this kind of problem in your machine learning/data science experience so far?)"
   ]
  },
  {
   "cell_type": "markdown",
   "metadata": {
    "id": "c1f38KVhmweF"
   },
   "source": [
    "# DEEP LEARNING INTERVIEW QUESTIONS"
   ]
  },
  {
   "cell_type": "markdown",
   "metadata": {
    "id": "spEfr2uOmweF"
   },
   "source": [
    "#### Q69. ¿A qué te refieres con Deep Learning? (What do you mean by Deep Learning?)"
   ]
  },
  {
   "cell_type": "markdown",
   "metadata": {
    "id": "djAYJ5tNmweF"
   },
   "source": [
    "#### Q70. ¿Cuál es la diferencia entre el aprendizaje automático y el aprendizaje profundo? (What is the difference between machine learning and deep learning?)"
   ]
  },
  {
   "cell_type": "markdown",
   "metadata": {
    "id": "v28eiAMtmweG"
   },
   "source": [
    "![image info](https://d1jnx9ba8s6j9r.cloudfront.net/blog/wp-content/uploads/2019/12/ML-vs-DL-data-science-interview-questions-edureka.png)"
   ]
  },
  {
   "cell_type": "markdown",
   "metadata": {
    "id": "tVNxeY08mweG"
   },
   "source": [
    "#### Q71. ¿Cuál es, en su opinión, el motivo de la popularidad del Deep Learning en los últimos tiempos? (What, in your opinion, is the reason for the popularity of Deep Learning in recent times?)"
   ]
  },
  {
   "cell_type": "markdown",
   "metadata": {
    "id": "nWchA265mweG"
   },
   "source": [
    "#### Q72. ¿Qué es el aprendizaje por refuerzo? (What is reinforcement learning?)"
   ]
  },
  {
   "cell_type": "markdown",
   "metadata": {
    "id": "xfgLV4PYmweH"
   },
   "source": [
    "#### Q73. ¿Qué son las redes neuronales artificiales? (What are Artificial Neural Networks?)"
   ]
  },
  {
   "cell_type": "markdown",
   "metadata": {
    "id": "e8psOBYbmweH"
   },
   "source": [
    "#### Q74. Describe la estructura de las redes neuronales artificiales. (Describe the structure of Artificial Neural Networks?)"
   ]
  },
  {
   "cell_type": "markdown",
   "metadata": {
    "id": "fy4RG2ZSmweJ"
   },
   "source": [
    "#### Q75. ¿Cómo se inicializan los pesos en una red? (How Are Weights Initialized in a Network?)"
   ]
  },
  {
   "cell_type": "markdown",
   "metadata": {
    "id": "Ttf_2Md0mweJ"
   },
   "source": [
    "#### Q76. ¿Qué es la función de costo? (What Is the Cost Function?)"
   ]
  },
  {
   "cell_type": "markdown",
   "metadata": {
    "id": "VhYQsNpemweJ"
   },
   "source": [
    "#### Q77. ¿Qué son los hiperparámetros? (What Are Hyperparameters?)"
   ]
  },
  {
   "cell_type": "markdown",
   "metadata": {
    "id": "6m5IG4LemweK"
   },
   "source": [
    "#### Q78. ¿Qué sucederá si la tasa de aprendizaje se establece de manera imprecisa (demasiado baja o demasiado alta)? (What Will Happen If the Learning Rate Is Set inaccurately (Too Low or Too High)?)"
   ]
  },
  {
   "cell_type": "markdown",
   "metadata": {
    "id": "1UiJRPCLmweK"
   },
   "source": [
    "#### Q79. ¿Cuál es la diferencia entre época, lote e iteración en el aprendizaje profundo? What Is the Difference Between Epoch, Batch, and Iteration in Deep Learning?"
   ]
  },
  {
   "cell_type": "markdown",
   "metadata": {
    "id": "481b0rD4mweL"
   },
   "source": [
    "#### Q80. ¿Cuáles son las diferentes capas en CNN? (What Are the Different Layers on CNN?)"
   ]
  },
  {
   "cell_type": "markdown",
   "metadata": {
    "id": "Rj8ZjrYgmweL"
   },
   "source": [
    "Hay cuatro capas en CNN :\n",
    "\n"
   ]
  },
  {
   "cell_type": "markdown",
   "metadata": {
    "id": "sJ1myEJHmweL"
   },
   "source": [
    "![image info](https://d1jnx9ba8s6j9r.cloudfront.net/blog/wp-content/uploads/2019/12/CNN-data-science-interview-questions-edureka.png)"
   ]
  },
  {
   "cell_type": "markdown",
   "metadata": {
    "id": "-7oy9pi7mweL"
   },
   "source": [
    "#### Q81. ¿Qué es la agrupación en CNN y cómo funciona? (Pooling on CNN)"
   ]
  },
  {
   "cell_type": "markdown",
   "metadata": {
    "id": "BkJbeKX7mweL"
   },
   "source": [
    "#### Q82. ¿Qué son las redes neuronales recurrentes (RNN)? (Recurrent Neural Networks)"
   ]
  },
  {
   "cell_type": "markdown",
   "metadata": {
    "id": "p8F_Kd59mweM"
   },
   "source": [
    "#### Q83. ¿Cómo funciona una red LSTM? (LSTM Network Work)"
   ]
  },
  {
   "cell_type": "markdown",
   "metadata": {
    "id": "6UscUAzhmweM"
   },
   "source": [
    "#### Q84. ¿Qué es un perceptrón multicapa (MLP)? (Multi-layer Perceptron(MLP))"
   ]
  },
  {
   "cell_type": "markdown",
   "metadata": {
    "id": "6GJ8LYolmweO"
   },
   "source": [
    "#### Q85. Explica el descenso por gradiente. (Gradient Descent)"
   ]
  },
  {
   "cell_type": "markdown",
   "metadata": {
    "id": "DMbOECckmweO"
   },
   "source": [
    "![image info](https://d1jnx9ba8s6j9r.cloudfront.net/blog/wp-content/uploads/2019/12/GRADIENT-DESCENT-data-science-interview-questions-edureka.png)"
   ]
  },
  {
   "cell_type": "markdown",
   "metadata": {
    "id": "7K7SW2TYmweO"
   },
   "source": [
    "#### Q86. ¿Qué es la explosión de gradientes? (exploding gradients)"
   ]
  },
  {
   "cell_type": "markdown",
   "metadata": {
    "id": "M_U7fokJmweP"
   },
   "source": [
    "#### Q87. ¿Qué son los gradientes que desaparecen? (vanishing gradients)"
   ]
  },
  {
   "cell_type": "markdown",
   "metadata": {
    "id": "6yc2XPvXmweP"
   },
   "source": [
    "#### Q89. Qué es la propagación hacia atrás y explique que está funcionando. (Back Propagation)"
   ]
  },
  {
   "cell_type": "markdown",
   "metadata": {
    "id": "XZaYjOIBmweQ"
   },
   "source": [
    "#### Q90. ¿Cuáles son las variantes de la propagación hacia atrás? (Back Propagation)"
   ]
  },
  {
   "cell_type": "markdown",
   "metadata": {
    "id": "HeCOF_w5mweQ"
   },
   "source": [
    "#### Q91. ¿Cuáles son los diferentes marcos de aprendizaje profundo ? (Deep Learning Frameworks)"
   ]
  },
  {
   "cell_type": "markdown",
   "metadata": {
    "id": "6WUGhhYNmweQ"
   },
   "source": [
    "#### Q92. ¿Cuál es el papel de la función de activación? (Activation Function)"
   ]
  },
  {
   "cell_type": "markdown",
   "metadata": {
    "id": "_j43pXm_mweR"
   },
   "source": [
    "#### Q93. Nombra algunas bibliotecas de Machine Learning para varios propósitos ."
   ]
  },
  {
   "cell_type": "markdown",
   "metadata": {
    "id": "sqtBW73fmweR"
   },
   "source": [
    "#### Q94. ¿Qué es un codificador automático? (Auto-Encoder)"
   ]
  },
  {
   "cell_type": "markdown",
   "metadata": {
    "id": "5ZGVgme2mweR"
   },
   "source": [
    "![image info](https://d1jnx9ba8s6j9r.cloudfront.net/blog/wp-content/uploads/2019/12/AUTOENCODERS-data-science-interview-questions-edureka.png)"
   ]
  },
  {
   "cell_type": "markdown",
   "metadata": {
    "id": "_siKuhjKmweR"
   },
   "source": [
    "# Q95. ¿Qué es una máquina de Boltzmann? (Boltzmann Machine)"
   ]
  },
  {
   "cell_type": "markdown",
   "metadata": {
    "id": "jvckkkZdmweS"
   },
   "source": [
    "![image info](https://d1jnx9ba8s6j9r.cloudfront.net/blog/wp-content/uploads/2019/12/RBM-data-science-interview-questions-edureka.png)"
   ]
  },
  {
   "cell_type": "markdown",
   "metadata": {
    "id": "xf7TvmVBmweS"
   },
   "source": [
    "#### Q96. ¿Qué es la deserción y la normalización por lotes? (Dropout and Batch Normalization)"
   ]
  },
  {
   "cell_type": "markdown",
   "metadata": {
    "id": "xakvSbDUmweS"
   },
   "source": [
    "#### Q97. ¿Cuál es la diferencia entre el descenso de gradiente por lotes y el descenso de gradiente estocástico? (Batch Gradient Descent and Stochastic Gradient Descent)"
   ]
  },
  {
   "cell_type": "markdown",
   "metadata": {
    "id": "JHn-l1X0mweT"
   },
   "source": [
    "#### Q98. ¿Por qué Tensorflow es la biblioteca más preferida en Deep Learning?"
   ]
  },
  {
   "cell_type": "markdown",
   "metadata": {
    "id": "WvNAy6EGmweT"
   },
   "source": [
    "#### Q99. ¿Qué quieres decir con tensor en Tensorflow?"
   ]
  },
  {
   "cell_type": "markdown",
   "metadata": {
    "id": "xbm0vaP-mweT"
   },
   "source": [
    "![image info](https://d1jnx9ba8s6j9r.cloudfront.net/blog/wp-content/uploads/2019/11/Capture123.png)"
   ]
  },
  {
   "cell_type": "markdown",
   "metadata": {
    "id": "eJNwhIUCmweU"
   },
   "source": [
    "#### Q100. ¿Qué es el gráfico computacional? (Computational Graph)"
   ]
  },
  {
   "cell_type": "markdown",
   "metadata": {
    "id": "-GQa54JnmweU"
   },
   "source": [
    "#### Q101. ¿Qué es una Red Adversarial Generativa? (Generative Adversarial Network)"
   ]
  },
  {
   "cell_type": "code",
   "execution_count": null,
   "metadata": {
    "id": "GVA1Z6bPmweV"
   },
   "outputs": [],
   "source": []
  }
 ],
 "metadata": {
  "colab": {
   "name": "Entrevista_Cargos V2 (1).ipynb",
   "provenance": []
  },
  "kernelspec": {
   "display_name": "Python 3",
   "language": "python",
   "name": "python3"
  },
  "language_info": {
   "codemirror_mode": {
    "name": "ipython",
    "version": 3
   },
   "file_extension": ".py",
   "mimetype": "text/x-python",
   "name": "python",
   "nbconvert_exporter": "python",
   "pygments_lexer": "ipython3",
   "version": "3.7.0"
  }
 },
 "nbformat": 4,
 "nbformat_minor": 1
}
