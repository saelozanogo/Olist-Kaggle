{
 "cells": [
  {
   "cell_type": "markdown",
   "metadata": {
    "id": "ZwqcWZ447h-1"
   },
   "source": [
    "Descripción \n",
    "# Conjunto de datos públicos brasileños de comercio electrónico de Olist\n",
    "***\n",
    "¡Bienvenida! Este es un conjunto de datos públicos de comercio electrónico brasileño de pedidos realizados en Olist Store. El conjunto de datos tiene información de 100k pedidos de 2016 a 2018 realizados en múltiples mercados en Brasil. Sus características permiten ver un pedido desde múltiples dimensiones: desde el estado del pedido, el precio, el pago y el desempeño del flete hasta la ubicación del cliente, los atributos del producto y finalmente las reseñas escritas por los clientes. También publicamos un conjunto de datos de geolocalización que relaciona los códigos postales brasileños con las coordenadas lat / lng.\n",
    "\n",
    "Estos son datos comerciales reales, se han anonimizado y las referencias a las empresas y socios en el texto de revisión se han reemplazado con los nombres de las grandes casas de Game of Thrones.\n",
    "\n",
    "# Join it With the Marketing Funnel by Olist\n",
    "También hemos lanzado un conjunto de datos de embudo de marketing https://www.kaggle.com/olistbr/marketing-funnel-olist/home ¡Puede unir ambos conjuntos de datos y ver un pedido desde la perspectiva de marketing ahora!\n",
    "\n",
    "Las instrucciones para unirse están disponibles en este Kernel https://www.kaggle.com/andresionek/joining-marketing-funnel-with-brazilian-e-commerce.\n",
    "\n",
    "# Contexto\n",
    "Este conjunto de datos fue proporcionado generosamente por Olist, la tienda por departamentos más grande de los mercados brasileños. Olist conecta pequeñas empresas de todo Brasil con canales sin problemas y con un solo contrato. Esos comerciantes pueden vender sus productos a través de Olist Store y enviarlos directamente a los clientes mediante los socios logísticos de Olist. Vea más en nuestro sitio web: www.olist.com\n",
    "\n",
    "Después de que un cliente compra el producto en Olist Store, un vendedor recibe una notificación para cumplir con ese pedido. Una vez que el cliente recibe el producto, o vence la fecha estimada de entrega, el cliente recibe una encuesta de satisfacción por correo electrónico donde puede dar una nota por la experiencia de compra y anotar algunos comentarios.\n",
    "\n",
    "# Atención\n",
    "1. Un pedido puede tener varios artículos.\n",
    "2. Cada artículo puede ser realizado por un vendedor distinto.\n",
    "3. Todo el texto que identifica tiendas y socios fue reemplazado por los nombres de las grandes casas de Game of Thrones.\n",
    "\n",
    "\n",
    "# Ejemplo de una lista de productos en un mercado"
   ]
  },
  {
   "cell_type": "markdown",
   "metadata": {
    "id": "UtxvCNnc7uFd"
   },
   "source": [
    "![image](https://i.imgur.com/JuJMns1.png)"
   ]
  },
  {
   "cell_type": "markdown",
   "metadata": {
    "id": "-UXT38eO9zr0"
   },
   "source": [
    "# Data Schema\n",
    "Los datos se dividen en varios conjuntos de datos para una mejor comprensión y organización. Consulte el siguiente esquema de datos cuando trabaje con él:"
   ]
  },
  {
   "cell_type": "markdown",
   "metadata": {
    "id": "iOVjjxBu99dr"
   },
   "source": [
    "![image](https://i.imgur.com/HRhd2Y0.png)\n"
   ]
  },
  {
   "cell_type": "markdown",
   "metadata": {
    "id": "RHC4_Apq_lT3"
   },
   "source": [
    "# Classified Dataset\n",
    "Anteriormente habíamos publicado un conjunto de datos clasificados, pero lo eliminamos en la Versión 6. Tenemos la intención de publicarlo nuevamente como un nuevo conjunto de datos con un nuevo esquema de datos. Si bien no lo terminamos, puede usar el conjunto de datos clasificados disponible en la Versión 5 o anterior.\n",
    "\n",
    "# Inspiration\n",
    "Aquí hay algo de inspiración para los posibles resultados de este conjunto de datos.\n",
    "\n",
    "# NLP:\n",
    "\n",
    "Este conjunto de datos ofrece un entorno supremo para analizar el texto de las reseñas a través de sus múltiples dimensiones.\n",
    "\n",
    "# Clustering:\n",
    "\n",
    "Algunos clientes no escribieron una reseña. Pero, ¿por qué están felices o enojados?\n",
    "\n",
    "# Sales Prediction:\n",
    "\n",
    "Con la información de la fecha de compra, podrá predecir las ventas futuras.\n",
    "\n",
    "# Delivery Performance:\n",
    "\n",
    "También podrá trabajar en el desempeño de la entrega y encontrar formas de optimizar los tiempos de entrega.\n",
    "\n",
    "# Product Quality:\n",
    "\n",
    "Disfrute descubriendo las categorías de productos que son más propensas a la insatisfacción del cliente.\n",
    "\n",
    "# Feature Engineering:\n",
    "\n",
    "Cree características a partir de este rico conjunto de datos o adjúntele información pública externa.\n",
    "\n",
    "# Acknowledgements\n",
    "\n",
    "Gracias a Olist por publicar este conjunto de datos."
   ]
  },
  {
   "cell_type": "markdown",
   "metadata": {
    "id": "rVojHYiQqOKf"
   },
   "source": [
    "# Tareas\n",
    "\n",
    "Realizar\n",
    "* Código mantenible y código limpio\n",
    "* Analisis Exploratorio de Datos\n",
    "* Interpretación del problema\n",
    "* Ingeniería de características\n",
    "* Series temporales\n",
    "* Modelos\n",
    "* Predicción de ventas\n",
    "* Optimización entregas pedidos\n",
    "* Clasificación\n",
    "* Procesamiento de lenguaje Natural\n",
    "* Dedicación\n",
    "* Exposición\n",
    "* Presentación y claridad\n",
    "\n",
    "# Entregables\n",
    "\n",
    "Elegir la herramienta con la que se sientan mejor\n",
    "\n",
    "* Word\n",
    "* Power Point\n",
    "* Excel\n",
    "* Kaggle\n",
    "* Colab\n",
    "* Streamlit, bokeh, dash, heroku\n",
    "* Spyder\n",
    "* Jupyter Lab"
   ]
  },
  {
   "cell_type": "markdown",
   "metadata": {
    "id": "_X7CLfUHqFrn"
   },
   "source": []
  },
  {
   "cell_type": "markdown",
   "metadata": {},
   "source": [
    "# Desarrollo de la Prueba"
   ]
  },
  {
   "cell_type": "markdown",
   "metadata": {},
   "source": [
    "## Importar las Bases de Datos"
   ]
  },
  {
   "cell_type": "code",
   "execution_count": 2,
   "metadata": {},
   "outputs": [],
   "source": [
    "import pandas as pd"
   ]
  },
  {
   "cell_type": "markdown",
   "metadata": {},
   "source": [
    "-----"
   ]
  },
  {
   "cell_type": "markdown",
   "metadata": {},
   "source": [
    "## olist_geolocation_dataset"
   ]
  },
  {
   "cell_type": "code",
   "execution_count": 3,
   "metadata": {},
   "outputs": [],
   "source": [
    "olist_geolocation_dataset = pd.read_csv('olist_geolocation_dataset.csv')"
   ]
  },
  {
   "cell_type": "code",
   "execution_count": 4,
   "metadata": {},
   "outputs": [
    {
     "data": {
      "text/html": [
       "<div>\n",
       "<style scoped>\n",
       "    .dataframe tbody tr th:only-of-type {\n",
       "        vertical-align: middle;\n",
       "    }\n",
       "\n",
       "    .dataframe tbody tr th {\n",
       "        vertical-align: top;\n",
       "    }\n",
       "\n",
       "    .dataframe thead th {\n",
       "        text-align: right;\n",
       "    }\n",
       "</style>\n",
       "<table border=\"1\" class=\"dataframe\">\n",
       "  <thead>\n",
       "    <tr style=\"text-align: right;\">\n",
       "      <th></th>\n",
       "      <th>geolocation_zip_code_prefix</th>\n",
       "      <th>geolocation_lat</th>\n",
       "      <th>geolocation_lng</th>\n",
       "      <th>geolocation_city</th>\n",
       "      <th>geolocation_state</th>\n",
       "    </tr>\n",
       "  </thead>\n",
       "  <tbody>\n",
       "    <tr>\n",
       "      <th>0</th>\n",
       "      <td>1037</td>\n",
       "      <td>-23.545621</td>\n",
       "      <td>-46.639292</td>\n",
       "      <td>sao paulo</td>\n",
       "      <td>SP</td>\n",
       "    </tr>\n",
       "    <tr>\n",
       "      <th>1</th>\n",
       "      <td>1046</td>\n",
       "      <td>-23.546081</td>\n",
       "      <td>-46.644820</td>\n",
       "      <td>sao paulo</td>\n",
       "      <td>SP</td>\n",
       "    </tr>\n",
       "    <tr>\n",
       "      <th>2</th>\n",
       "      <td>1046</td>\n",
       "      <td>-23.546129</td>\n",
       "      <td>-46.642951</td>\n",
       "      <td>sao paulo</td>\n",
       "      <td>SP</td>\n",
       "    </tr>\n",
       "    <tr>\n",
       "      <th>3</th>\n",
       "      <td>1041</td>\n",
       "      <td>-23.544392</td>\n",
       "      <td>-46.639499</td>\n",
       "      <td>sao paulo</td>\n",
       "      <td>SP</td>\n",
       "    </tr>\n",
       "    <tr>\n",
       "      <th>4</th>\n",
       "      <td>1035</td>\n",
       "      <td>-23.541578</td>\n",
       "      <td>-46.641607</td>\n",
       "      <td>sao paulo</td>\n",
       "      <td>SP</td>\n",
       "    </tr>\n",
       "  </tbody>\n",
       "</table>\n",
       "</div>"
      ],
      "text/plain": [
       "   geolocation_zip_code_prefix  geolocation_lat  geolocation_lng  \\\n",
       "0                         1037       -23.545621       -46.639292   \n",
       "1                         1046       -23.546081       -46.644820   \n",
       "2                         1046       -23.546129       -46.642951   \n",
       "3                         1041       -23.544392       -46.639499   \n",
       "4                         1035       -23.541578       -46.641607   \n",
       "\n",
       "  geolocation_city geolocation_state  \n",
       "0        sao paulo                SP  \n",
       "1        sao paulo                SP  \n",
       "2        sao paulo                SP  \n",
       "3        sao paulo                SP  \n",
       "4        sao paulo                SP  "
      ]
     },
     "execution_count": 4,
     "metadata": {},
     "output_type": "execute_result"
    }
   ],
   "source": [
    "olist_geolocation_dataset.head()"
   ]
  },
  {
   "cell_type": "code",
   "execution_count": 5,
   "metadata": {},
   "outputs": [
    {
     "data": {
      "text/plain": [
       "(1000163, 5)"
      ]
     },
     "execution_count": 5,
     "metadata": {},
     "output_type": "execute_result"
    }
   ],
   "source": [
    "olist_geolocation_dataset.shape"
   ]
  },
  {
   "cell_type": "code",
   "execution_count": 6,
   "metadata": {},
   "outputs": [
    {
     "data": {
      "text/plain": [
       "False    738332\n",
       "True     261831\n",
       "dtype: int64"
      ]
     },
     "execution_count": 6,
     "metadata": {},
     "output_type": "execute_result"
    }
   ],
   "source": [
    "olist_geolocation_dataset.duplicated(keep='first').value_counts()"
   ]
  },
  {
   "cell_type": "code",
   "execution_count": 7,
   "metadata": {},
   "outputs": [
    {
     "data": {
      "text/plain": [
       "True     981148\n",
       "False     19015\n",
       "dtype: int64"
      ]
     },
     "execution_count": 7,
     "metadata": {},
     "output_type": "execute_result"
    }
   ],
   "source": [
    "z = olist_geolocation_dataset.duplicated('geolocation_zip_code_prefix',keep='first')#\n",
    "z.value_counts()"
   ]
  },
  {
   "cell_type": "markdown",
   "metadata": {},
   "source": [
    "Es necesario primero eliminar los duplicados de la base, pues están enmarcando el mismo sitio"
   ]
  },
  {
   "cell_type": "code",
   "execution_count": 8,
   "metadata": {},
   "outputs": [],
   "source": [
    "olist_geolocation_dataset.drop_duplicates(inplace = True)"
   ]
  },
  {
   "cell_type": "code",
   "execution_count": 10,
   "metadata": {},
   "outputs": [
    {
     "data": {
      "text/plain": [
       "True     719317\n",
       "False     19015\n",
       "dtype: int64"
      ]
     },
     "execution_count": 10,
     "metadata": {},
     "output_type": "execute_result"
    }
   ],
   "source": [
    "z = olist_geolocation_dataset.duplicated('geolocation_zip_code_prefix',keep='first')#\n",
    "z.value_counts()"
   ]
  },
  {
   "cell_type": "code",
   "execution_count": 11,
   "metadata": {},
   "outputs": [
    {
     "data": {
      "text/html": [
       "<div>\n",
       "<style scoped>\n",
       "    .dataframe tbody tr th:only-of-type {\n",
       "        vertical-align: middle;\n",
       "    }\n",
       "\n",
       "    .dataframe tbody tr th {\n",
       "        vertical-align: top;\n",
       "    }\n",
       "\n",
       "    .dataframe thead th {\n",
       "        text-align: right;\n",
       "    }\n",
       "</style>\n",
       "<table border=\"1\" class=\"dataframe\">\n",
       "  <thead>\n",
       "    <tr style=\"text-align: right;\">\n",
       "      <th></th>\n",
       "      <th>geolocation_zip_code_prefix</th>\n",
       "      <th>geolocation_lat</th>\n",
       "      <th>geolocation_lng</th>\n",
       "      <th>geolocation_city</th>\n",
       "      <th>geolocation_state</th>\n",
       "    </tr>\n",
       "  </thead>\n",
       "  <tbody>\n",
       "    <tr>\n",
       "      <th>519</th>\n",
       "      <td>1001</td>\n",
       "      <td>-23.551337</td>\n",
       "      <td>-46.634027</td>\n",
       "      <td>sao paulo</td>\n",
       "      <td>SP</td>\n",
       "    </tr>\n",
       "    <tr>\n",
       "      <th>235</th>\n",
       "      <td>1001</td>\n",
       "      <td>-23.550642</td>\n",
       "      <td>-46.634410</td>\n",
       "      <td>sao paulo</td>\n",
       "      <td>SP</td>\n",
       "    </tr>\n",
       "    <tr>\n",
       "      <th>206</th>\n",
       "      <td>1001</td>\n",
       "      <td>-23.550498</td>\n",
       "      <td>-46.634338</td>\n",
       "      <td>sao paulo</td>\n",
       "      <td>SP</td>\n",
       "    </tr>\n",
       "    <tr>\n",
       "      <th>326</th>\n",
       "      <td>1001</td>\n",
       "      <td>-23.551427</td>\n",
       "      <td>-46.634074</td>\n",
       "      <td>sao paulo</td>\n",
       "      <td>SP</td>\n",
       "    </tr>\n",
       "    <tr>\n",
       "      <th>1182</th>\n",
       "      <td>1001</td>\n",
       "      <td>-23.549779</td>\n",
       "      <td>-46.633957</td>\n",
       "      <td>sao paulo</td>\n",
       "      <td>SP</td>\n",
       "    </tr>\n",
       "  </tbody>\n",
       "</table>\n",
       "</div>"
      ],
      "text/plain": [
       "      geolocation_zip_code_prefix  geolocation_lat  geolocation_lng  \\\n",
       "519                          1001       -23.551337       -46.634027   \n",
       "235                          1001       -23.550642       -46.634410   \n",
       "206                          1001       -23.550498       -46.634338   \n",
       "326                          1001       -23.551427       -46.634074   \n",
       "1182                         1001       -23.549779       -46.633957   \n",
       "\n",
       "     geolocation_city geolocation_state  \n",
       "519         sao paulo                SP  \n",
       "235         sao paulo                SP  \n",
       "206         sao paulo                SP  \n",
       "326         sao paulo                SP  \n",
       "1182        sao paulo                SP  "
      ]
     },
     "execution_count": 11,
     "metadata": {},
     "output_type": "execute_result"
    }
   ],
   "source": [
    "olist_geolocation_dataset.sort_values('geolocation_zip_code_prefix').head()"
   ]
  },
  {
   "cell_type": "code",
   "execution_count": 12,
   "metadata": {},
   "outputs": [
    {
     "data": {
      "text/plain": [
       "19015"
      ]
     },
     "execution_count": 12,
     "metadata": {},
     "output_type": "execute_result"
    }
   ],
   "source": [
    "olist_geolocation_dataset['geolocation_zip_code_prefix'].nunique()"
   ]
  },
  {
   "cell_type": "markdown",
   "metadata": {},
   "source": [
    "#### olist_customers_dataset"
   ]
  },
  {
   "cell_type": "code",
   "execution_count": 13,
   "metadata": {},
   "outputs": [],
   "source": [
    "olist_customers_dataset = pd.read_csv('olist_customers_dataset.csv')"
   ]
  },
  {
   "cell_type": "code",
   "execution_count": 14,
   "metadata": {},
   "outputs": [
    {
     "data": {
      "text/html": [
       "<div>\n",
       "<style scoped>\n",
       "    .dataframe tbody tr th:only-of-type {\n",
       "        vertical-align: middle;\n",
       "    }\n",
       "\n",
       "    .dataframe tbody tr th {\n",
       "        vertical-align: top;\n",
       "    }\n",
       "\n",
       "    .dataframe thead th {\n",
       "        text-align: right;\n",
       "    }\n",
       "</style>\n",
       "<table border=\"1\" class=\"dataframe\">\n",
       "  <thead>\n",
       "    <tr style=\"text-align: right;\">\n",
       "      <th></th>\n",
       "      <th>customer_id</th>\n",
       "      <th>customer_unique_id</th>\n",
       "      <th>customer_zip_code_prefix</th>\n",
       "      <th>customer_city</th>\n",
       "      <th>customer_state</th>\n",
       "    </tr>\n",
       "  </thead>\n",
       "  <tbody>\n",
       "    <tr>\n",
       "      <th>0</th>\n",
       "      <td>06b8999e2fba1a1fbc88172c00ba8bc7</td>\n",
       "      <td>861eff4711a542e4b93843c6dd7febb0</td>\n",
       "      <td>14409</td>\n",
       "      <td>franca</td>\n",
       "      <td>SP</td>\n",
       "    </tr>\n",
       "    <tr>\n",
       "      <th>1</th>\n",
       "      <td>18955e83d337fd6b2def6b18a428ac77</td>\n",
       "      <td>290c77bc529b7ac935b93aa66c333dc3</td>\n",
       "      <td>9790</td>\n",
       "      <td>sao bernardo do campo</td>\n",
       "      <td>SP</td>\n",
       "    </tr>\n",
       "    <tr>\n",
       "      <th>2</th>\n",
       "      <td>4e7b3e00288586ebd08712fdd0374a03</td>\n",
       "      <td>060e732b5b29e8181a18229c7b0b2b5e</td>\n",
       "      <td>1151</td>\n",
       "      <td>sao paulo</td>\n",
       "      <td>SP</td>\n",
       "    </tr>\n",
       "    <tr>\n",
       "      <th>3</th>\n",
       "      <td>b2b6027bc5c5109e529d4dc6358b12c3</td>\n",
       "      <td>259dac757896d24d7702b9acbbff3f3c</td>\n",
       "      <td>8775</td>\n",
       "      <td>mogi das cruzes</td>\n",
       "      <td>SP</td>\n",
       "    </tr>\n",
       "    <tr>\n",
       "      <th>4</th>\n",
       "      <td>4f2d8ab171c80ec8364f7c12e35b23ad</td>\n",
       "      <td>345ecd01c38d18a9036ed96c73b8d066</td>\n",
       "      <td>13056</td>\n",
       "      <td>campinas</td>\n",
       "      <td>SP</td>\n",
       "    </tr>\n",
       "  </tbody>\n",
       "</table>\n",
       "</div>"
      ],
      "text/plain": [
       "                        customer_id                customer_unique_id  \\\n",
       "0  06b8999e2fba1a1fbc88172c00ba8bc7  861eff4711a542e4b93843c6dd7febb0   \n",
       "1  18955e83d337fd6b2def6b18a428ac77  290c77bc529b7ac935b93aa66c333dc3   \n",
       "2  4e7b3e00288586ebd08712fdd0374a03  060e732b5b29e8181a18229c7b0b2b5e   \n",
       "3  b2b6027bc5c5109e529d4dc6358b12c3  259dac757896d24d7702b9acbbff3f3c   \n",
       "4  4f2d8ab171c80ec8364f7c12e35b23ad  345ecd01c38d18a9036ed96c73b8d066   \n",
       "\n",
       "   customer_zip_code_prefix          customer_city customer_state  \n",
       "0                     14409                 franca             SP  \n",
       "1                      9790  sao bernardo do campo             SP  \n",
       "2                      1151              sao paulo             SP  \n",
       "3                      8775        mogi das cruzes             SP  \n",
       "4                     13056               campinas             SP  "
      ]
     },
     "execution_count": 14,
     "metadata": {},
     "output_type": "execute_result"
    }
   ],
   "source": [
    "olist_customers_dataset.head()"
   ]
  },
  {
   "cell_type": "code",
   "execution_count": 15,
   "metadata": {},
   "outputs": [
    {
     "data": {
      "text/plain": [
       "(99441, 5)"
      ]
     },
     "execution_count": 15,
     "metadata": {},
     "output_type": "execute_result"
    }
   ],
   "source": [
    "olist_customers_dataset.shape"
   ]
  },
  {
   "cell_type": "code",
   "execution_count": 16,
   "metadata": {},
   "outputs": [
    {
     "data": {
      "text/plain": [
       "False    96096\n",
       "True      3345\n",
       "dtype: int64"
      ]
     },
     "execution_count": 16,
     "metadata": {},
     "output_type": "execute_result"
    }
   ],
   "source": [
    "olist_customers_dataset.duplicated('customer_unique_id',keep='first').value_counts()"
   ]
  },
  {
   "cell_type": "code",
   "execution_count": 17,
   "metadata": {},
   "outputs": [
    {
     "data": {
      "text/plain": [
       "False    99441\n",
       "dtype: int64"
      ]
     },
     "execution_count": 17,
     "metadata": {},
     "output_type": "execute_result"
    }
   ],
   "source": [
    "olist_customers_dataset.duplicated('customer_id',keep='first').value_counts()"
   ]
  },
  {
   "cell_type": "code",
   "execution_count": 18,
   "metadata": {},
   "outputs": [
    {
     "data": {
      "text/plain": [
       "True     84447\n",
       "False    14994\n",
       "dtype: int64"
      ]
     },
     "execution_count": 18,
     "metadata": {},
     "output_type": "execute_result"
    }
   ],
   "source": [
    "olist_customers_dataset.duplicated('customer_zip_code_prefix',keep='first').value_counts()"
   ]
  },
  {
   "cell_type": "markdown",
   "metadata": {},
   "source": [
    "------"
   ]
  },
  {
   "cell_type": "markdown",
   "metadata": {},
   "source": [
    "#### <span style=\"color:red\"> Merge olist_customers_dataset y olist_geolocation_dataset  </span>"
   ]
  },
  {
   "cell_type": "code",
   "execution_count": null,
   "metadata": {},
   "outputs": [],
   "source": [
    "olist_customer_geolocation = olist_customers_dataset.merge(olist_geolocation_dataset, how = 'left', left_on = 'customer_zip_code_prefix', right_on = 'geolocation_zip_code_prefix', validate = 'm:m',indicator = True)"
   ]
  },
  {
   "cell_type": "code",
   "execution_count": null,
   "metadata": {},
   "outputs": [],
   "source": [
    "olist_customer_geolocation['_merge'].value_counts()"
   ]
  },
  {
   "cell_type": "code",
   "execution_count": 400,
   "metadata": {},
   "outputs": [
    {
     "data": {
      "text/plain": [
       "(311796, 7)"
      ]
     },
     "execution_count": 400,
     "metadata": {},
     "output_type": "execute_result"
    }
   ],
   "source": [
    "olist_customer_geolocation.shape"
   ]
  },
  {
   "cell_type": "code",
   "execution_count": 401,
   "metadata": {},
   "outputs": [
    {
     "data": {
      "text/html": [
       "<div>\n",
       "<style scoped>\n",
       "    .dataframe tbody tr th:only-of-type {\n",
       "        vertical-align: middle;\n",
       "    }\n",
       "\n",
       "    .dataframe tbody tr th {\n",
       "        vertical-align: top;\n",
       "    }\n",
       "\n",
       "    .dataframe thead th {\n",
       "        text-align: right;\n",
       "    }\n",
       "</style>\n",
       "<table border=\"1\" class=\"dataframe\">\n",
       "  <thead>\n",
       "    <tr style=\"text-align: right;\">\n",
       "      <th></th>\n",
       "      <th>seller_id</th>\n",
       "      <th>seller_zip_code_prefix</th>\n",
       "      <th>geolocation_zip_code_prefix</th>\n",
       "      <th>geolocation_lat</th>\n",
       "      <th>geolocation_lng</th>\n",
       "      <th>geolocation_city</th>\n",
       "      <th>geolocation_state</th>\n",
       "    </tr>\n",
       "  </thead>\n",
       "  <tbody>\n",
       "    <tr>\n",
       "      <th>0</th>\n",
       "      <td>3442f8959a84dea7ee197c632cb2df15</td>\n",
       "      <td>13023</td>\n",
       "      <td>13023.0</td>\n",
       "      <td>-22.898536</td>\n",
       "      <td>-47.063125</td>\n",
       "      <td>campinas</td>\n",
       "      <td>SP</td>\n",
       "    </tr>\n",
       "    <tr>\n",
       "      <th>1</th>\n",
       "      <td>3442f8959a84dea7ee197c632cb2df15</td>\n",
       "      <td>13023</td>\n",
       "      <td>13023.0</td>\n",
       "      <td>-22.895499</td>\n",
       "      <td>-47.061944</td>\n",
       "      <td>campinas</td>\n",
       "      <td>SP</td>\n",
       "    </tr>\n",
       "    <tr>\n",
       "      <th>2</th>\n",
       "      <td>3442f8959a84dea7ee197c632cb2df15</td>\n",
       "      <td>13023</td>\n",
       "      <td>13023.0</td>\n",
       "      <td>-22.891740</td>\n",
       "      <td>-47.060820</td>\n",
       "      <td>campinas</td>\n",
       "      <td>SP</td>\n",
       "    </tr>\n",
       "    <tr>\n",
       "      <th>3</th>\n",
       "      <td>3442f8959a84dea7ee197c632cb2df15</td>\n",
       "      <td>13023</td>\n",
       "      <td>13023.0</td>\n",
       "      <td>-22.895762</td>\n",
       "      <td>-47.066144</td>\n",
       "      <td>campinas</td>\n",
       "      <td>SP</td>\n",
       "    </tr>\n",
       "    <tr>\n",
       "      <th>4</th>\n",
       "      <td>3442f8959a84dea7ee197c632cb2df15</td>\n",
       "      <td>13023</td>\n",
       "      <td>13023.0</td>\n",
       "      <td>-22.896154</td>\n",
       "      <td>-47.062431</td>\n",
       "      <td>campinas</td>\n",
       "      <td>SP</td>\n",
       "    </tr>\n",
       "  </tbody>\n",
       "</table>\n",
       "</div>"
      ],
      "text/plain": [
       "                          seller_id  seller_zip_code_prefix  \\\n",
       "0  3442f8959a84dea7ee197c632cb2df15                   13023   \n",
       "1  3442f8959a84dea7ee197c632cb2df15                   13023   \n",
       "2  3442f8959a84dea7ee197c632cb2df15                   13023   \n",
       "3  3442f8959a84dea7ee197c632cb2df15                   13023   \n",
       "4  3442f8959a84dea7ee197c632cb2df15                   13023   \n",
       "\n",
       "   geolocation_zip_code_prefix  geolocation_lat  geolocation_lng  \\\n",
       "0                      13023.0       -22.898536       -47.063125   \n",
       "1                      13023.0       -22.895499       -47.061944   \n",
       "2                      13023.0       -22.891740       -47.060820   \n",
       "3                      13023.0       -22.895762       -47.066144   \n",
       "4                      13023.0       -22.896154       -47.062431   \n",
       "\n",
       "  geolocation_city geolocation_state  \n",
       "0         campinas                SP  \n",
       "1         campinas                SP  \n",
       "2         campinas                SP  \n",
       "3         campinas                SP  \n",
       "4         campinas                SP  "
      ]
     },
     "execution_count": 401,
     "metadata": {},
     "output_type": "execute_result"
    }
   ],
   "source": [
    "olist_customer_geolocation.head()"
   ]
  },
  {
   "cell_type": "code",
   "execution_count": 402,
   "metadata": {},
   "outputs": [
    {
     "data": {
      "text/plain": [
       "3095"
      ]
     },
     "execution_count": 402,
     "metadata": {},
     "output_type": "execute_result"
    }
   ],
   "source": [
    "olist_items_dataset['seller_id'].nunique()"
   ]
  },
  {
   "cell_type": "code",
   "execution_count": 403,
   "metadata": {},
   "outputs": [
    {
     "data": {
      "text/plain": [
       "False    311796\n",
       "dtype: int64"
      ]
     },
     "execution_count": 403,
     "metadata": {},
     "output_type": "execute_result"
    }
   ],
   "source": [
    "olist_items_dataset.duplicated(keep='first').value_counts()#"
   ]
  },
  {
   "cell_type": "code",
   "execution_count": 404,
   "metadata": {},
   "outputs": [],
   "source": [
    "del olist_items_dataset['geolocation_zip_code_prefix']"
   ]
  },
  {
   "cell_type": "code",
   "execution_count": 405,
   "metadata": {},
   "outputs": [
    {
     "data": {
      "text/html": [
       "<div>\n",
       "<style scoped>\n",
       "    .dataframe tbody tr th:only-of-type {\n",
       "        vertical-align: middle;\n",
       "    }\n",
       "\n",
       "    .dataframe tbody tr th {\n",
       "        vertical-align: top;\n",
       "    }\n",
       "\n",
       "    .dataframe thead th {\n",
       "        text-align: right;\n",
       "    }\n",
       "</style>\n",
       "<table border=\"1\" class=\"dataframe\">\n",
       "  <thead>\n",
       "    <tr style=\"text-align: right;\">\n",
       "      <th></th>\n",
       "      <th>seller_id</th>\n",
       "      <th>seller_zip_code_prefix</th>\n",
       "      <th>geolocation_lat</th>\n",
       "      <th>geolocation_lng</th>\n",
       "      <th>geolocation_city</th>\n",
       "      <th>geolocation_state</th>\n",
       "    </tr>\n",
       "  </thead>\n",
       "  <tbody>\n",
       "    <tr>\n",
       "      <th>0</th>\n",
       "      <td>3442f8959a84dea7ee197c632cb2df15</td>\n",
       "      <td>13023</td>\n",
       "      <td>-22.898536</td>\n",
       "      <td>-47.063125</td>\n",
       "      <td>campinas</td>\n",
       "      <td>SP</td>\n",
       "    </tr>\n",
       "    <tr>\n",
       "      <th>1</th>\n",
       "      <td>3442f8959a84dea7ee197c632cb2df15</td>\n",
       "      <td>13023</td>\n",
       "      <td>-22.895499</td>\n",
       "      <td>-47.061944</td>\n",
       "      <td>campinas</td>\n",
       "      <td>SP</td>\n",
       "    </tr>\n",
       "    <tr>\n",
       "      <th>2</th>\n",
       "      <td>3442f8959a84dea7ee197c632cb2df15</td>\n",
       "      <td>13023</td>\n",
       "      <td>-22.891740</td>\n",
       "      <td>-47.060820</td>\n",
       "      <td>campinas</td>\n",
       "      <td>SP</td>\n",
       "    </tr>\n",
       "    <tr>\n",
       "      <th>3</th>\n",
       "      <td>3442f8959a84dea7ee197c632cb2df15</td>\n",
       "      <td>13023</td>\n",
       "      <td>-22.895762</td>\n",
       "      <td>-47.066144</td>\n",
       "      <td>campinas</td>\n",
       "      <td>SP</td>\n",
       "    </tr>\n",
       "    <tr>\n",
       "      <th>4</th>\n",
       "      <td>3442f8959a84dea7ee197c632cb2df15</td>\n",
       "      <td>13023</td>\n",
       "      <td>-22.896154</td>\n",
       "      <td>-47.062431</td>\n",
       "      <td>campinas</td>\n",
       "      <td>SP</td>\n",
       "    </tr>\n",
       "  </tbody>\n",
       "</table>\n",
       "</div>"
      ],
      "text/plain": [
       "                          seller_id  seller_zip_code_prefix  geolocation_lat  \\\n",
       "0  3442f8959a84dea7ee197c632cb2df15                   13023       -22.898536   \n",
       "1  3442f8959a84dea7ee197c632cb2df15                   13023       -22.895499   \n",
       "2  3442f8959a84dea7ee197c632cb2df15                   13023       -22.891740   \n",
       "3  3442f8959a84dea7ee197c632cb2df15                   13023       -22.895762   \n",
       "4  3442f8959a84dea7ee197c632cb2df15                   13023       -22.896154   \n",
       "\n",
       "   geolocation_lng geolocation_city geolocation_state  \n",
       "0       -47.063125         campinas                SP  \n",
       "1       -47.061944         campinas                SP  \n",
       "2       -47.060820         campinas                SP  \n",
       "3       -47.066144         campinas                SP  \n",
       "4       -47.062431         campinas                SP  "
      ]
     },
     "execution_count": 405,
     "metadata": {},
     "output_type": "execute_result"
    }
   ],
   "source": [
    "olist_items_dataset.head()"
   ]
  },
  {
   "cell_type": "code",
   "execution_count": 406,
   "metadata": {},
   "outputs": [],
   "source": [
    "group_olist_items_dataset = olist_items_dataset.groupby(['seller_id']).agg({'seller_zip_code_prefix':'first',\n",
    "                                                                            'geolocation_lat': 'mean',\n",
    "                                                                            'geolocation_lng':'mean',\n",
    "                                                                            'geolocation_city':'first',\n",
    "                                                                            'geolocation_state':'first'}).reset_index()"
   ]
  },
  {
   "cell_type": "code",
   "execution_count": 407,
   "metadata": {},
   "outputs": [
    {
     "data": {
      "text/html": [
       "<div>\n",
       "<style scoped>\n",
       "    .dataframe tbody tr th:only-of-type {\n",
       "        vertical-align: middle;\n",
       "    }\n",
       "\n",
       "    .dataframe tbody tr th {\n",
       "        vertical-align: top;\n",
       "    }\n",
       "\n",
       "    .dataframe thead th {\n",
       "        text-align: right;\n",
       "    }\n",
       "</style>\n",
       "<table border=\"1\" class=\"dataframe\">\n",
       "  <thead>\n",
       "    <tr style=\"text-align: right;\">\n",
       "      <th></th>\n",
       "      <th>seller_id</th>\n",
       "      <th>seller_zip_code_prefix</th>\n",
       "      <th>geolocation_lat</th>\n",
       "      <th>geolocation_lng</th>\n",
       "      <th>geolocation_city</th>\n",
       "      <th>geolocation_state</th>\n",
       "    </tr>\n",
       "  </thead>\n",
       "  <tbody>\n",
       "    <tr>\n",
       "      <th>0</th>\n",
       "      <td>0015a82c2db000af6aaaf3ae2ecb0532</td>\n",
       "      <td>9080</td>\n",
       "      <td>-23.640202</td>\n",
       "      <td>-46.542079</td>\n",
       "      <td>santo andre</td>\n",
       "      <td>SP</td>\n",
       "    </tr>\n",
       "    <tr>\n",
       "      <th>1</th>\n",
       "      <td>001cca7ae9ae17fb1caed9dfb1094831</td>\n",
       "      <td>29156</td>\n",
       "      <td>-20.279224</td>\n",
       "      <td>-40.411514</td>\n",
       "      <td>cariacica</td>\n",
       "      <td>ES</td>\n",
       "    </tr>\n",
       "    <tr>\n",
       "      <th>2</th>\n",
       "      <td>001e6ad469a905060d959994f1b41e4f</td>\n",
       "      <td>24754</td>\n",
       "      <td>-22.872033</td>\n",
       "      <td>-43.027441</td>\n",
       "      <td>sao goncalo</td>\n",
       "      <td>RJ</td>\n",
       "    </tr>\n",
       "    <tr>\n",
       "      <th>3</th>\n",
       "      <td>002100f778ceb8431b7a1020ff7ab48f</td>\n",
       "      <td>14405</td>\n",
       "      <td>-20.528419</td>\n",
       "      <td>-47.411287</td>\n",
       "      <td>franca</td>\n",
       "      <td>SP</td>\n",
       "    </tr>\n",
       "    <tr>\n",
       "      <th>4</th>\n",
       "      <td>003554e2dce176b5555353e4f3555ac8</td>\n",
       "      <td>74565</td>\n",
       "      <td>-16.638282</td>\n",
       "      <td>-49.280909</td>\n",
       "      <td>goiania</td>\n",
       "      <td>GO</td>\n",
       "    </tr>\n",
       "  </tbody>\n",
       "</table>\n",
       "</div>"
      ],
      "text/plain": [
       "                          seller_id  seller_zip_code_prefix  geolocation_lat  \\\n",
       "0  0015a82c2db000af6aaaf3ae2ecb0532                    9080       -23.640202   \n",
       "1  001cca7ae9ae17fb1caed9dfb1094831                   29156       -20.279224   \n",
       "2  001e6ad469a905060d959994f1b41e4f                   24754       -22.872033   \n",
       "3  002100f778ceb8431b7a1020ff7ab48f                   14405       -20.528419   \n",
       "4  003554e2dce176b5555353e4f3555ac8                   74565       -16.638282   \n",
       "\n",
       "   geolocation_lng geolocation_city geolocation_state  \n",
       "0       -46.542079      santo andre                SP  \n",
       "1       -40.411514        cariacica                ES  \n",
       "2       -43.027441      sao goncalo                RJ  \n",
       "3       -47.411287           franca                SP  \n",
       "4       -49.280909          goiania                GO  "
      ]
     },
     "execution_count": 407,
     "metadata": {},
     "output_type": "execute_result"
    }
   ],
   "source": [
    "group_olist_items_dataset.head()"
   ]
  },
  {
   "cell_type": "code",
   "execution_count": 408,
   "metadata": {},
   "outputs": [
    {
     "data": {
      "text/plain": [
       "(3095, 6)"
      ]
     },
     "execution_count": 408,
     "metadata": {},
     "output_type": "execute_result"
    }
   ],
   "source": [
    "group_olist_items_dataset.shape"
   ]
  },
  {
   "cell_type": "code",
   "execution_count": 409,
   "metadata": {},
   "outputs": [],
   "source": [
    "olist_items_dataset = group_olist_items_dataset.iloc[:,:].copy()"
   ]
  },
  {
   "cell_type": "code",
   "execution_count": null,
   "metadata": {},
   "outputs": [],
   "source": []
  },
  {
   "cell_type": "markdown",
   "metadata": {},
   "source": [
    "-----"
   ]
  },
  {
   "cell_type": "markdown",
   "metadata": {},
   "source": [
    "#### olist_orders_dataset"
   ]
  },
  {
   "cell_type": "code",
   "execution_count": 3,
   "metadata": {},
   "outputs": [],
   "source": [
    "olist_orders_dataset = pd.read_csv('olist_orders_dataset.csv')"
   ]
  },
  {
   "cell_type": "code",
   "execution_count": 4,
   "metadata": {},
   "outputs": [
    {
     "data": {
      "text/html": [
       "<div>\n",
       "<style scoped>\n",
       "    .dataframe tbody tr th:only-of-type {\n",
       "        vertical-align: middle;\n",
       "    }\n",
       "\n",
       "    .dataframe tbody tr th {\n",
       "        vertical-align: top;\n",
       "    }\n",
       "\n",
       "    .dataframe thead th {\n",
       "        text-align: right;\n",
       "    }\n",
       "</style>\n",
       "<table border=\"1\" class=\"dataframe\">\n",
       "  <thead>\n",
       "    <tr style=\"text-align: right;\">\n",
       "      <th></th>\n",
       "      <th>order_id</th>\n",
       "      <th>customer_id</th>\n",
       "      <th>order_status</th>\n",
       "      <th>order_purchase_timestamp</th>\n",
       "      <th>order_approved_at</th>\n",
       "      <th>order_delivered_carrier_date</th>\n",
       "      <th>order_delivered_customer_date</th>\n",
       "      <th>order_estimated_delivery_date</th>\n",
       "    </tr>\n",
       "  </thead>\n",
       "  <tbody>\n",
       "    <tr>\n",
       "      <th>0</th>\n",
       "      <td>e481f51cbdc54678b7cc49136f2d6af7</td>\n",
       "      <td>9ef432eb6251297304e76186b10a928d</td>\n",
       "      <td>delivered</td>\n",
       "      <td>2017-10-02 10:56:33</td>\n",
       "      <td>2017-10-02 11:07:15</td>\n",
       "      <td>2017-10-04 19:55:00</td>\n",
       "      <td>2017-10-10 21:25:13</td>\n",
       "      <td>2017-10-18 00:00:00</td>\n",
       "    </tr>\n",
       "    <tr>\n",
       "      <th>1</th>\n",
       "      <td>53cdb2fc8bc7dce0b6741e2150273451</td>\n",
       "      <td>b0830fb4747a6c6d20dea0b8c802d7ef</td>\n",
       "      <td>delivered</td>\n",
       "      <td>2018-07-24 20:41:37</td>\n",
       "      <td>2018-07-26 03:24:27</td>\n",
       "      <td>2018-07-26 14:31:00</td>\n",
       "      <td>2018-08-07 15:27:45</td>\n",
       "      <td>2018-08-13 00:00:00</td>\n",
       "    </tr>\n",
       "    <tr>\n",
       "      <th>2</th>\n",
       "      <td>47770eb9100c2d0c44946d9cf07ec65d</td>\n",
       "      <td>41ce2a54c0b03bf3443c3d931a367089</td>\n",
       "      <td>delivered</td>\n",
       "      <td>2018-08-08 08:38:49</td>\n",
       "      <td>2018-08-08 08:55:23</td>\n",
       "      <td>2018-08-08 13:50:00</td>\n",
       "      <td>2018-08-17 18:06:29</td>\n",
       "      <td>2018-09-04 00:00:00</td>\n",
       "    </tr>\n",
       "    <tr>\n",
       "      <th>3</th>\n",
       "      <td>949d5b44dbf5de918fe9c16f97b45f8a</td>\n",
       "      <td>f88197465ea7920adcdbec7375364d82</td>\n",
       "      <td>delivered</td>\n",
       "      <td>2017-11-18 19:28:06</td>\n",
       "      <td>2017-11-18 19:45:59</td>\n",
       "      <td>2017-11-22 13:39:59</td>\n",
       "      <td>2017-12-02 00:28:42</td>\n",
       "      <td>2017-12-15 00:00:00</td>\n",
       "    </tr>\n",
       "    <tr>\n",
       "      <th>4</th>\n",
       "      <td>ad21c59c0840e6cb83a9ceb5573f8159</td>\n",
       "      <td>8ab97904e6daea8866dbdbc4fb7aad2c</td>\n",
       "      <td>delivered</td>\n",
       "      <td>2018-02-13 21:18:39</td>\n",
       "      <td>2018-02-13 22:20:29</td>\n",
       "      <td>2018-02-14 19:46:34</td>\n",
       "      <td>2018-02-16 18:17:02</td>\n",
       "      <td>2018-02-26 00:00:00</td>\n",
       "    </tr>\n",
       "  </tbody>\n",
       "</table>\n",
       "</div>"
      ],
      "text/plain": [
       "                           order_id                       customer_id  \\\n",
       "0  e481f51cbdc54678b7cc49136f2d6af7  9ef432eb6251297304e76186b10a928d   \n",
       "1  53cdb2fc8bc7dce0b6741e2150273451  b0830fb4747a6c6d20dea0b8c802d7ef   \n",
       "2  47770eb9100c2d0c44946d9cf07ec65d  41ce2a54c0b03bf3443c3d931a367089   \n",
       "3  949d5b44dbf5de918fe9c16f97b45f8a  f88197465ea7920adcdbec7375364d82   \n",
       "4  ad21c59c0840e6cb83a9ceb5573f8159  8ab97904e6daea8866dbdbc4fb7aad2c   \n",
       "\n",
       "  order_status order_purchase_timestamp    order_approved_at  \\\n",
       "0    delivered      2017-10-02 10:56:33  2017-10-02 11:07:15   \n",
       "1    delivered      2018-07-24 20:41:37  2018-07-26 03:24:27   \n",
       "2    delivered      2018-08-08 08:38:49  2018-08-08 08:55:23   \n",
       "3    delivered      2017-11-18 19:28:06  2017-11-18 19:45:59   \n",
       "4    delivered      2018-02-13 21:18:39  2018-02-13 22:20:29   \n",
       "\n",
       "  order_delivered_carrier_date order_delivered_customer_date  \\\n",
       "0          2017-10-04 19:55:00           2017-10-10 21:25:13   \n",
       "1          2018-07-26 14:31:00           2018-08-07 15:27:45   \n",
       "2          2018-08-08 13:50:00           2018-08-17 18:06:29   \n",
       "3          2017-11-22 13:39:59           2017-12-02 00:28:42   \n",
       "4          2018-02-14 19:46:34           2018-02-16 18:17:02   \n",
       "\n",
       "  order_estimated_delivery_date  \n",
       "0           2017-10-18 00:00:00  \n",
       "1           2018-08-13 00:00:00  \n",
       "2           2018-09-04 00:00:00  \n",
       "3           2017-12-15 00:00:00  \n",
       "4           2018-02-26 00:00:00  "
      ]
     },
     "execution_count": 4,
     "metadata": {},
     "output_type": "execute_result"
    }
   ],
   "source": [
    "olist_orders_dataset.head()"
   ]
  },
  {
   "cell_type": "code",
   "execution_count": 5,
   "metadata": {},
   "outputs": [
    {
     "data": {
      "text/plain": [
       "(99441, 8)"
      ]
     },
     "execution_count": 5,
     "metadata": {},
     "output_type": "execute_result"
    }
   ],
   "source": [
    "olist_orders_dataset.shape"
   ]
  },
  {
   "cell_type": "code",
   "execution_count": 6,
   "metadata": {},
   "outputs": [
    {
     "data": {
      "text/plain": [
       "99441"
      ]
     },
     "execution_count": 6,
     "metadata": {},
     "output_type": "execute_result"
    }
   ],
   "source": [
    "len(olist_orders_dataset['order_id'].unique())"
   ]
  },
  {
   "cell_type": "code",
   "execution_count": 7,
   "metadata": {},
   "outputs": [
    {
     "data": {
      "text/plain": [
       "99441"
      ]
     },
     "execution_count": 7,
     "metadata": {},
     "output_type": "execute_result"
    }
   ],
   "source": [
    "len(olist_orders_dataset['customer_id'].unique())"
   ]
  },
  {
   "cell_type": "code",
   "execution_count": null,
   "metadata": {},
   "outputs": [],
   "source": []
  },
  {
   "cell_type": "code",
   "execution_count": null,
   "metadata": {},
   "outputs": [],
   "source": []
  },
  {
   "cell_type": "markdown",
   "metadata": {},
   "source": [
    "#### <span style=\"color:red\"> Merge olist_orders_dataset y olist_customers_dataset </span>"
   ]
  },
  {
   "cell_type": "code",
   "execution_count": 13,
   "metadata": {},
   "outputs": [],
   "source": [
    "olist_dataset = olist_orders_dataset.merge(olist_customers_dataset, on = 'customer_id', how = 'left', validate = '1:1')"
   ]
  },
  {
   "cell_type": "code",
   "execution_count": 14,
   "metadata": {},
   "outputs": [
    {
     "data": {
      "text/html": [
       "<div>\n",
       "<style scoped>\n",
       "    .dataframe tbody tr th:only-of-type {\n",
       "        vertical-align: middle;\n",
       "    }\n",
       "\n",
       "    .dataframe tbody tr th {\n",
       "        vertical-align: top;\n",
       "    }\n",
       "\n",
       "    .dataframe thead th {\n",
       "        text-align: right;\n",
       "    }\n",
       "</style>\n",
       "<table border=\"1\" class=\"dataframe\">\n",
       "  <thead>\n",
       "    <tr style=\"text-align: right;\">\n",
       "      <th></th>\n",
       "      <th>order_id</th>\n",
       "      <th>customer_id</th>\n",
       "      <th>order_status</th>\n",
       "      <th>order_purchase_timestamp</th>\n",
       "      <th>order_approved_at</th>\n",
       "      <th>order_delivered_carrier_date</th>\n",
       "      <th>order_delivered_customer_date</th>\n",
       "      <th>order_estimated_delivery_date</th>\n",
       "      <th>customer_unique_id</th>\n",
       "      <th>customer_zip_code_prefix</th>\n",
       "      <th>customer_city</th>\n",
       "      <th>customer_state</th>\n",
       "    </tr>\n",
       "  </thead>\n",
       "  <tbody>\n",
       "    <tr>\n",
       "      <th>0</th>\n",
       "      <td>e481f51cbdc54678b7cc49136f2d6af7</td>\n",
       "      <td>9ef432eb6251297304e76186b10a928d</td>\n",
       "      <td>delivered</td>\n",
       "      <td>2017-10-02 10:56:33</td>\n",
       "      <td>2017-10-02 11:07:15</td>\n",
       "      <td>2017-10-04 19:55:00</td>\n",
       "      <td>2017-10-10 21:25:13</td>\n",
       "      <td>2017-10-18 00:00:00</td>\n",
       "      <td>7c396fd4830fd04220f754e42b4e5bff</td>\n",
       "      <td>3149</td>\n",
       "      <td>sao paulo</td>\n",
       "      <td>SP</td>\n",
       "    </tr>\n",
       "    <tr>\n",
       "      <th>1</th>\n",
       "      <td>53cdb2fc8bc7dce0b6741e2150273451</td>\n",
       "      <td>b0830fb4747a6c6d20dea0b8c802d7ef</td>\n",
       "      <td>delivered</td>\n",
       "      <td>2018-07-24 20:41:37</td>\n",
       "      <td>2018-07-26 03:24:27</td>\n",
       "      <td>2018-07-26 14:31:00</td>\n",
       "      <td>2018-08-07 15:27:45</td>\n",
       "      <td>2018-08-13 00:00:00</td>\n",
       "      <td>af07308b275d755c9edb36a90c618231</td>\n",
       "      <td>47813</td>\n",
       "      <td>barreiras</td>\n",
       "      <td>BA</td>\n",
       "    </tr>\n",
       "    <tr>\n",
       "      <th>2</th>\n",
       "      <td>47770eb9100c2d0c44946d9cf07ec65d</td>\n",
       "      <td>41ce2a54c0b03bf3443c3d931a367089</td>\n",
       "      <td>delivered</td>\n",
       "      <td>2018-08-08 08:38:49</td>\n",
       "      <td>2018-08-08 08:55:23</td>\n",
       "      <td>2018-08-08 13:50:00</td>\n",
       "      <td>2018-08-17 18:06:29</td>\n",
       "      <td>2018-09-04 00:00:00</td>\n",
       "      <td>3a653a41f6f9fc3d2a113cf8398680e8</td>\n",
       "      <td>75265</td>\n",
       "      <td>vianopolis</td>\n",
       "      <td>GO</td>\n",
       "    </tr>\n",
       "    <tr>\n",
       "      <th>3</th>\n",
       "      <td>949d5b44dbf5de918fe9c16f97b45f8a</td>\n",
       "      <td>f88197465ea7920adcdbec7375364d82</td>\n",
       "      <td>delivered</td>\n",
       "      <td>2017-11-18 19:28:06</td>\n",
       "      <td>2017-11-18 19:45:59</td>\n",
       "      <td>2017-11-22 13:39:59</td>\n",
       "      <td>2017-12-02 00:28:42</td>\n",
       "      <td>2017-12-15 00:00:00</td>\n",
       "      <td>7c142cf63193a1473d2e66489a9ae977</td>\n",
       "      <td>59296</td>\n",
       "      <td>sao goncalo do amarante</td>\n",
       "      <td>RN</td>\n",
       "    </tr>\n",
       "    <tr>\n",
       "      <th>4</th>\n",
       "      <td>ad21c59c0840e6cb83a9ceb5573f8159</td>\n",
       "      <td>8ab97904e6daea8866dbdbc4fb7aad2c</td>\n",
       "      <td>delivered</td>\n",
       "      <td>2018-02-13 21:18:39</td>\n",
       "      <td>2018-02-13 22:20:29</td>\n",
       "      <td>2018-02-14 19:46:34</td>\n",
       "      <td>2018-02-16 18:17:02</td>\n",
       "      <td>2018-02-26 00:00:00</td>\n",
       "      <td>72632f0f9dd73dfee390c9b22eb56dd6</td>\n",
       "      <td>9195</td>\n",
       "      <td>santo andre</td>\n",
       "      <td>SP</td>\n",
       "    </tr>\n",
       "  </tbody>\n",
       "</table>\n",
       "</div>"
      ],
      "text/plain": [
       "                           order_id                       customer_id  \\\n",
       "0  e481f51cbdc54678b7cc49136f2d6af7  9ef432eb6251297304e76186b10a928d   \n",
       "1  53cdb2fc8bc7dce0b6741e2150273451  b0830fb4747a6c6d20dea0b8c802d7ef   \n",
       "2  47770eb9100c2d0c44946d9cf07ec65d  41ce2a54c0b03bf3443c3d931a367089   \n",
       "3  949d5b44dbf5de918fe9c16f97b45f8a  f88197465ea7920adcdbec7375364d82   \n",
       "4  ad21c59c0840e6cb83a9ceb5573f8159  8ab97904e6daea8866dbdbc4fb7aad2c   \n",
       "\n",
       "  order_status order_purchase_timestamp    order_approved_at  \\\n",
       "0    delivered      2017-10-02 10:56:33  2017-10-02 11:07:15   \n",
       "1    delivered      2018-07-24 20:41:37  2018-07-26 03:24:27   \n",
       "2    delivered      2018-08-08 08:38:49  2018-08-08 08:55:23   \n",
       "3    delivered      2017-11-18 19:28:06  2017-11-18 19:45:59   \n",
       "4    delivered      2018-02-13 21:18:39  2018-02-13 22:20:29   \n",
       "\n",
       "  order_delivered_carrier_date order_delivered_customer_date  \\\n",
       "0          2017-10-04 19:55:00           2017-10-10 21:25:13   \n",
       "1          2018-07-26 14:31:00           2018-08-07 15:27:45   \n",
       "2          2018-08-08 13:50:00           2018-08-17 18:06:29   \n",
       "3          2017-11-22 13:39:59           2017-12-02 00:28:42   \n",
       "4          2018-02-14 19:46:34           2018-02-16 18:17:02   \n",
       "\n",
       "  order_estimated_delivery_date                customer_unique_id  \\\n",
       "0           2017-10-18 00:00:00  7c396fd4830fd04220f754e42b4e5bff   \n",
       "1           2018-08-13 00:00:00  af07308b275d755c9edb36a90c618231   \n",
       "2           2018-09-04 00:00:00  3a653a41f6f9fc3d2a113cf8398680e8   \n",
       "3           2017-12-15 00:00:00  7c142cf63193a1473d2e66489a9ae977   \n",
       "4           2018-02-26 00:00:00  72632f0f9dd73dfee390c9b22eb56dd6   \n",
       "\n",
       "   customer_zip_code_prefix            customer_city customer_state  \n",
       "0                      3149                sao paulo             SP  \n",
       "1                     47813                barreiras             BA  \n",
       "2                     75265               vianopolis             GO  \n",
       "3                     59296  sao goncalo do amarante             RN  \n",
       "4                      9195              santo andre             SP  "
      ]
     },
     "execution_count": 14,
     "metadata": {},
     "output_type": "execute_result"
    }
   ],
   "source": [
    "olist_dataset.head()"
   ]
  },
  {
   "cell_type": "code",
   "execution_count": 15,
   "metadata": {},
   "outputs": [
    {
     "data": {
      "text/plain": [
       "(99441, 12)"
      ]
     },
     "execution_count": 15,
     "metadata": {},
     "output_type": "execute_result"
    }
   ],
   "source": [
    "olist_dataset.shape"
   ]
  },
  {
   "cell_type": "markdown",
   "metadata": {},
   "source": [
    "#### olist_order_reviews_dataset"
   ]
  },
  {
   "cell_type": "code",
   "execution_count": 16,
   "metadata": {},
   "outputs": [],
   "source": [
    "olist_order_reviews_dataset = pd.read_csv('olist_order_reviews_dataset.csv')"
   ]
  },
  {
   "cell_type": "code",
   "execution_count": 17,
   "metadata": {},
   "outputs": [
    {
     "data": {
      "text/html": [
       "<div>\n",
       "<style scoped>\n",
       "    .dataframe tbody tr th:only-of-type {\n",
       "        vertical-align: middle;\n",
       "    }\n",
       "\n",
       "    .dataframe tbody tr th {\n",
       "        vertical-align: top;\n",
       "    }\n",
       "\n",
       "    .dataframe thead th {\n",
       "        text-align: right;\n",
       "    }\n",
       "</style>\n",
       "<table border=\"1\" class=\"dataframe\">\n",
       "  <thead>\n",
       "    <tr style=\"text-align: right;\">\n",
       "      <th></th>\n",
       "      <th>review_id</th>\n",
       "      <th>order_id</th>\n",
       "      <th>review_score</th>\n",
       "      <th>review_comment_title</th>\n",
       "      <th>review_comment_message</th>\n",
       "      <th>review_creation_date</th>\n",
       "      <th>review_answer_timestamp</th>\n",
       "    </tr>\n",
       "  </thead>\n",
       "  <tbody>\n",
       "    <tr>\n",
       "      <th>0</th>\n",
       "      <td>7bc2406110b926393aa56f80a40eba40</td>\n",
       "      <td>73fc7af87114b39712e6da79b0a377eb</td>\n",
       "      <td>4</td>\n",
       "      <td>NaN</td>\n",
       "      <td>NaN</td>\n",
       "      <td>2018-01-18 00:00:00</td>\n",
       "      <td>2018-01-18 21:46:59</td>\n",
       "    </tr>\n",
       "    <tr>\n",
       "      <th>1</th>\n",
       "      <td>80e641a11e56f04c1ad469d5645fdfde</td>\n",
       "      <td>a548910a1c6147796b98fdf73dbeba33</td>\n",
       "      <td>5</td>\n",
       "      <td>NaN</td>\n",
       "      <td>NaN</td>\n",
       "      <td>2018-03-10 00:00:00</td>\n",
       "      <td>2018-03-11 03:05:13</td>\n",
       "    </tr>\n",
       "    <tr>\n",
       "      <th>2</th>\n",
       "      <td>228ce5500dc1d8e020d8d1322874b6f0</td>\n",
       "      <td>f9e4b658b201a9f2ecdecbb34bed034b</td>\n",
       "      <td>5</td>\n",
       "      <td>NaN</td>\n",
       "      <td>NaN</td>\n",
       "      <td>2018-02-17 00:00:00</td>\n",
       "      <td>2018-02-18 14:36:24</td>\n",
       "    </tr>\n",
       "    <tr>\n",
       "      <th>3</th>\n",
       "      <td>e64fb393e7b32834bb789ff8bb30750e</td>\n",
       "      <td>658677c97b385a9be170737859d3511b</td>\n",
       "      <td>5</td>\n",
       "      <td>NaN</td>\n",
       "      <td>Recebi bem antes do prazo estipulado.</td>\n",
       "      <td>2017-04-21 00:00:00</td>\n",
       "      <td>2017-04-21 22:02:06</td>\n",
       "    </tr>\n",
       "    <tr>\n",
       "      <th>4</th>\n",
       "      <td>f7c4243c7fe1938f181bec41a392bdeb</td>\n",
       "      <td>8e6bfb81e283fa7e4f11123a3fb894f1</td>\n",
       "      <td>5</td>\n",
       "      <td>NaN</td>\n",
       "      <td>Parabéns lojas lannister adorei comprar pela I...</td>\n",
       "      <td>2018-03-01 00:00:00</td>\n",
       "      <td>2018-03-02 10:26:53</td>\n",
       "    </tr>\n",
       "  </tbody>\n",
       "</table>\n",
       "</div>"
      ],
      "text/plain": [
       "                          review_id                          order_id  \\\n",
       "0  7bc2406110b926393aa56f80a40eba40  73fc7af87114b39712e6da79b0a377eb   \n",
       "1  80e641a11e56f04c1ad469d5645fdfde  a548910a1c6147796b98fdf73dbeba33   \n",
       "2  228ce5500dc1d8e020d8d1322874b6f0  f9e4b658b201a9f2ecdecbb34bed034b   \n",
       "3  e64fb393e7b32834bb789ff8bb30750e  658677c97b385a9be170737859d3511b   \n",
       "4  f7c4243c7fe1938f181bec41a392bdeb  8e6bfb81e283fa7e4f11123a3fb894f1   \n",
       "\n",
       "   review_score review_comment_title  \\\n",
       "0             4                  NaN   \n",
       "1             5                  NaN   \n",
       "2             5                  NaN   \n",
       "3             5                  NaN   \n",
       "4             5                  NaN   \n",
       "\n",
       "                              review_comment_message review_creation_date  \\\n",
       "0                                                NaN  2018-01-18 00:00:00   \n",
       "1                                                NaN  2018-03-10 00:00:00   \n",
       "2                                                NaN  2018-02-17 00:00:00   \n",
       "3              Recebi bem antes do prazo estipulado.  2017-04-21 00:00:00   \n",
       "4  Parabéns lojas lannister adorei comprar pela I...  2018-03-01 00:00:00   \n",
       "\n",
       "  review_answer_timestamp  \n",
       "0     2018-01-18 21:46:59  \n",
       "1     2018-03-11 03:05:13  \n",
       "2     2018-02-18 14:36:24  \n",
       "3     2017-04-21 22:02:06  \n",
       "4     2018-03-02 10:26:53  "
      ]
     },
     "execution_count": 17,
     "metadata": {},
     "output_type": "execute_result"
    }
   ],
   "source": [
    "olist_order_reviews_dataset.head()"
   ]
  },
  {
   "cell_type": "code",
   "execution_count": 18,
   "metadata": {},
   "outputs": [
    {
     "data": {
      "text/plain": [
       "(100000, 7)"
      ]
     },
     "execution_count": 18,
     "metadata": {},
     "output_type": "execute_result"
    }
   ],
   "source": [
    "olist_order_reviews_dataset.shape"
   ]
  },
  {
   "cell_type": "code",
   "execution_count": 19,
   "metadata": {},
   "outputs": [
    {
     "data": {
      "text/plain": [
       "False    100000\n",
       "dtype: int64"
      ]
     },
     "execution_count": 19,
     "metadata": {},
     "output_type": "execute_result"
    }
   ],
   "source": [
    "olist_order_reviews_dataset.duplicated(keep='first').value_counts()"
   ]
  },
  {
   "cell_type": "code",
   "execution_count": 20,
   "metadata": {},
   "outputs": [
    {
     "data": {
      "text/plain": [
       "99173"
      ]
     },
     "execution_count": 20,
     "metadata": {},
     "output_type": "execute_result"
    }
   ],
   "source": [
    "len(olist_order_reviews_dataset['review_id'].unique())"
   ]
  },
  {
   "cell_type": "code",
   "execution_count": 21,
   "metadata": {},
   "outputs": [
    {
     "data": {
      "text/plain": [
       "99441"
      ]
     },
     "execution_count": 21,
     "metadata": {},
     "output_type": "execute_result"
    }
   ],
   "source": [
    "len(olist_order_reviews_dataset['order_id'].unique())"
   ]
  },
  {
   "cell_type": "code",
   "execution_count": 22,
   "metadata": {
    "scrolled": true
   },
   "outputs": [
    {
     "data": {
      "text/plain": [
       "c88b1d1b157a9999ce368f218a407141    3\n",
       "df56136b8031ecd28e200bb18e6ddb2e    3\n",
       "8e17072ec97ce29f0e1f111e598b0c85    3\n",
       "03c939fd7fd3b38f8485a0f95798f1f6    3\n",
       "b798fc527c548bfa5f069b5b29195275    2\n",
       "Name: order_id, dtype: int64"
      ]
     },
     "execution_count": 22,
     "metadata": {},
     "output_type": "execute_result"
    }
   ],
   "source": [
    "olist_order_reviews_dataset['order_id'].value_counts().head()"
   ]
  },
  {
   "cell_type": "code",
   "execution_count": 23,
   "metadata": {
    "scrolled": false
   },
   "outputs": [
    {
     "data": {
      "text/html": [
       "<div>\n",
       "<style scoped>\n",
       "    .dataframe tbody tr th:only-of-type {\n",
       "        vertical-align: middle;\n",
       "    }\n",
       "\n",
       "    .dataframe tbody tr th {\n",
       "        vertical-align: top;\n",
       "    }\n",
       "\n",
       "    .dataframe thead th {\n",
       "        text-align: right;\n",
       "    }\n",
       "</style>\n",
       "<table border=\"1\" class=\"dataframe\">\n",
       "  <thead>\n",
       "    <tr style=\"text-align: right;\">\n",
       "      <th></th>\n",
       "      <th>review_id</th>\n",
       "      <th>order_id</th>\n",
       "      <th>review_score</th>\n",
       "      <th>review_comment_title</th>\n",
       "      <th>review_comment_message</th>\n",
       "      <th>review_creation_date</th>\n",
       "      <th>review_answer_timestamp</th>\n",
       "    </tr>\n",
       "  </thead>\n",
       "  <tbody>\n",
       "    <tr>\n",
       "      <th>8329</th>\n",
       "      <td>b04ed893318da5b863e878cd3d0511df</td>\n",
       "      <td>03c939fd7fd3b38f8485a0f95798f1f6</td>\n",
       "      <td>3</td>\n",
       "      <td>NaN</td>\n",
       "      <td>Um ponto negativo que achei foi a cobrança de ...</td>\n",
       "      <td>2018-03-20 00:00:00</td>\n",
       "      <td>2018-03-21 02:28:23</td>\n",
       "    </tr>\n",
       "    <tr>\n",
       "      <th>51931</th>\n",
       "      <td>f4bb9d6dd4fb6dcc2298f0e7b17b8e1e</td>\n",
       "      <td>03c939fd7fd3b38f8485a0f95798f1f6</td>\n",
       "      <td>4</td>\n",
       "      <td>NaN</td>\n",
       "      <td>NaN</td>\n",
       "      <td>2018-03-29 00:00:00</td>\n",
       "      <td>2018-03-30 00:29:09</td>\n",
       "    </tr>\n",
       "    <tr>\n",
       "      <th>70005</th>\n",
       "      <td>405eb2ea45e1dbe2662541ae5b47e2aa</td>\n",
       "      <td>03c939fd7fd3b38f8485a0f95798f1f6</td>\n",
       "      <td>3</td>\n",
       "      <td>NaN</td>\n",
       "      <td>Seria ótimo se tivesem entregue os 3 (três) pe...</td>\n",
       "      <td>2018-03-06 00:00:00</td>\n",
       "      <td>2018-03-06 19:50:32</td>\n",
       "    </tr>\n",
       "  </tbody>\n",
       "</table>\n",
       "</div>"
      ],
      "text/plain": [
       "                              review_id                          order_id  \\\n",
       "8329   b04ed893318da5b863e878cd3d0511df  03c939fd7fd3b38f8485a0f95798f1f6   \n",
       "51931  f4bb9d6dd4fb6dcc2298f0e7b17b8e1e  03c939fd7fd3b38f8485a0f95798f1f6   \n",
       "70005  405eb2ea45e1dbe2662541ae5b47e2aa  03c939fd7fd3b38f8485a0f95798f1f6   \n",
       "\n",
       "       review_score review_comment_title  \\\n",
       "8329              3                  NaN   \n",
       "51931             4                  NaN   \n",
       "70005             3                  NaN   \n",
       "\n",
       "                                  review_comment_message review_creation_date  \\\n",
       "8329   Um ponto negativo que achei foi a cobrança de ...  2018-03-20 00:00:00   \n",
       "51931                                                NaN  2018-03-29 00:00:00   \n",
       "70005  Seria ótimo se tivesem entregue os 3 (três) pe...  2018-03-06 00:00:00   \n",
       "\n",
       "      review_answer_timestamp  \n",
       "8329      2018-03-21 02:28:23  \n",
       "51931     2018-03-30 00:29:09  \n",
       "70005     2018-03-06 19:50:32  "
      ]
     },
     "execution_count": 23,
     "metadata": {},
     "output_type": "execute_result"
    }
   ],
   "source": [
    "olist_order_reviews_dataset[olist_order_reviews_dataset['order_id'] == '03c939fd7fd3b38f8485a0f95798f1f6']"
   ]
  },
  {
   "cell_type": "markdown",
   "metadata": {},
   "source": [
    "Después de una rápida inspección llego, dado que el ideal es que ``order_id`` sea único, lo mejor es para cada orden escoger sólo el comentario que tenga un contenido más largo"
   ]
  },
  {
   "cell_type": "code",
   "execution_count": 24,
   "metadata": {},
   "outputs": [],
   "source": [
    "olist_order_reviews_dataset['def_null_content_review'] = pd.isnull(olist_order_reviews_dataset['review_comment_message'])"
   ]
  },
  {
   "cell_type": "code",
   "execution_count": 25,
   "metadata": {},
   "outputs": [
    {
     "data": {
      "text/html": [
       "<div>\n",
       "<style scoped>\n",
       "    .dataframe tbody tr th:only-of-type {\n",
       "        vertical-align: middle;\n",
       "    }\n",
       "\n",
       "    .dataframe tbody tr th {\n",
       "        vertical-align: top;\n",
       "    }\n",
       "\n",
       "    .dataframe thead th {\n",
       "        text-align: right;\n",
       "    }\n",
       "</style>\n",
       "<table border=\"1\" class=\"dataframe\">\n",
       "  <thead>\n",
       "    <tr style=\"text-align: right;\">\n",
       "      <th></th>\n",
       "      <th>review_id</th>\n",
       "      <th>order_id</th>\n",
       "      <th>review_score</th>\n",
       "      <th>review_comment_title</th>\n",
       "      <th>review_comment_message</th>\n",
       "      <th>review_creation_date</th>\n",
       "      <th>review_answer_timestamp</th>\n",
       "      <th>def_null_content_review</th>\n",
       "    </tr>\n",
       "  </thead>\n",
       "  <tbody>\n",
       "    <tr>\n",
       "      <th>0</th>\n",
       "      <td>7bc2406110b926393aa56f80a40eba40</td>\n",
       "      <td>73fc7af87114b39712e6da79b0a377eb</td>\n",
       "      <td>4</td>\n",
       "      <td>NaN</td>\n",
       "      <td>NaN</td>\n",
       "      <td>2018-01-18 00:00:00</td>\n",
       "      <td>2018-01-18 21:46:59</td>\n",
       "      <td>True</td>\n",
       "    </tr>\n",
       "    <tr>\n",
       "      <th>1</th>\n",
       "      <td>80e641a11e56f04c1ad469d5645fdfde</td>\n",
       "      <td>a548910a1c6147796b98fdf73dbeba33</td>\n",
       "      <td>5</td>\n",
       "      <td>NaN</td>\n",
       "      <td>NaN</td>\n",
       "      <td>2018-03-10 00:00:00</td>\n",
       "      <td>2018-03-11 03:05:13</td>\n",
       "      <td>True</td>\n",
       "    </tr>\n",
       "    <tr>\n",
       "      <th>2</th>\n",
       "      <td>228ce5500dc1d8e020d8d1322874b6f0</td>\n",
       "      <td>f9e4b658b201a9f2ecdecbb34bed034b</td>\n",
       "      <td>5</td>\n",
       "      <td>NaN</td>\n",
       "      <td>NaN</td>\n",
       "      <td>2018-02-17 00:00:00</td>\n",
       "      <td>2018-02-18 14:36:24</td>\n",
       "      <td>True</td>\n",
       "    </tr>\n",
       "    <tr>\n",
       "      <th>3</th>\n",
       "      <td>e64fb393e7b32834bb789ff8bb30750e</td>\n",
       "      <td>658677c97b385a9be170737859d3511b</td>\n",
       "      <td>5</td>\n",
       "      <td>NaN</td>\n",
       "      <td>Recebi bem antes do prazo estipulado.</td>\n",
       "      <td>2017-04-21 00:00:00</td>\n",
       "      <td>2017-04-21 22:02:06</td>\n",
       "      <td>False</td>\n",
       "    </tr>\n",
       "    <tr>\n",
       "      <th>4</th>\n",
       "      <td>f7c4243c7fe1938f181bec41a392bdeb</td>\n",
       "      <td>8e6bfb81e283fa7e4f11123a3fb894f1</td>\n",
       "      <td>5</td>\n",
       "      <td>NaN</td>\n",
       "      <td>Parabéns lojas lannister adorei comprar pela I...</td>\n",
       "      <td>2018-03-01 00:00:00</td>\n",
       "      <td>2018-03-02 10:26:53</td>\n",
       "      <td>False</td>\n",
       "    </tr>\n",
       "  </tbody>\n",
       "</table>\n",
       "</div>"
      ],
      "text/plain": [
       "                          review_id                          order_id  \\\n",
       "0  7bc2406110b926393aa56f80a40eba40  73fc7af87114b39712e6da79b0a377eb   \n",
       "1  80e641a11e56f04c1ad469d5645fdfde  a548910a1c6147796b98fdf73dbeba33   \n",
       "2  228ce5500dc1d8e020d8d1322874b6f0  f9e4b658b201a9f2ecdecbb34bed034b   \n",
       "3  e64fb393e7b32834bb789ff8bb30750e  658677c97b385a9be170737859d3511b   \n",
       "4  f7c4243c7fe1938f181bec41a392bdeb  8e6bfb81e283fa7e4f11123a3fb894f1   \n",
       "\n",
       "   review_score review_comment_title  \\\n",
       "0             4                  NaN   \n",
       "1             5                  NaN   \n",
       "2             5                  NaN   \n",
       "3             5                  NaN   \n",
       "4             5                  NaN   \n",
       "\n",
       "                              review_comment_message review_creation_date  \\\n",
       "0                                                NaN  2018-01-18 00:00:00   \n",
       "1                                                NaN  2018-03-10 00:00:00   \n",
       "2                                                NaN  2018-02-17 00:00:00   \n",
       "3              Recebi bem antes do prazo estipulado.  2017-04-21 00:00:00   \n",
       "4  Parabéns lojas lannister adorei comprar pela I...  2018-03-01 00:00:00   \n",
       "\n",
       "  review_answer_timestamp  def_null_content_review  \n",
       "0     2018-01-18 21:46:59                     True  \n",
       "1     2018-03-11 03:05:13                     True  \n",
       "2     2018-02-18 14:36:24                     True  \n",
       "3     2017-04-21 22:02:06                    False  \n",
       "4     2018-03-02 10:26:53                    False  "
      ]
     },
     "execution_count": 25,
     "metadata": {},
     "output_type": "execute_result"
    }
   ],
   "source": [
    "olist_order_reviews_dataset.head()"
   ]
  },
  {
   "cell_type": "code",
   "execution_count": 26,
   "metadata": {},
   "outputs": [],
   "source": [
    "def blanko(row):\n",
    "    if not row['def_null_content_review']:\n",
    "        return len(row['review_comment_message'])\n",
    "    else:\n",
    "        return 0"
   ]
  },
  {
   "cell_type": "code",
   "execution_count": 27,
   "metadata": {},
   "outputs": [],
   "source": [
    "olist_order_reviews_dataset['number_strings'] = olist_order_reviews_dataset.apply(blanko, axis = 1)"
   ]
  },
  {
   "cell_type": "code",
   "execution_count": 28,
   "metadata": {},
   "outputs": [
    {
     "data": {
      "text/html": [
       "<div>\n",
       "<style scoped>\n",
       "    .dataframe tbody tr th:only-of-type {\n",
       "        vertical-align: middle;\n",
       "    }\n",
       "\n",
       "    .dataframe tbody tr th {\n",
       "        vertical-align: top;\n",
       "    }\n",
       "\n",
       "    .dataframe thead th {\n",
       "        text-align: right;\n",
       "    }\n",
       "</style>\n",
       "<table border=\"1\" class=\"dataframe\">\n",
       "  <thead>\n",
       "    <tr style=\"text-align: right;\">\n",
       "      <th></th>\n",
       "      <th>review_id</th>\n",
       "      <th>order_id</th>\n",
       "      <th>review_score</th>\n",
       "      <th>review_comment_title</th>\n",
       "      <th>review_comment_message</th>\n",
       "      <th>review_creation_date</th>\n",
       "      <th>review_answer_timestamp</th>\n",
       "      <th>def_null_content_review</th>\n",
       "      <th>number_strings</th>\n",
       "    </tr>\n",
       "  </thead>\n",
       "  <tbody>\n",
       "    <tr>\n",
       "      <th>0</th>\n",
       "      <td>7bc2406110b926393aa56f80a40eba40</td>\n",
       "      <td>73fc7af87114b39712e6da79b0a377eb</td>\n",
       "      <td>4</td>\n",
       "      <td>NaN</td>\n",
       "      <td>NaN</td>\n",
       "      <td>2018-01-18 00:00:00</td>\n",
       "      <td>2018-01-18 21:46:59</td>\n",
       "      <td>True</td>\n",
       "      <td>0</td>\n",
       "    </tr>\n",
       "    <tr>\n",
       "      <th>1</th>\n",
       "      <td>80e641a11e56f04c1ad469d5645fdfde</td>\n",
       "      <td>a548910a1c6147796b98fdf73dbeba33</td>\n",
       "      <td>5</td>\n",
       "      <td>NaN</td>\n",
       "      <td>NaN</td>\n",
       "      <td>2018-03-10 00:00:00</td>\n",
       "      <td>2018-03-11 03:05:13</td>\n",
       "      <td>True</td>\n",
       "      <td>0</td>\n",
       "    </tr>\n",
       "    <tr>\n",
       "      <th>2</th>\n",
       "      <td>228ce5500dc1d8e020d8d1322874b6f0</td>\n",
       "      <td>f9e4b658b201a9f2ecdecbb34bed034b</td>\n",
       "      <td>5</td>\n",
       "      <td>NaN</td>\n",
       "      <td>NaN</td>\n",
       "      <td>2018-02-17 00:00:00</td>\n",
       "      <td>2018-02-18 14:36:24</td>\n",
       "      <td>True</td>\n",
       "      <td>0</td>\n",
       "    </tr>\n",
       "    <tr>\n",
       "      <th>3</th>\n",
       "      <td>e64fb393e7b32834bb789ff8bb30750e</td>\n",
       "      <td>658677c97b385a9be170737859d3511b</td>\n",
       "      <td>5</td>\n",
       "      <td>NaN</td>\n",
       "      <td>Recebi bem antes do prazo estipulado.</td>\n",
       "      <td>2017-04-21 00:00:00</td>\n",
       "      <td>2017-04-21 22:02:06</td>\n",
       "      <td>False</td>\n",
       "      <td>37</td>\n",
       "    </tr>\n",
       "    <tr>\n",
       "      <th>4</th>\n",
       "      <td>f7c4243c7fe1938f181bec41a392bdeb</td>\n",
       "      <td>8e6bfb81e283fa7e4f11123a3fb894f1</td>\n",
       "      <td>5</td>\n",
       "      <td>NaN</td>\n",
       "      <td>Parabéns lojas lannister adorei comprar pela I...</td>\n",
       "      <td>2018-03-01 00:00:00</td>\n",
       "      <td>2018-03-02 10:26:53</td>\n",
       "      <td>False</td>\n",
       "      <td>100</td>\n",
       "    </tr>\n",
       "  </tbody>\n",
       "</table>\n",
       "</div>"
      ],
      "text/plain": [
       "                          review_id                          order_id  \\\n",
       "0  7bc2406110b926393aa56f80a40eba40  73fc7af87114b39712e6da79b0a377eb   \n",
       "1  80e641a11e56f04c1ad469d5645fdfde  a548910a1c6147796b98fdf73dbeba33   \n",
       "2  228ce5500dc1d8e020d8d1322874b6f0  f9e4b658b201a9f2ecdecbb34bed034b   \n",
       "3  e64fb393e7b32834bb789ff8bb30750e  658677c97b385a9be170737859d3511b   \n",
       "4  f7c4243c7fe1938f181bec41a392bdeb  8e6bfb81e283fa7e4f11123a3fb894f1   \n",
       "\n",
       "   review_score review_comment_title  \\\n",
       "0             4                  NaN   \n",
       "1             5                  NaN   \n",
       "2             5                  NaN   \n",
       "3             5                  NaN   \n",
       "4             5                  NaN   \n",
       "\n",
       "                              review_comment_message review_creation_date  \\\n",
       "0                                                NaN  2018-01-18 00:00:00   \n",
       "1                                                NaN  2018-03-10 00:00:00   \n",
       "2                                                NaN  2018-02-17 00:00:00   \n",
       "3              Recebi bem antes do prazo estipulado.  2017-04-21 00:00:00   \n",
       "4  Parabéns lojas lannister adorei comprar pela I...  2018-03-01 00:00:00   \n",
       "\n",
       "  review_answer_timestamp  def_null_content_review  number_strings  \n",
       "0     2018-01-18 21:46:59                     True               0  \n",
       "1     2018-03-11 03:05:13                     True               0  \n",
       "2     2018-02-18 14:36:24                     True               0  \n",
       "3     2017-04-21 22:02:06                    False              37  \n",
       "4     2018-03-02 10:26:53                    False             100  "
      ]
     },
     "execution_count": 28,
     "metadata": {},
     "output_type": "execute_result"
    }
   ],
   "source": [
    "olist_order_reviews_dataset.head()"
   ]
  },
  {
   "cell_type": "code",
   "execution_count": 29,
   "metadata": {},
   "outputs": [],
   "source": [
    "olist_order_reviews_dataset = olist_order_reviews_dataset.sort_values('number_strings').drop_duplicates('order_id', keep='last')\n",
    "    "
   ]
  },
  {
   "cell_type": "code",
   "execution_count": 30,
   "metadata": {},
   "outputs": [
    {
     "data": {
      "text/html": [
       "<div>\n",
       "<style scoped>\n",
       "    .dataframe tbody tr th:only-of-type {\n",
       "        vertical-align: middle;\n",
       "    }\n",
       "\n",
       "    .dataframe tbody tr th {\n",
       "        vertical-align: top;\n",
       "    }\n",
       "\n",
       "    .dataframe thead th {\n",
       "        text-align: right;\n",
       "    }\n",
       "</style>\n",
       "<table border=\"1\" class=\"dataframe\">\n",
       "  <thead>\n",
       "    <tr style=\"text-align: right;\">\n",
       "      <th></th>\n",
       "      <th>review_id</th>\n",
       "      <th>order_id</th>\n",
       "      <th>review_score</th>\n",
       "      <th>review_comment_title</th>\n",
       "      <th>review_comment_message</th>\n",
       "      <th>review_creation_date</th>\n",
       "      <th>review_answer_timestamp</th>\n",
       "      <th>def_null_content_review</th>\n",
       "      <th>number_strings</th>\n",
       "    </tr>\n",
       "  </thead>\n",
       "  <tbody>\n",
       "    <tr>\n",
       "      <th>77882</th>\n",
       "      <td>34551fe3596bb29ee7021a5887eca545</td>\n",
       "      <td>17992e21d004bd228a019461b341dbad</td>\n",
       "      <td>3</td>\n",
       "      <td>NaN</td>\n",
       "      <td>Não Montei ele ainda mais pelo que conferi est...</td>\n",
       "      <td>2018-01-09 00:00:00</td>\n",
       "      <td>2018-01-09 15:43:16</td>\n",
       "      <td>False</td>\n",
       "      <td>204</td>\n",
       "    </tr>\n",
       "    <tr>\n",
       "      <th>5256</th>\n",
       "      <td>cb4f3576229c52f08a7cc8ee6ab8da7c</td>\n",
       "      <td>4eb56038347ee86edd66fb4f2abb0aa5</td>\n",
       "      <td>1</td>\n",
       "      <td>NaN</td>\n",
       "      <td>fiz essa compra pelo baratheon comprei um conj...</td>\n",
       "      <td>2018-03-15 00:00:00</td>\n",
       "      <td>2018-03-19 19:50:20</td>\n",
       "      <td>False</td>\n",
       "      <td>205</td>\n",
       "    </tr>\n",
       "    <tr>\n",
       "      <th>7321</th>\n",
       "      <td>c6db613e18ea44aa7d2cc3257335c378</td>\n",
       "      <td>bfc9c6b840e5a8ac6c42347673271b9a</td>\n",
       "      <td>1</td>\n",
       "      <td>NaN</td>\n",
       "      <td>Comprei o produto confiando nas lojas lanniste...</td>\n",
       "      <td>2018-01-08 00:00:00</td>\n",
       "      <td>2018-01-08 18:43:33</td>\n",
       "      <td>False</td>\n",
       "      <td>206</td>\n",
       "    </tr>\n",
       "    <tr>\n",
       "      <th>10812</th>\n",
       "      <td>3c7388d3ed1f8a85fa544ef226af7605</td>\n",
       "      <td>382447aa0ebf13393d646287fed13df7</td>\n",
       "      <td>4</td>\n",
       "      <td>NaN</td>\n",
       "      <td>Adquiri 2 mochilas pelo site lannister de e pa...</td>\n",
       "      <td>2017-02-14 00:00:00</td>\n",
       "      <td>2017-02-14 23:33:28</td>\n",
       "      <td>False</td>\n",
       "      <td>207</td>\n",
       "    </tr>\n",
       "    <tr>\n",
       "      <th>1325</th>\n",
       "      <td>11eb20303bc6c13c41eeb1496e64aa97</td>\n",
       "      <td>18c643cade587cd125b3a56377985cac</td>\n",
       "      <td>1</td>\n",
       "      <td>NaN</td>\n",
       "      <td>NÃO RECEBI O PRODUTO, O PRODUTO CONSTA COMO EN...</td>\n",
       "      <td>2018-03-18 00:00:00</td>\n",
       "      <td>2018-03-19 10:32:01</td>\n",
       "      <td>False</td>\n",
       "      <td>208</td>\n",
       "    </tr>\n",
       "  </tbody>\n",
       "</table>\n",
       "</div>"
      ],
      "text/plain": [
       "                              review_id                          order_id  \\\n",
       "77882  34551fe3596bb29ee7021a5887eca545  17992e21d004bd228a019461b341dbad   \n",
       "5256   cb4f3576229c52f08a7cc8ee6ab8da7c  4eb56038347ee86edd66fb4f2abb0aa5   \n",
       "7321   c6db613e18ea44aa7d2cc3257335c378  bfc9c6b840e5a8ac6c42347673271b9a   \n",
       "10812  3c7388d3ed1f8a85fa544ef226af7605  382447aa0ebf13393d646287fed13df7   \n",
       "1325   11eb20303bc6c13c41eeb1496e64aa97  18c643cade587cd125b3a56377985cac   \n",
       "\n",
       "       review_score review_comment_title  \\\n",
       "77882             3                  NaN   \n",
       "5256              1                  NaN   \n",
       "7321              1                  NaN   \n",
       "10812             4                  NaN   \n",
       "1325              1                  NaN   \n",
       "\n",
       "                                  review_comment_message review_creation_date  \\\n",
       "77882  Não Montei ele ainda mais pelo que conferi est...  2018-01-09 00:00:00   \n",
       "5256   fiz essa compra pelo baratheon comprei um conj...  2018-03-15 00:00:00   \n",
       "7321   Comprei o produto confiando nas lojas lanniste...  2018-01-08 00:00:00   \n",
       "10812  Adquiri 2 mochilas pelo site lannister de e pa...  2017-02-14 00:00:00   \n",
       "1325   NÃO RECEBI O PRODUTO, O PRODUTO CONSTA COMO EN...  2018-03-18 00:00:00   \n",
       "\n",
       "      review_answer_timestamp  def_null_content_review  number_strings  \n",
       "77882     2018-01-09 15:43:16                    False             204  \n",
       "5256      2018-03-19 19:50:20                    False             205  \n",
       "7321      2018-01-08 18:43:33                    False             206  \n",
       "10812     2017-02-14 23:33:28                    False             207  \n",
       "1325      2018-03-19 10:32:01                    False             208  "
      ]
     },
     "execution_count": 30,
     "metadata": {},
     "output_type": "execute_result"
    }
   ],
   "source": [
    "olist_order_reviews_dataset.tail()"
   ]
  },
  {
   "cell_type": "code",
   "execution_count": 31,
   "metadata": {},
   "outputs": [],
   "source": [
    "olist_order_reviews_dataset.drop(['number_strings', 'def_null_content_review'], axis=1, inplace = True)"
   ]
  },
  {
   "cell_type": "code",
   "execution_count": 32,
   "metadata": {},
   "outputs": [
    {
     "data": {
      "text/html": [
       "<div>\n",
       "<style scoped>\n",
       "    .dataframe tbody tr th:only-of-type {\n",
       "        vertical-align: middle;\n",
       "    }\n",
       "\n",
       "    .dataframe tbody tr th {\n",
       "        vertical-align: top;\n",
       "    }\n",
       "\n",
       "    .dataframe thead th {\n",
       "        text-align: right;\n",
       "    }\n",
       "</style>\n",
       "<table border=\"1\" class=\"dataframe\">\n",
       "  <thead>\n",
       "    <tr style=\"text-align: right;\">\n",
       "      <th></th>\n",
       "      <th>review_id</th>\n",
       "      <th>order_id</th>\n",
       "      <th>review_score</th>\n",
       "      <th>review_comment_title</th>\n",
       "      <th>review_comment_message</th>\n",
       "      <th>review_creation_date</th>\n",
       "      <th>review_answer_timestamp</th>\n",
       "    </tr>\n",
       "  </thead>\n",
       "  <tbody>\n",
       "    <tr>\n",
       "      <th>0</th>\n",
       "      <td>7bc2406110b926393aa56f80a40eba40</td>\n",
       "      <td>73fc7af87114b39712e6da79b0a377eb</td>\n",
       "      <td>4</td>\n",
       "      <td>NaN</td>\n",
       "      <td>NaN</td>\n",
       "      <td>2018-01-18 00:00:00</td>\n",
       "      <td>2018-01-18 21:46:59</td>\n",
       "    </tr>\n",
       "    <tr>\n",
       "      <th>45772</th>\n",
       "      <td>0c5c5315daeb865a6cf1de7046715b10</td>\n",
       "      <td>35f4b9d2da608b31899564a51dbabd35</td>\n",
       "      <td>5</td>\n",
       "      <td>NaN</td>\n",
       "      <td>NaN</td>\n",
       "      <td>2018-01-24 00:00:00</td>\n",
       "      <td>2018-01-26 11:00:34</td>\n",
       "    </tr>\n",
       "    <tr>\n",
       "      <th>82887</th>\n",
       "      <td>d2b62c73c97c66bf70c21a29560c8e10</td>\n",
       "      <td>f7170cc8836bcba4bd4022ce5a009524</td>\n",
       "      <td>1</td>\n",
       "      <td>NaN</td>\n",
       "      <td>NaN</td>\n",
       "      <td>2017-05-31 00:00:00</td>\n",
       "      <td>2017-06-01 04:23:30</td>\n",
       "    </tr>\n",
       "    <tr>\n",
       "      <th>45774</th>\n",
       "      <td>8ac5c46a35b809bb42658cfd0eb190d0</td>\n",
       "      <td>ca042978ccc1c2a3d1d9b04e4ba80b9d</td>\n",
       "      <td>4</td>\n",
       "      <td>NaN</td>\n",
       "      <td>NaN</td>\n",
       "      <td>2018-05-23 00:00:00</td>\n",
       "      <td>2018-05-25 22:17:00</td>\n",
       "    </tr>\n",
       "    <tr>\n",
       "      <th>45776</th>\n",
       "      <td>e0fd752f37c8c6866ceb53b79b0715f6</td>\n",
       "      <td>dceb8e88274c6f42a88a76ed979eb817</td>\n",
       "      <td>5</td>\n",
       "      <td>NaN</td>\n",
       "      <td>NaN</td>\n",
       "      <td>2018-03-29 00:00:00</td>\n",
       "      <td>2018-04-11 20:07:14</td>\n",
       "    </tr>\n",
       "  </tbody>\n",
       "</table>\n",
       "</div>"
      ],
      "text/plain": [
       "                              review_id                          order_id  \\\n",
       "0      7bc2406110b926393aa56f80a40eba40  73fc7af87114b39712e6da79b0a377eb   \n",
       "45772  0c5c5315daeb865a6cf1de7046715b10  35f4b9d2da608b31899564a51dbabd35   \n",
       "82887  d2b62c73c97c66bf70c21a29560c8e10  f7170cc8836bcba4bd4022ce5a009524   \n",
       "45774  8ac5c46a35b809bb42658cfd0eb190d0  ca042978ccc1c2a3d1d9b04e4ba80b9d   \n",
       "45776  e0fd752f37c8c6866ceb53b79b0715f6  dceb8e88274c6f42a88a76ed979eb817   \n",
       "\n",
       "       review_score review_comment_title review_comment_message  \\\n",
       "0                 4                  NaN                    NaN   \n",
       "45772             5                  NaN                    NaN   \n",
       "82887             1                  NaN                    NaN   \n",
       "45774             4                  NaN                    NaN   \n",
       "45776             5                  NaN                    NaN   \n",
       "\n",
       "      review_creation_date review_answer_timestamp  \n",
       "0      2018-01-18 00:00:00     2018-01-18 21:46:59  \n",
       "45772  2018-01-24 00:00:00     2018-01-26 11:00:34  \n",
       "82887  2017-05-31 00:00:00     2017-06-01 04:23:30  \n",
       "45774  2018-05-23 00:00:00     2018-05-25 22:17:00  \n",
       "45776  2018-03-29 00:00:00     2018-04-11 20:07:14  "
      ]
     },
     "execution_count": 32,
     "metadata": {},
     "output_type": "execute_result"
    }
   ],
   "source": [
    "olist_order_reviews_dataset.head()"
   ]
  },
  {
   "cell_type": "code",
   "execution_count": 33,
   "metadata": {},
   "outputs": [
    {
     "data": {
      "text/plain": [
       "(99441, 7)"
      ]
     },
     "execution_count": 33,
     "metadata": {},
     "output_type": "execute_result"
    }
   ],
   "source": [
    "olist_order_reviews_dataset.shape"
   ]
  },
  {
   "cell_type": "code",
   "execution_count": 34,
   "metadata": {},
   "outputs": [
    {
     "data": {
      "text/plain": [
       "99441"
      ]
     },
     "execution_count": 34,
     "metadata": {},
     "output_type": "execute_result"
    }
   ],
   "source": [
    "len(olist_order_reviews_dataset['order_id'].unique())"
   ]
  },
  {
   "cell_type": "markdown",
   "metadata": {},
   "source": [
    "#### <span style=\"color:red\"> Merge olist_dataset y olist_order_reviews_dataset </span>"
   ]
  },
  {
   "cell_type": "code",
   "execution_count": 35,
   "metadata": {},
   "outputs": [],
   "source": [
    "olist_dataset = olist_dataset.merge(olist_order_reviews_dataset, on = 'order_id', validate = '1:1')"
   ]
  },
  {
   "cell_type": "code",
   "execution_count": 36,
   "metadata": {},
   "outputs": [
    {
     "data": {
      "text/html": [
       "<div>\n",
       "<style scoped>\n",
       "    .dataframe tbody tr th:only-of-type {\n",
       "        vertical-align: middle;\n",
       "    }\n",
       "\n",
       "    .dataframe tbody tr th {\n",
       "        vertical-align: top;\n",
       "    }\n",
       "\n",
       "    .dataframe thead th {\n",
       "        text-align: right;\n",
       "    }\n",
       "</style>\n",
       "<table border=\"1\" class=\"dataframe\">\n",
       "  <thead>\n",
       "    <tr style=\"text-align: right;\">\n",
       "      <th></th>\n",
       "      <th>order_id</th>\n",
       "      <th>customer_id</th>\n",
       "      <th>order_status</th>\n",
       "      <th>order_purchase_timestamp</th>\n",
       "      <th>order_approved_at</th>\n",
       "      <th>order_delivered_carrier_date</th>\n",
       "      <th>order_delivered_customer_date</th>\n",
       "      <th>order_estimated_delivery_date</th>\n",
       "      <th>customer_unique_id</th>\n",
       "      <th>customer_zip_code_prefix</th>\n",
       "      <th>customer_city</th>\n",
       "      <th>customer_state</th>\n",
       "      <th>review_id</th>\n",
       "      <th>review_score</th>\n",
       "      <th>review_comment_title</th>\n",
       "      <th>review_comment_message</th>\n",
       "      <th>review_creation_date</th>\n",
       "      <th>review_answer_timestamp</th>\n",
       "    </tr>\n",
       "  </thead>\n",
       "  <tbody>\n",
       "    <tr>\n",
       "      <th>0</th>\n",
       "      <td>e481f51cbdc54678b7cc49136f2d6af7</td>\n",
       "      <td>9ef432eb6251297304e76186b10a928d</td>\n",
       "      <td>delivered</td>\n",
       "      <td>2017-10-02 10:56:33</td>\n",
       "      <td>2017-10-02 11:07:15</td>\n",
       "      <td>2017-10-04 19:55:00</td>\n",
       "      <td>2017-10-10 21:25:13</td>\n",
       "      <td>2017-10-18 00:00:00</td>\n",
       "      <td>7c396fd4830fd04220f754e42b4e5bff</td>\n",
       "      <td>3149</td>\n",
       "      <td>sao paulo</td>\n",
       "      <td>SP</td>\n",
       "      <td>a54f0611adc9ed256b57ede6b6eb5114</td>\n",
       "      <td>4</td>\n",
       "      <td>NaN</td>\n",
       "      <td>Não testei o produto ainda, mas ele veio corre...</td>\n",
       "      <td>2017-10-11 00:00:00</td>\n",
       "      <td>2017-10-12 03:43:48</td>\n",
       "    </tr>\n",
       "    <tr>\n",
       "      <th>1</th>\n",
       "      <td>53cdb2fc8bc7dce0b6741e2150273451</td>\n",
       "      <td>b0830fb4747a6c6d20dea0b8c802d7ef</td>\n",
       "      <td>delivered</td>\n",
       "      <td>2018-07-24 20:41:37</td>\n",
       "      <td>2018-07-26 03:24:27</td>\n",
       "      <td>2018-07-26 14:31:00</td>\n",
       "      <td>2018-08-07 15:27:45</td>\n",
       "      <td>2018-08-13 00:00:00</td>\n",
       "      <td>af07308b275d755c9edb36a90c618231</td>\n",
       "      <td>47813</td>\n",
       "      <td>barreiras</td>\n",
       "      <td>BA</td>\n",
       "      <td>8d5266042046a06655c8db133d120ba5</td>\n",
       "      <td>4</td>\n",
       "      <td>Muito boa a loja</td>\n",
       "      <td>Muito bom o produto.</td>\n",
       "      <td>2018-08-08 00:00:00</td>\n",
       "      <td>2018-08-08 18:37:50</td>\n",
       "    </tr>\n",
       "    <tr>\n",
       "      <th>2</th>\n",
       "      <td>47770eb9100c2d0c44946d9cf07ec65d</td>\n",
       "      <td>41ce2a54c0b03bf3443c3d931a367089</td>\n",
       "      <td>delivered</td>\n",
       "      <td>2018-08-08 08:38:49</td>\n",
       "      <td>2018-08-08 08:55:23</td>\n",
       "      <td>2018-08-08 13:50:00</td>\n",
       "      <td>2018-08-17 18:06:29</td>\n",
       "      <td>2018-09-04 00:00:00</td>\n",
       "      <td>3a653a41f6f9fc3d2a113cf8398680e8</td>\n",
       "      <td>75265</td>\n",
       "      <td>vianopolis</td>\n",
       "      <td>GO</td>\n",
       "      <td>e73b67b67587f7644d5bd1a52deb1b01</td>\n",
       "      <td>5</td>\n",
       "      <td>NaN</td>\n",
       "      <td>NaN</td>\n",
       "      <td>2018-08-18 00:00:00</td>\n",
       "      <td>2018-08-22 19:07:58</td>\n",
       "    </tr>\n",
       "    <tr>\n",
       "      <th>3</th>\n",
       "      <td>949d5b44dbf5de918fe9c16f97b45f8a</td>\n",
       "      <td>f88197465ea7920adcdbec7375364d82</td>\n",
       "      <td>delivered</td>\n",
       "      <td>2017-11-18 19:28:06</td>\n",
       "      <td>2017-11-18 19:45:59</td>\n",
       "      <td>2017-11-22 13:39:59</td>\n",
       "      <td>2017-12-02 00:28:42</td>\n",
       "      <td>2017-12-15 00:00:00</td>\n",
       "      <td>7c142cf63193a1473d2e66489a9ae977</td>\n",
       "      <td>59296</td>\n",
       "      <td>sao goncalo do amarante</td>\n",
       "      <td>RN</td>\n",
       "      <td>359d03e676b3c069f62cadba8dd3f6e8</td>\n",
       "      <td>5</td>\n",
       "      <td>NaN</td>\n",
       "      <td>O produto foi exatamente o que eu esperava e e...</td>\n",
       "      <td>2017-12-03 00:00:00</td>\n",
       "      <td>2017-12-05 19:21:58</td>\n",
       "    </tr>\n",
       "    <tr>\n",
       "      <th>4</th>\n",
       "      <td>ad21c59c0840e6cb83a9ceb5573f8159</td>\n",
       "      <td>8ab97904e6daea8866dbdbc4fb7aad2c</td>\n",
       "      <td>delivered</td>\n",
       "      <td>2018-02-13 21:18:39</td>\n",
       "      <td>2018-02-13 22:20:29</td>\n",
       "      <td>2018-02-14 19:46:34</td>\n",
       "      <td>2018-02-16 18:17:02</td>\n",
       "      <td>2018-02-26 00:00:00</td>\n",
       "      <td>72632f0f9dd73dfee390c9b22eb56dd6</td>\n",
       "      <td>9195</td>\n",
       "      <td>santo andre</td>\n",
       "      <td>SP</td>\n",
       "      <td>e50934924e227544ba8246aeb3770dd4</td>\n",
       "      <td>5</td>\n",
       "      <td>NaN</td>\n",
       "      <td>NaN</td>\n",
       "      <td>2018-02-17 00:00:00</td>\n",
       "      <td>2018-02-18 13:02:51</td>\n",
       "    </tr>\n",
       "  </tbody>\n",
       "</table>\n",
       "</div>"
      ],
      "text/plain": [
       "                           order_id                       customer_id  \\\n",
       "0  e481f51cbdc54678b7cc49136f2d6af7  9ef432eb6251297304e76186b10a928d   \n",
       "1  53cdb2fc8bc7dce0b6741e2150273451  b0830fb4747a6c6d20dea0b8c802d7ef   \n",
       "2  47770eb9100c2d0c44946d9cf07ec65d  41ce2a54c0b03bf3443c3d931a367089   \n",
       "3  949d5b44dbf5de918fe9c16f97b45f8a  f88197465ea7920adcdbec7375364d82   \n",
       "4  ad21c59c0840e6cb83a9ceb5573f8159  8ab97904e6daea8866dbdbc4fb7aad2c   \n",
       "\n",
       "  order_status order_purchase_timestamp    order_approved_at  \\\n",
       "0    delivered      2017-10-02 10:56:33  2017-10-02 11:07:15   \n",
       "1    delivered      2018-07-24 20:41:37  2018-07-26 03:24:27   \n",
       "2    delivered      2018-08-08 08:38:49  2018-08-08 08:55:23   \n",
       "3    delivered      2017-11-18 19:28:06  2017-11-18 19:45:59   \n",
       "4    delivered      2018-02-13 21:18:39  2018-02-13 22:20:29   \n",
       "\n",
       "  order_delivered_carrier_date order_delivered_customer_date  \\\n",
       "0          2017-10-04 19:55:00           2017-10-10 21:25:13   \n",
       "1          2018-07-26 14:31:00           2018-08-07 15:27:45   \n",
       "2          2018-08-08 13:50:00           2018-08-17 18:06:29   \n",
       "3          2017-11-22 13:39:59           2017-12-02 00:28:42   \n",
       "4          2018-02-14 19:46:34           2018-02-16 18:17:02   \n",
       "\n",
       "  order_estimated_delivery_date                customer_unique_id  \\\n",
       "0           2017-10-18 00:00:00  7c396fd4830fd04220f754e42b4e5bff   \n",
       "1           2018-08-13 00:00:00  af07308b275d755c9edb36a90c618231   \n",
       "2           2018-09-04 00:00:00  3a653a41f6f9fc3d2a113cf8398680e8   \n",
       "3           2017-12-15 00:00:00  7c142cf63193a1473d2e66489a9ae977   \n",
       "4           2018-02-26 00:00:00  72632f0f9dd73dfee390c9b22eb56dd6   \n",
       "\n",
       "   customer_zip_code_prefix            customer_city customer_state  \\\n",
       "0                      3149                sao paulo             SP   \n",
       "1                     47813                barreiras             BA   \n",
       "2                     75265               vianopolis             GO   \n",
       "3                     59296  sao goncalo do amarante             RN   \n",
       "4                      9195              santo andre             SP   \n",
       "\n",
       "                          review_id  review_score review_comment_title  \\\n",
       "0  a54f0611adc9ed256b57ede6b6eb5114             4                  NaN   \n",
       "1  8d5266042046a06655c8db133d120ba5             4     Muito boa a loja   \n",
       "2  e73b67b67587f7644d5bd1a52deb1b01             5                  NaN   \n",
       "3  359d03e676b3c069f62cadba8dd3f6e8             5                  NaN   \n",
       "4  e50934924e227544ba8246aeb3770dd4             5                  NaN   \n",
       "\n",
       "                              review_comment_message review_creation_date  \\\n",
       "0  Não testei o produto ainda, mas ele veio corre...  2017-10-11 00:00:00   \n",
       "1                               Muito bom o produto.  2018-08-08 00:00:00   \n",
       "2                                                NaN  2018-08-18 00:00:00   \n",
       "3  O produto foi exatamente o que eu esperava e e...  2017-12-03 00:00:00   \n",
       "4                                                NaN  2018-02-17 00:00:00   \n",
       "\n",
       "  review_answer_timestamp  \n",
       "0     2017-10-12 03:43:48  \n",
       "1     2018-08-08 18:37:50  \n",
       "2     2018-08-22 19:07:58  \n",
       "3     2017-12-05 19:21:58  \n",
       "4     2018-02-18 13:02:51  "
      ]
     },
     "execution_count": 36,
     "metadata": {},
     "output_type": "execute_result"
    }
   ],
   "source": [
    "olist_dataset.head()"
   ]
  },
  {
   "cell_type": "code",
   "execution_count": 37,
   "metadata": {},
   "outputs": [
    {
     "data": {
      "text/plain": [
       "(99441, 18)"
      ]
     },
     "execution_count": 37,
     "metadata": {},
     "output_type": "execute_result"
    }
   ],
   "source": [
    "olist_dataset.shape"
   ]
  },
  {
   "cell_type": "markdown",
   "metadata": {},
   "source": [
    "#### olist_order_payments_dataset"
   ]
  },
  {
   "cell_type": "code",
   "execution_count": 38,
   "metadata": {},
   "outputs": [],
   "source": [
    "olist_order_payments_dataset = pd.read_csv('olist_order_payments_dataset.csv')"
   ]
  },
  {
   "cell_type": "code",
   "execution_count": 39,
   "metadata": {},
   "outputs": [
    {
     "data": {
      "text/html": [
       "<div>\n",
       "<style scoped>\n",
       "    .dataframe tbody tr th:only-of-type {\n",
       "        vertical-align: middle;\n",
       "    }\n",
       "\n",
       "    .dataframe tbody tr th {\n",
       "        vertical-align: top;\n",
       "    }\n",
       "\n",
       "    .dataframe thead th {\n",
       "        text-align: right;\n",
       "    }\n",
       "</style>\n",
       "<table border=\"1\" class=\"dataframe\">\n",
       "  <thead>\n",
       "    <tr style=\"text-align: right;\">\n",
       "      <th></th>\n",
       "      <th>order_id</th>\n",
       "      <th>payment_sequential</th>\n",
       "      <th>payment_type</th>\n",
       "      <th>payment_installments</th>\n",
       "      <th>payment_value</th>\n",
       "    </tr>\n",
       "  </thead>\n",
       "  <tbody>\n",
       "    <tr>\n",
       "      <th>0</th>\n",
       "      <td>b81ef226f3fe1789b1e8b2acac839d17</td>\n",
       "      <td>1</td>\n",
       "      <td>credit_card</td>\n",
       "      <td>8</td>\n",
       "      <td>99.33</td>\n",
       "    </tr>\n",
       "    <tr>\n",
       "      <th>1</th>\n",
       "      <td>a9810da82917af2d9aefd1278f1dcfa0</td>\n",
       "      <td>1</td>\n",
       "      <td>credit_card</td>\n",
       "      <td>1</td>\n",
       "      <td>24.39</td>\n",
       "    </tr>\n",
       "    <tr>\n",
       "      <th>2</th>\n",
       "      <td>25e8ea4e93396b6fa0d3dd708e76c1bd</td>\n",
       "      <td>1</td>\n",
       "      <td>credit_card</td>\n",
       "      <td>1</td>\n",
       "      <td>65.71</td>\n",
       "    </tr>\n",
       "    <tr>\n",
       "      <th>3</th>\n",
       "      <td>ba78997921bbcdc1373bb41e913ab953</td>\n",
       "      <td>1</td>\n",
       "      <td>credit_card</td>\n",
       "      <td>8</td>\n",
       "      <td>107.78</td>\n",
       "    </tr>\n",
       "    <tr>\n",
       "      <th>4</th>\n",
       "      <td>42fdf880ba16b47b59251dd489d4441a</td>\n",
       "      <td>1</td>\n",
       "      <td>credit_card</td>\n",
       "      <td>2</td>\n",
       "      <td>128.45</td>\n",
       "    </tr>\n",
       "  </tbody>\n",
       "</table>\n",
       "</div>"
      ],
      "text/plain": [
       "                           order_id  payment_sequential payment_type  \\\n",
       "0  b81ef226f3fe1789b1e8b2acac839d17                   1  credit_card   \n",
       "1  a9810da82917af2d9aefd1278f1dcfa0                   1  credit_card   \n",
       "2  25e8ea4e93396b6fa0d3dd708e76c1bd                   1  credit_card   \n",
       "3  ba78997921bbcdc1373bb41e913ab953                   1  credit_card   \n",
       "4  42fdf880ba16b47b59251dd489d4441a                   1  credit_card   \n",
       "\n",
       "   payment_installments  payment_value  \n",
       "0                     8          99.33  \n",
       "1                     1          24.39  \n",
       "2                     1          65.71  \n",
       "3                     8         107.78  \n",
       "4                     2         128.45  "
      ]
     },
     "execution_count": 39,
     "metadata": {},
     "output_type": "execute_result"
    }
   ],
   "source": [
    "olist_order_payments_dataset.head()"
   ]
  },
  {
   "cell_type": "code",
   "execution_count": 40,
   "metadata": {},
   "outputs": [
    {
     "data": {
      "text/plain": [
       "array(['credit_card', 'boleto', 'voucher', 'debit_card', 'not_defined'],\n",
       "      dtype=object)"
      ]
     },
     "execution_count": 40,
     "metadata": {},
     "output_type": "execute_result"
    }
   ],
   "source": [
    "olist_order_payments_dataset.payment_type.unique()"
   ]
  },
  {
   "cell_type": "code",
   "execution_count": 41,
   "metadata": {},
   "outputs": [
    {
     "data": {
      "text/plain": [
       "(103886, 5)"
      ]
     },
     "execution_count": 41,
     "metadata": {},
     "output_type": "execute_result"
    }
   ],
   "source": [
    "olist_order_payments_dataset.shape"
   ]
  },
  {
   "cell_type": "code",
   "execution_count": 42,
   "metadata": {},
   "outputs": [
    {
     "data": {
      "text/plain": [
       "False    103886\n",
       "dtype: int64"
      ]
     },
     "execution_count": 42,
     "metadata": {},
     "output_type": "execute_result"
    }
   ],
   "source": [
    "olist_order_payments_dataset.duplicated(keep='first').value_counts()"
   ]
  },
  {
   "cell_type": "code",
   "execution_count": 43,
   "metadata": {},
   "outputs": [
    {
     "data": {
      "text/plain": [
       "99440"
      ]
     },
     "execution_count": 43,
     "metadata": {},
     "output_type": "execute_result"
    }
   ],
   "source": [
    "len(olist_order_payments_dataset['order_id'].unique())"
   ]
  },
  {
   "cell_type": "code",
   "execution_count": 44,
   "metadata": {},
   "outputs": [
    {
     "data": {
      "text/plain": [
       "False    99440\n",
       "True      4446\n",
       "dtype: int64"
      ]
     },
     "execution_count": 44,
     "metadata": {},
     "output_type": "execute_result"
    }
   ],
   "source": [
    "olist_order_payments_dataset.duplicated('order_id',keep='first').value_counts()"
   ]
  },
  {
   "cell_type": "code",
   "execution_count": 45,
   "metadata": {},
   "outputs": [
    {
     "data": {
      "text/plain": [
       "fa65dad1b0e818e3ccc5cb0e39231352    29\n",
       "ccf804e764ed5650cd8759557269dc13    26\n",
       "285c2e15bebd4ac83635ccc563dc71f4    22\n",
       "895ab968e7bb0d5659d16cd74cd1650c    21\n",
       "fedcd9f7ccdc8cba3a18defedd1a5547    19\n",
       "Name: order_id, dtype: int64"
      ]
     },
     "execution_count": 45,
     "metadata": {},
     "output_type": "execute_result"
    }
   ],
   "source": [
    "olist_order_payments_dataset['order_id'].value_counts().head()"
   ]
  },
  {
   "cell_type": "code",
   "execution_count": 46,
   "metadata": {},
   "outputs": [
    {
     "data": {
      "text/html": [
       "<div>\n",
       "<style scoped>\n",
       "    .dataframe tbody tr th:only-of-type {\n",
       "        vertical-align: middle;\n",
       "    }\n",
       "\n",
       "    .dataframe tbody tr th {\n",
       "        vertical-align: top;\n",
       "    }\n",
       "\n",
       "    .dataframe thead th {\n",
       "        text-align: right;\n",
       "    }\n",
       "</style>\n",
       "<table border=\"1\" class=\"dataframe\">\n",
       "  <thead>\n",
       "    <tr style=\"text-align: right;\">\n",
       "      <th></th>\n",
       "      <th>order_id</th>\n",
       "      <th>payment_sequential</th>\n",
       "      <th>payment_type</th>\n",
       "      <th>payment_installments</th>\n",
       "      <th>payment_value</th>\n",
       "    </tr>\n",
       "  </thead>\n",
       "  <tbody>\n",
       "    <tr>\n",
       "      <th>2099</th>\n",
       "      <td>ee9ca989fc93ba09a6eddc250ce01742</td>\n",
       "      <td>8</td>\n",
       "      <td>voucher</td>\n",
       "      <td>1</td>\n",
       "      <td>5.31</td>\n",
       "    </tr>\n",
       "    <tr>\n",
       "      <th>8910</th>\n",
       "      <td>ee9ca989fc93ba09a6eddc250ce01742</td>\n",
       "      <td>1</td>\n",
       "      <td>credit_card</td>\n",
       "      <td>1</td>\n",
       "      <td>1.76</td>\n",
       "    </tr>\n",
       "    <tr>\n",
       "      <th>29562</th>\n",
       "      <td>ee9ca989fc93ba09a6eddc250ce01742</td>\n",
       "      <td>17</td>\n",
       "      <td>voucher</td>\n",
       "      <td>1</td>\n",
       "      <td>7.19</td>\n",
       "    </tr>\n",
       "    <tr>\n",
       "      <th>35428</th>\n",
       "      <td>ee9ca989fc93ba09a6eddc250ce01742</td>\n",
       "      <td>3</td>\n",
       "      <td>voucher</td>\n",
       "      <td>1</td>\n",
       "      <td>12.49</td>\n",
       "    </tr>\n",
       "    <tr>\n",
       "      <th>36562</th>\n",
       "      <td>ee9ca989fc93ba09a6eddc250ce01742</td>\n",
       "      <td>13</td>\n",
       "      <td>voucher</td>\n",
       "      <td>1</td>\n",
       "      <td>6.51</td>\n",
       "    </tr>\n",
       "    <tr>\n",
       "      <th>38028</th>\n",
       "      <td>ee9ca989fc93ba09a6eddc250ce01742</td>\n",
       "      <td>16</td>\n",
       "      <td>voucher</td>\n",
       "      <td>1</td>\n",
       "      <td>6.51</td>\n",
       "    </tr>\n",
       "    <tr>\n",
       "      <th>47453</th>\n",
       "      <td>ee9ca989fc93ba09a6eddc250ce01742</td>\n",
       "      <td>11</td>\n",
       "      <td>voucher</td>\n",
       "      <td>1</td>\n",
       "      <td>1.68</td>\n",
       "    </tr>\n",
       "    <tr>\n",
       "      <th>49285</th>\n",
       "      <td>ee9ca989fc93ba09a6eddc250ce01742</td>\n",
       "      <td>15</td>\n",
       "      <td>voucher</td>\n",
       "      <td>1</td>\n",
       "      <td>1.92</td>\n",
       "    </tr>\n",
       "    <tr>\n",
       "      <th>50071</th>\n",
       "      <td>ee9ca989fc93ba09a6eddc250ce01742</td>\n",
       "      <td>14</td>\n",
       "      <td>voucher</td>\n",
       "      <td>1</td>\n",
       "      <td>4.70</td>\n",
       "    </tr>\n",
       "    <tr>\n",
       "      <th>52343</th>\n",
       "      <td>ee9ca989fc93ba09a6eddc250ce01742</td>\n",
       "      <td>2</td>\n",
       "      <td>voucher</td>\n",
       "      <td>1</td>\n",
       "      <td>5.88</td>\n",
       "    </tr>\n",
       "    <tr>\n",
       "      <th>64444</th>\n",
       "      <td>ee9ca989fc93ba09a6eddc250ce01742</td>\n",
       "      <td>12</td>\n",
       "      <td>voucher</td>\n",
       "      <td>1</td>\n",
       "      <td>2.80</td>\n",
       "    </tr>\n",
       "    <tr>\n",
       "      <th>64576</th>\n",
       "      <td>ee9ca989fc93ba09a6eddc250ce01742</td>\n",
       "      <td>4</td>\n",
       "      <td>voucher</td>\n",
       "      <td>1</td>\n",
       "      <td>3.49</td>\n",
       "    </tr>\n",
       "    <tr>\n",
       "      <th>68844</th>\n",
       "      <td>ee9ca989fc93ba09a6eddc250ce01742</td>\n",
       "      <td>5</td>\n",
       "      <td>voucher</td>\n",
       "      <td>1</td>\n",
       "      <td>3.58</td>\n",
       "    </tr>\n",
       "    <tr>\n",
       "      <th>75144</th>\n",
       "      <td>ee9ca989fc93ba09a6eddc250ce01742</td>\n",
       "      <td>18</td>\n",
       "      <td>voucher</td>\n",
       "      <td>1</td>\n",
       "      <td>2.33</td>\n",
       "    </tr>\n",
       "    <tr>\n",
       "      <th>75433</th>\n",
       "      <td>ee9ca989fc93ba09a6eddc250ce01742</td>\n",
       "      <td>19</td>\n",
       "      <td>voucher</td>\n",
       "      <td>1</td>\n",
       "      <td>4.56</td>\n",
       "    </tr>\n",
       "    <tr>\n",
       "      <th>85552</th>\n",
       "      <td>ee9ca989fc93ba09a6eddc250ce01742</td>\n",
       "      <td>6</td>\n",
       "      <td>voucher</td>\n",
       "      <td>1</td>\n",
       "      <td>3.75</td>\n",
       "    </tr>\n",
       "    <tr>\n",
       "      <th>86515</th>\n",
       "      <td>ee9ca989fc93ba09a6eddc250ce01742</td>\n",
       "      <td>10</td>\n",
       "      <td>voucher</td>\n",
       "      <td>1</td>\n",
       "      <td>2.45</td>\n",
       "    </tr>\n",
       "    <tr>\n",
       "      <th>94178</th>\n",
       "      <td>ee9ca989fc93ba09a6eddc250ce01742</td>\n",
       "      <td>9</td>\n",
       "      <td>voucher</td>\n",
       "      <td>1</td>\n",
       "      <td>3.90</td>\n",
       "    </tr>\n",
       "    <tr>\n",
       "      <th>96065</th>\n",
       "      <td>ee9ca989fc93ba09a6eddc250ce01742</td>\n",
       "      <td>7</td>\n",
       "      <td>voucher</td>\n",
       "      <td>1</td>\n",
       "      <td>1.92</td>\n",
       "    </tr>\n",
       "  </tbody>\n",
       "</table>\n",
       "</div>"
      ],
      "text/plain": [
       "                               order_id  payment_sequential payment_type  \\\n",
       "2099   ee9ca989fc93ba09a6eddc250ce01742                   8      voucher   \n",
       "8910   ee9ca989fc93ba09a6eddc250ce01742                   1  credit_card   \n",
       "29562  ee9ca989fc93ba09a6eddc250ce01742                  17      voucher   \n",
       "35428  ee9ca989fc93ba09a6eddc250ce01742                   3      voucher   \n",
       "36562  ee9ca989fc93ba09a6eddc250ce01742                  13      voucher   \n",
       "38028  ee9ca989fc93ba09a6eddc250ce01742                  16      voucher   \n",
       "47453  ee9ca989fc93ba09a6eddc250ce01742                  11      voucher   \n",
       "49285  ee9ca989fc93ba09a6eddc250ce01742                  15      voucher   \n",
       "50071  ee9ca989fc93ba09a6eddc250ce01742                  14      voucher   \n",
       "52343  ee9ca989fc93ba09a6eddc250ce01742                   2      voucher   \n",
       "64444  ee9ca989fc93ba09a6eddc250ce01742                  12      voucher   \n",
       "64576  ee9ca989fc93ba09a6eddc250ce01742                   4      voucher   \n",
       "68844  ee9ca989fc93ba09a6eddc250ce01742                   5      voucher   \n",
       "75144  ee9ca989fc93ba09a6eddc250ce01742                  18      voucher   \n",
       "75433  ee9ca989fc93ba09a6eddc250ce01742                  19      voucher   \n",
       "85552  ee9ca989fc93ba09a6eddc250ce01742                   6      voucher   \n",
       "86515  ee9ca989fc93ba09a6eddc250ce01742                  10      voucher   \n",
       "94178  ee9ca989fc93ba09a6eddc250ce01742                   9      voucher   \n",
       "96065  ee9ca989fc93ba09a6eddc250ce01742                   7      voucher   \n",
       "\n",
       "       payment_installments  payment_value  \n",
       "2099                      1           5.31  \n",
       "8910                      1           1.76  \n",
       "29562                     1           7.19  \n",
       "35428                     1          12.49  \n",
       "36562                     1           6.51  \n",
       "38028                     1           6.51  \n",
       "47453                     1           1.68  \n",
       "49285                     1           1.92  \n",
       "50071                     1           4.70  \n",
       "52343                     1           5.88  \n",
       "64444                     1           2.80  \n",
       "64576                     1           3.49  \n",
       "68844                     1           3.58  \n",
       "75144                     1           2.33  \n",
       "75433                     1           4.56  \n",
       "85552                     1           3.75  \n",
       "86515                     1           2.45  \n",
       "94178                     1           3.90  \n",
       "96065                     1           1.92  "
      ]
     },
     "execution_count": 46,
     "metadata": {},
     "output_type": "execute_result"
    }
   ],
   "source": [
    "olist_order_payments_dataset[olist_order_payments_dataset['order_id'] == 'ee9ca989fc93ba09a6eddc250ce01742']"
   ]
  },
  {
   "cell_type": "code",
   "execution_count": 47,
   "metadata": {},
   "outputs": [],
   "source": [
    "group_by_order_payment = olist_order_payments_dataset.groupby(['order_id','payment_type']).agg({'payment_sequential': \"count\",\n",
    "                                                                                          'payment_installments': sum,\n",
    "                                                                                          'payment_value': sum})"
   ]
  },
  {
   "cell_type": "code",
   "execution_count": 48,
   "metadata": {},
   "outputs": [
    {
     "data": {
      "text/html": [
       "<div>\n",
       "<style scoped>\n",
       "    .dataframe tbody tr th:only-of-type {\n",
       "        vertical-align: middle;\n",
       "    }\n",
       "\n",
       "    .dataframe tbody tr th {\n",
       "        vertical-align: top;\n",
       "    }\n",
       "\n",
       "    .dataframe thead th {\n",
       "        text-align: right;\n",
       "    }\n",
       "</style>\n",
       "<table border=\"1\" class=\"dataframe\">\n",
       "  <thead>\n",
       "    <tr style=\"text-align: right;\">\n",
       "      <th></th>\n",
       "      <th></th>\n",
       "      <th>payment_sequential</th>\n",
       "      <th>payment_installments</th>\n",
       "      <th>payment_value</th>\n",
       "    </tr>\n",
       "    <tr>\n",
       "      <th>order_id</th>\n",
       "      <th>payment_type</th>\n",
       "      <th></th>\n",
       "      <th></th>\n",
       "      <th></th>\n",
       "    </tr>\n",
       "  </thead>\n",
       "  <tbody>\n",
       "    <tr>\n",
       "      <th>00010242fe8c5a6d1ba2dd792cb16214</th>\n",
       "      <th>credit_card</th>\n",
       "      <td>1</td>\n",
       "      <td>2</td>\n",
       "      <td>72.19</td>\n",
       "    </tr>\n",
       "    <tr>\n",
       "      <th>00018f77f2f0320c557190d7a144bdd3</th>\n",
       "      <th>credit_card</th>\n",
       "      <td>1</td>\n",
       "      <td>3</td>\n",
       "      <td>259.83</td>\n",
       "    </tr>\n",
       "    <tr>\n",
       "      <th>000229ec398224ef6ca0657da4fc703e</th>\n",
       "      <th>credit_card</th>\n",
       "      <td>1</td>\n",
       "      <td>5</td>\n",
       "      <td>216.87</td>\n",
       "    </tr>\n",
       "    <tr>\n",
       "      <th>00024acbcdf0a6daa1e931b038114c75</th>\n",
       "      <th>credit_card</th>\n",
       "      <td>1</td>\n",
       "      <td>2</td>\n",
       "      <td>25.78</td>\n",
       "    </tr>\n",
       "    <tr>\n",
       "      <th>00042b26cf59d7ce69dfabb4e55b4fd9</th>\n",
       "      <th>credit_card</th>\n",
       "      <td>1</td>\n",
       "      <td>3</td>\n",
       "      <td>218.04</td>\n",
       "    </tr>\n",
       "  </tbody>\n",
       "</table>\n",
       "</div>"
      ],
      "text/plain": [
       "                                               payment_sequential  \\\n",
       "order_id                         payment_type                       \n",
       "00010242fe8c5a6d1ba2dd792cb16214 credit_card                    1   \n",
       "00018f77f2f0320c557190d7a144bdd3 credit_card                    1   \n",
       "000229ec398224ef6ca0657da4fc703e credit_card                    1   \n",
       "00024acbcdf0a6daa1e931b038114c75 credit_card                    1   \n",
       "00042b26cf59d7ce69dfabb4e55b4fd9 credit_card                    1   \n",
       "\n",
       "                                               payment_installments  \\\n",
       "order_id                         payment_type                         \n",
       "00010242fe8c5a6d1ba2dd792cb16214 credit_card                      2   \n",
       "00018f77f2f0320c557190d7a144bdd3 credit_card                      3   \n",
       "000229ec398224ef6ca0657da4fc703e credit_card                      5   \n",
       "00024acbcdf0a6daa1e931b038114c75 credit_card                      2   \n",
       "00042b26cf59d7ce69dfabb4e55b4fd9 credit_card                      3   \n",
       "\n",
       "                                               payment_value  \n",
       "order_id                         payment_type                 \n",
       "00010242fe8c5a6d1ba2dd792cb16214 credit_card           72.19  \n",
       "00018f77f2f0320c557190d7a144bdd3 credit_card          259.83  \n",
       "000229ec398224ef6ca0657da4fc703e credit_card          216.87  \n",
       "00024acbcdf0a6daa1e931b038114c75 credit_card           25.78  \n",
       "00042b26cf59d7ce69dfabb4e55b4fd9 credit_card          218.04  "
      ]
     },
     "execution_count": 48,
     "metadata": {},
     "output_type": "execute_result"
    }
   ],
   "source": [
    "group_by_order_payment.head()"
   ]
  },
  {
   "cell_type": "code",
   "execution_count": 49,
   "metadata": {},
   "outputs": [
    {
     "data": {
      "text/html": [
       "<div>\n",
       "<style scoped>\n",
       "    .dataframe tbody tr th:only-of-type {\n",
       "        vertical-align: middle;\n",
       "    }\n",
       "\n",
       "    .dataframe tbody tr th {\n",
       "        vertical-align: top;\n",
       "    }\n",
       "\n",
       "    .dataframe thead th {\n",
       "        text-align: right;\n",
       "    }\n",
       "</style>\n",
       "<table border=\"1\" class=\"dataframe\">\n",
       "  <thead>\n",
       "    <tr style=\"text-align: right;\">\n",
       "      <th></th>\n",
       "      <th></th>\n",
       "      <th>payment_sequential</th>\n",
       "      <th>payment_installments</th>\n",
       "      <th>payment_value</th>\n",
       "    </tr>\n",
       "    <tr>\n",
       "      <th>order_id</th>\n",
       "      <th>payment_type</th>\n",
       "      <th></th>\n",
       "      <th></th>\n",
       "      <th></th>\n",
       "    </tr>\n",
       "  </thead>\n",
       "  <tbody>\n",
       "    <tr>\n",
       "      <th rowspan=\"2\" valign=\"top\">ee9ca989fc93ba09a6eddc250ce01742</th>\n",
       "      <th>credit_card</th>\n",
       "      <td>1</td>\n",
       "      <td>1</td>\n",
       "      <td>1.76</td>\n",
       "    </tr>\n",
       "    <tr>\n",
       "      <th>voucher</th>\n",
       "      <td>18</td>\n",
       "      <td>18</td>\n",
       "      <td>80.97</td>\n",
       "    </tr>\n",
       "  </tbody>\n",
       "</table>\n",
       "</div>"
      ],
      "text/plain": [
       "                                               payment_sequential  \\\n",
       "order_id                         payment_type                       \n",
       "ee9ca989fc93ba09a6eddc250ce01742 credit_card                    1   \n",
       "                                 voucher                       18   \n",
       "\n",
       "                                               payment_installments  \\\n",
       "order_id                         payment_type                         \n",
       "ee9ca989fc93ba09a6eddc250ce01742 credit_card                      1   \n",
       "                                 voucher                         18   \n",
       "\n",
       "                                               payment_value  \n",
       "order_id                         payment_type                 \n",
       "ee9ca989fc93ba09a6eddc250ce01742 credit_card            1.76  \n",
       "                                 voucher               80.97  "
      ]
     },
     "execution_count": 49,
     "metadata": {},
     "output_type": "execute_result"
    }
   ],
   "source": [
    "group_by_order_payment.loc[[('ee9ca989fc93ba09a6eddc250ce01742','credit_card'),('ee9ca989fc93ba09a6eddc250ce01742','voucher')],:]"
   ]
  },
  {
   "cell_type": "code",
   "execution_count": 50,
   "metadata": {},
   "outputs": [],
   "source": [
    "x = group_by_order_payment.unstack(1).reset_index()"
   ]
  },
  {
   "cell_type": "code",
   "execution_count": 51,
   "metadata": {},
   "outputs": [
    {
     "data": {
      "text/plain": [
       "(99440, 16)"
      ]
     },
     "execution_count": 51,
     "metadata": {},
     "output_type": "execute_result"
    }
   ],
   "source": [
    "x.shape"
   ]
  },
  {
   "cell_type": "code",
   "execution_count": 52,
   "metadata": {},
   "outputs": [
    {
     "data": {
      "text/html": [
       "<div>\n",
       "<style scoped>\n",
       "    .dataframe tbody tr th:only-of-type {\n",
       "        vertical-align: middle;\n",
       "    }\n",
       "\n",
       "    .dataframe tbody tr th {\n",
       "        vertical-align: top;\n",
       "    }\n",
       "\n",
       "    .dataframe thead tr th {\n",
       "        text-align: left;\n",
       "    }\n",
       "</style>\n",
       "<table border=\"1\" class=\"dataframe\">\n",
       "  <thead>\n",
       "    <tr>\n",
       "      <th></th>\n",
       "      <th>order_id</th>\n",
       "      <th colspan=\"5\" halign=\"left\">payment_sequential</th>\n",
       "      <th colspan=\"5\" halign=\"left\">payment_installments</th>\n",
       "      <th colspan=\"5\" halign=\"left\">payment_value</th>\n",
       "    </tr>\n",
       "    <tr>\n",
       "      <th>payment_type</th>\n",
       "      <th></th>\n",
       "      <th>boleto</th>\n",
       "      <th>credit_card</th>\n",
       "      <th>debit_card</th>\n",
       "      <th>not_defined</th>\n",
       "      <th>voucher</th>\n",
       "      <th>boleto</th>\n",
       "      <th>credit_card</th>\n",
       "      <th>debit_card</th>\n",
       "      <th>not_defined</th>\n",
       "      <th>voucher</th>\n",
       "      <th>boleto</th>\n",
       "      <th>credit_card</th>\n",
       "      <th>debit_card</th>\n",
       "      <th>not_defined</th>\n",
       "      <th>voucher</th>\n",
       "    </tr>\n",
       "  </thead>\n",
       "  <tbody>\n",
       "    <tr>\n",
       "      <th>0</th>\n",
       "      <td>00010242fe8c5a6d1ba2dd792cb16214</td>\n",
       "      <td>NaN</td>\n",
       "      <td>1.0</td>\n",
       "      <td>NaN</td>\n",
       "      <td>NaN</td>\n",
       "      <td>NaN</td>\n",
       "      <td>NaN</td>\n",
       "      <td>2.0</td>\n",
       "      <td>NaN</td>\n",
       "      <td>NaN</td>\n",
       "      <td>NaN</td>\n",
       "      <td>NaN</td>\n",
       "      <td>72.19</td>\n",
       "      <td>NaN</td>\n",
       "      <td>NaN</td>\n",
       "      <td>NaN</td>\n",
       "    </tr>\n",
       "    <tr>\n",
       "      <th>1</th>\n",
       "      <td>00018f77f2f0320c557190d7a144bdd3</td>\n",
       "      <td>NaN</td>\n",
       "      <td>1.0</td>\n",
       "      <td>NaN</td>\n",
       "      <td>NaN</td>\n",
       "      <td>NaN</td>\n",
       "      <td>NaN</td>\n",
       "      <td>3.0</td>\n",
       "      <td>NaN</td>\n",
       "      <td>NaN</td>\n",
       "      <td>NaN</td>\n",
       "      <td>NaN</td>\n",
       "      <td>259.83</td>\n",
       "      <td>NaN</td>\n",
       "      <td>NaN</td>\n",
       "      <td>NaN</td>\n",
       "    </tr>\n",
       "    <tr>\n",
       "      <th>2</th>\n",
       "      <td>000229ec398224ef6ca0657da4fc703e</td>\n",
       "      <td>NaN</td>\n",
       "      <td>1.0</td>\n",
       "      <td>NaN</td>\n",
       "      <td>NaN</td>\n",
       "      <td>NaN</td>\n",
       "      <td>NaN</td>\n",
       "      <td>5.0</td>\n",
       "      <td>NaN</td>\n",
       "      <td>NaN</td>\n",
       "      <td>NaN</td>\n",
       "      <td>NaN</td>\n",
       "      <td>216.87</td>\n",
       "      <td>NaN</td>\n",
       "      <td>NaN</td>\n",
       "      <td>NaN</td>\n",
       "    </tr>\n",
       "    <tr>\n",
       "      <th>3</th>\n",
       "      <td>00024acbcdf0a6daa1e931b038114c75</td>\n",
       "      <td>NaN</td>\n",
       "      <td>1.0</td>\n",
       "      <td>NaN</td>\n",
       "      <td>NaN</td>\n",
       "      <td>NaN</td>\n",
       "      <td>NaN</td>\n",
       "      <td>2.0</td>\n",
       "      <td>NaN</td>\n",
       "      <td>NaN</td>\n",
       "      <td>NaN</td>\n",
       "      <td>NaN</td>\n",
       "      <td>25.78</td>\n",
       "      <td>NaN</td>\n",
       "      <td>NaN</td>\n",
       "      <td>NaN</td>\n",
       "    </tr>\n",
       "    <tr>\n",
       "      <th>4</th>\n",
       "      <td>00042b26cf59d7ce69dfabb4e55b4fd9</td>\n",
       "      <td>NaN</td>\n",
       "      <td>1.0</td>\n",
       "      <td>NaN</td>\n",
       "      <td>NaN</td>\n",
       "      <td>NaN</td>\n",
       "      <td>NaN</td>\n",
       "      <td>3.0</td>\n",
       "      <td>NaN</td>\n",
       "      <td>NaN</td>\n",
       "      <td>NaN</td>\n",
       "      <td>NaN</td>\n",
       "      <td>218.04</td>\n",
       "      <td>NaN</td>\n",
       "      <td>NaN</td>\n",
       "      <td>NaN</td>\n",
       "    </tr>\n",
       "  </tbody>\n",
       "</table>\n",
       "</div>"
      ],
      "text/plain": [
       "                                      order_id payment_sequential              \\\n",
       "payment_type                                               boleto credit_card   \n",
       "0             00010242fe8c5a6d1ba2dd792cb16214                NaN         1.0   \n",
       "1             00018f77f2f0320c557190d7a144bdd3                NaN         1.0   \n",
       "2             000229ec398224ef6ca0657da4fc703e                NaN         1.0   \n",
       "3             00024acbcdf0a6daa1e931b038114c75                NaN         1.0   \n",
       "4             00042b26cf59d7ce69dfabb4e55b4fd9                NaN         1.0   \n",
       "\n",
       "                                            payment_installments              \\\n",
       "payment_type debit_card not_defined voucher               boleto credit_card   \n",
       "0                   NaN         NaN     NaN                  NaN         2.0   \n",
       "1                   NaN         NaN     NaN                  NaN         3.0   \n",
       "2                   NaN         NaN     NaN                  NaN         5.0   \n",
       "3                   NaN         NaN     NaN                  NaN         2.0   \n",
       "4                   NaN         NaN     NaN                  NaN         3.0   \n",
       "\n",
       "                                            payment_value              \\\n",
       "payment_type debit_card not_defined voucher        boleto credit_card   \n",
       "0                   NaN         NaN     NaN           NaN       72.19   \n",
       "1                   NaN         NaN     NaN           NaN      259.83   \n",
       "2                   NaN         NaN     NaN           NaN      216.87   \n",
       "3                   NaN         NaN     NaN           NaN       25.78   \n",
       "4                   NaN         NaN     NaN           NaN      218.04   \n",
       "\n",
       "                                             \n",
       "payment_type debit_card not_defined voucher  \n",
       "0                   NaN         NaN     NaN  \n",
       "1                   NaN         NaN     NaN  \n",
       "2                   NaN         NaN     NaN  \n",
       "3                   NaN         NaN     NaN  \n",
       "4                   NaN         NaN     NaN  "
      ]
     },
     "execution_count": 52,
     "metadata": {},
     "output_type": "execute_result"
    }
   ],
   "source": [
    "x.head()"
   ]
  },
  {
   "cell_type": "code",
   "execution_count": 53,
   "metadata": {},
   "outputs": [],
   "source": [
    "x.columns = x.columns.map('_'.join).str.strip('_')\n",
    "x.fillna(0, inplace = True)"
   ]
  },
  {
   "cell_type": "code",
   "execution_count": 54,
   "metadata": {
    "scrolled": true
   },
   "outputs": [
    {
     "data": {
      "text/html": [
       "<div>\n",
       "<style scoped>\n",
       "    .dataframe tbody tr th:only-of-type {\n",
       "        vertical-align: middle;\n",
       "    }\n",
       "\n",
       "    .dataframe tbody tr th {\n",
       "        vertical-align: top;\n",
       "    }\n",
       "\n",
       "    .dataframe thead th {\n",
       "        text-align: right;\n",
       "    }\n",
       "</style>\n",
       "<table border=\"1\" class=\"dataframe\">\n",
       "  <thead>\n",
       "    <tr style=\"text-align: right;\">\n",
       "      <th></th>\n",
       "      <th>order_id</th>\n",
       "      <th>payment_sequential_boleto</th>\n",
       "      <th>payment_sequential_credit_card</th>\n",
       "      <th>payment_sequential_debit_card</th>\n",
       "      <th>payment_sequential_not_defined</th>\n",
       "      <th>payment_sequential_voucher</th>\n",
       "      <th>payment_installments_boleto</th>\n",
       "      <th>payment_installments_credit_card</th>\n",
       "      <th>payment_installments_debit_card</th>\n",
       "      <th>payment_installments_not_defined</th>\n",
       "      <th>payment_installments_voucher</th>\n",
       "      <th>payment_value_boleto</th>\n",
       "      <th>payment_value_credit_card</th>\n",
       "      <th>payment_value_debit_card</th>\n",
       "      <th>payment_value_not_defined</th>\n",
       "      <th>payment_value_voucher</th>\n",
       "    </tr>\n",
       "  </thead>\n",
       "  <tbody>\n",
       "    <tr>\n",
       "      <th>0</th>\n",
       "      <td>00010242fe8c5a6d1ba2dd792cb16214</td>\n",
       "      <td>0.0</td>\n",
       "      <td>1.0</td>\n",
       "      <td>0.0</td>\n",
       "      <td>0.0</td>\n",
       "      <td>0.0</td>\n",
       "      <td>0.0</td>\n",
       "      <td>2.0</td>\n",
       "      <td>0.0</td>\n",
       "      <td>0.0</td>\n",
       "      <td>0.0</td>\n",
       "      <td>0.0</td>\n",
       "      <td>72.19</td>\n",
       "      <td>0.0</td>\n",
       "      <td>0.0</td>\n",
       "      <td>0.0</td>\n",
       "    </tr>\n",
       "    <tr>\n",
       "      <th>1</th>\n",
       "      <td>00018f77f2f0320c557190d7a144bdd3</td>\n",
       "      <td>0.0</td>\n",
       "      <td>1.0</td>\n",
       "      <td>0.0</td>\n",
       "      <td>0.0</td>\n",
       "      <td>0.0</td>\n",
       "      <td>0.0</td>\n",
       "      <td>3.0</td>\n",
       "      <td>0.0</td>\n",
       "      <td>0.0</td>\n",
       "      <td>0.0</td>\n",
       "      <td>0.0</td>\n",
       "      <td>259.83</td>\n",
       "      <td>0.0</td>\n",
       "      <td>0.0</td>\n",
       "      <td>0.0</td>\n",
       "    </tr>\n",
       "    <tr>\n",
       "      <th>2</th>\n",
       "      <td>000229ec398224ef6ca0657da4fc703e</td>\n",
       "      <td>0.0</td>\n",
       "      <td>1.0</td>\n",
       "      <td>0.0</td>\n",
       "      <td>0.0</td>\n",
       "      <td>0.0</td>\n",
       "      <td>0.0</td>\n",
       "      <td>5.0</td>\n",
       "      <td>0.0</td>\n",
       "      <td>0.0</td>\n",
       "      <td>0.0</td>\n",
       "      <td>0.0</td>\n",
       "      <td>216.87</td>\n",
       "      <td>0.0</td>\n",
       "      <td>0.0</td>\n",
       "      <td>0.0</td>\n",
       "    </tr>\n",
       "    <tr>\n",
       "      <th>3</th>\n",
       "      <td>00024acbcdf0a6daa1e931b038114c75</td>\n",
       "      <td>0.0</td>\n",
       "      <td>1.0</td>\n",
       "      <td>0.0</td>\n",
       "      <td>0.0</td>\n",
       "      <td>0.0</td>\n",
       "      <td>0.0</td>\n",
       "      <td>2.0</td>\n",
       "      <td>0.0</td>\n",
       "      <td>0.0</td>\n",
       "      <td>0.0</td>\n",
       "      <td>0.0</td>\n",
       "      <td>25.78</td>\n",
       "      <td>0.0</td>\n",
       "      <td>0.0</td>\n",
       "      <td>0.0</td>\n",
       "    </tr>\n",
       "    <tr>\n",
       "      <th>4</th>\n",
       "      <td>00042b26cf59d7ce69dfabb4e55b4fd9</td>\n",
       "      <td>0.0</td>\n",
       "      <td>1.0</td>\n",
       "      <td>0.0</td>\n",
       "      <td>0.0</td>\n",
       "      <td>0.0</td>\n",
       "      <td>0.0</td>\n",
       "      <td>3.0</td>\n",
       "      <td>0.0</td>\n",
       "      <td>0.0</td>\n",
       "      <td>0.0</td>\n",
       "      <td>0.0</td>\n",
       "      <td>218.04</td>\n",
       "      <td>0.0</td>\n",
       "      <td>0.0</td>\n",
       "      <td>0.0</td>\n",
       "    </tr>\n",
       "  </tbody>\n",
       "</table>\n",
       "</div>"
      ],
      "text/plain": [
       "                           order_id  payment_sequential_boleto  \\\n",
       "0  00010242fe8c5a6d1ba2dd792cb16214                        0.0   \n",
       "1  00018f77f2f0320c557190d7a144bdd3                        0.0   \n",
       "2  000229ec398224ef6ca0657da4fc703e                        0.0   \n",
       "3  00024acbcdf0a6daa1e931b038114c75                        0.0   \n",
       "4  00042b26cf59d7ce69dfabb4e55b4fd9                        0.0   \n",
       "\n",
       "   payment_sequential_credit_card  payment_sequential_debit_card  \\\n",
       "0                             1.0                            0.0   \n",
       "1                             1.0                            0.0   \n",
       "2                             1.0                            0.0   \n",
       "3                             1.0                            0.0   \n",
       "4                             1.0                            0.0   \n",
       "\n",
       "   payment_sequential_not_defined  payment_sequential_voucher  \\\n",
       "0                             0.0                         0.0   \n",
       "1                             0.0                         0.0   \n",
       "2                             0.0                         0.0   \n",
       "3                             0.0                         0.0   \n",
       "4                             0.0                         0.0   \n",
       "\n",
       "   payment_installments_boleto  payment_installments_credit_card  \\\n",
       "0                          0.0                               2.0   \n",
       "1                          0.0                               3.0   \n",
       "2                          0.0                               5.0   \n",
       "3                          0.0                               2.0   \n",
       "4                          0.0                               3.0   \n",
       "\n",
       "   payment_installments_debit_card  payment_installments_not_defined  \\\n",
       "0                              0.0                               0.0   \n",
       "1                              0.0                               0.0   \n",
       "2                              0.0                               0.0   \n",
       "3                              0.0                               0.0   \n",
       "4                              0.0                               0.0   \n",
       "\n",
       "   payment_installments_voucher  payment_value_boleto  \\\n",
       "0                           0.0                   0.0   \n",
       "1                           0.0                   0.0   \n",
       "2                           0.0                   0.0   \n",
       "3                           0.0                   0.0   \n",
       "4                           0.0                   0.0   \n",
       "\n",
       "   payment_value_credit_card  payment_value_debit_card  \\\n",
       "0                      72.19                       0.0   \n",
       "1                     259.83                       0.0   \n",
       "2                     216.87                       0.0   \n",
       "3                      25.78                       0.0   \n",
       "4                     218.04                       0.0   \n",
       "\n",
       "   payment_value_not_defined  payment_value_voucher  \n",
       "0                        0.0                    0.0  \n",
       "1                        0.0                    0.0  \n",
       "2                        0.0                    0.0  \n",
       "3                        0.0                    0.0  \n",
       "4                        0.0                    0.0  "
      ]
     },
     "execution_count": 54,
     "metadata": {},
     "output_type": "execute_result"
    }
   ],
   "source": [
    "x.head()"
   ]
  },
  {
   "cell_type": "code",
   "execution_count": 55,
   "metadata": {},
   "outputs": [
    {
     "data": {
      "text/html": [
       "<div>\n",
       "<style scoped>\n",
       "    .dataframe tbody tr th:only-of-type {\n",
       "        vertical-align: middle;\n",
       "    }\n",
       "\n",
       "    .dataframe tbody tr th {\n",
       "        vertical-align: top;\n",
       "    }\n",
       "\n",
       "    .dataframe thead th {\n",
       "        text-align: right;\n",
       "    }\n",
       "</style>\n",
       "<table border=\"1\" class=\"dataframe\">\n",
       "  <thead>\n",
       "    <tr style=\"text-align: right;\">\n",
       "      <th></th>\n",
       "      <th>order_id</th>\n",
       "      <th>payment_sequential_boleto</th>\n",
       "      <th>payment_sequential_credit_card</th>\n",
       "      <th>payment_sequential_debit_card</th>\n",
       "      <th>payment_sequential_not_defined</th>\n",
       "      <th>payment_sequential_voucher</th>\n",
       "      <th>payment_installments_boleto</th>\n",
       "      <th>payment_installments_credit_card</th>\n",
       "      <th>payment_installments_debit_card</th>\n",
       "      <th>payment_installments_not_defined</th>\n",
       "      <th>payment_installments_voucher</th>\n",
       "      <th>payment_value_boleto</th>\n",
       "      <th>payment_value_credit_card</th>\n",
       "      <th>payment_value_debit_card</th>\n",
       "      <th>payment_value_not_defined</th>\n",
       "      <th>payment_value_voucher</th>\n",
       "    </tr>\n",
       "  </thead>\n",
       "  <tbody>\n",
       "    <tr>\n",
       "      <th>92724</th>\n",
       "      <td>ee9ca989fc93ba09a6eddc250ce01742</td>\n",
       "      <td>0.0</td>\n",
       "      <td>1.0</td>\n",
       "      <td>0.0</td>\n",
       "      <td>0.0</td>\n",
       "      <td>18.0</td>\n",
       "      <td>0.0</td>\n",
       "      <td>1.0</td>\n",
       "      <td>0.0</td>\n",
       "      <td>0.0</td>\n",
       "      <td>18.0</td>\n",
       "      <td>0.0</td>\n",
       "      <td>1.76</td>\n",
       "      <td>0.0</td>\n",
       "      <td>0.0</td>\n",
       "      <td>80.97</td>\n",
       "    </tr>\n",
       "  </tbody>\n",
       "</table>\n",
       "</div>"
      ],
      "text/plain": [
       "                               order_id  payment_sequential_boleto  \\\n",
       "92724  ee9ca989fc93ba09a6eddc250ce01742                        0.0   \n",
       "\n",
       "       payment_sequential_credit_card  payment_sequential_debit_card  \\\n",
       "92724                             1.0                            0.0   \n",
       "\n",
       "       payment_sequential_not_defined  payment_sequential_voucher  \\\n",
       "92724                             0.0                        18.0   \n",
       "\n",
       "       payment_installments_boleto  payment_installments_credit_card  \\\n",
       "92724                          0.0                               1.0   \n",
       "\n",
       "       payment_installments_debit_card  payment_installments_not_defined  \\\n",
       "92724                              0.0                               0.0   \n",
       "\n",
       "       payment_installments_voucher  payment_value_boleto  \\\n",
       "92724                          18.0                   0.0   \n",
       "\n",
       "       payment_value_credit_card  payment_value_debit_card  \\\n",
       "92724                       1.76                       0.0   \n",
       "\n",
       "       payment_value_not_defined  payment_value_voucher  \n",
       "92724                        0.0                  80.97  "
      ]
     },
     "execution_count": 55,
     "metadata": {},
     "output_type": "execute_result"
    }
   ],
   "source": [
    "x[x['order_id'] == 'ee9ca989fc93ba09a6eddc250ce01742']"
   ]
  },
  {
   "cell_type": "code",
   "execution_count": 56,
   "metadata": {},
   "outputs": [],
   "source": [
    "group_by_order_payment_refined = pd.get_dummies(group_by_order_payment.reset_index(), columns = ['payment_type'])"
   ]
  },
  {
   "cell_type": "code",
   "execution_count": 57,
   "metadata": {},
   "outputs": [
    {
     "data": {
      "text/html": [
       "<div>\n",
       "<style scoped>\n",
       "    .dataframe tbody tr th:only-of-type {\n",
       "        vertical-align: middle;\n",
       "    }\n",
       "\n",
       "    .dataframe tbody tr th {\n",
       "        vertical-align: top;\n",
       "    }\n",
       "\n",
       "    .dataframe thead th {\n",
       "        text-align: right;\n",
       "    }\n",
       "</style>\n",
       "<table border=\"1\" class=\"dataframe\">\n",
       "  <thead>\n",
       "    <tr style=\"text-align: right;\">\n",
       "      <th></th>\n",
       "      <th>order_id</th>\n",
       "      <th>payment_sequential</th>\n",
       "      <th>payment_installments</th>\n",
       "      <th>payment_value</th>\n",
       "      <th>payment_type_boleto</th>\n",
       "      <th>payment_type_credit_card</th>\n",
       "      <th>payment_type_debit_card</th>\n",
       "      <th>payment_type_not_defined</th>\n",
       "      <th>payment_type_voucher</th>\n",
       "    </tr>\n",
       "  </thead>\n",
       "  <tbody>\n",
       "    <tr>\n",
       "      <th>94813</th>\n",
       "      <td>ee9ca989fc93ba09a6eddc250ce01742</td>\n",
       "      <td>1</td>\n",
       "      <td>1</td>\n",
       "      <td>1.76</td>\n",
       "      <td>0</td>\n",
       "      <td>1</td>\n",
       "      <td>0</td>\n",
       "      <td>0</td>\n",
       "      <td>0</td>\n",
       "    </tr>\n",
       "    <tr>\n",
       "      <th>94814</th>\n",
       "      <td>ee9ca989fc93ba09a6eddc250ce01742</td>\n",
       "      <td>18</td>\n",
       "      <td>18</td>\n",
       "      <td>80.97</td>\n",
       "      <td>0</td>\n",
       "      <td>0</td>\n",
       "      <td>0</td>\n",
       "      <td>0</td>\n",
       "      <td>1</td>\n",
       "    </tr>\n",
       "  </tbody>\n",
       "</table>\n",
       "</div>"
      ],
      "text/plain": [
       "                               order_id  payment_sequential  \\\n",
       "94813  ee9ca989fc93ba09a6eddc250ce01742                   1   \n",
       "94814  ee9ca989fc93ba09a6eddc250ce01742                  18   \n",
       "\n",
       "       payment_installments  payment_value  payment_type_boleto  \\\n",
       "94813                     1           1.76                    0   \n",
       "94814                    18          80.97                    0   \n",
       "\n",
       "       payment_type_credit_card  payment_type_debit_card  \\\n",
       "94813                         1                        0   \n",
       "94814                         0                        0   \n",
       "\n",
       "       payment_type_not_defined  payment_type_voucher  \n",
       "94813                         0                     0  \n",
       "94814                         0                     1  "
      ]
     },
     "execution_count": 57,
     "metadata": {},
     "output_type": "execute_result"
    }
   ],
   "source": [
    "group_by_order_payment_refined[group_by_order_payment_refined['order_id'] == 'ee9ca989fc93ba09a6eddc250ce01742']"
   ]
  },
  {
   "cell_type": "code",
   "execution_count": 58,
   "metadata": {},
   "outputs": [],
   "source": [
    "olist_order_payment_final = group_by_order_payment_refined.groupby('order_id').agg({'payment_type_boleto':sum,\n",
    "                                                                                   'payment_type_credit_card':sum,\n",
    "                                                                                   'payment_type_debit_card':sum,\n",
    "                                                                                   'payment_type_voucher':sum,}).reset_index()"
   ]
  },
  {
   "cell_type": "code",
   "execution_count": 59,
   "metadata": {},
   "outputs": [
    {
     "data": {
      "text/html": [
       "<div>\n",
       "<style scoped>\n",
       "    .dataframe tbody tr th:only-of-type {\n",
       "        vertical-align: middle;\n",
       "    }\n",
       "\n",
       "    .dataframe tbody tr th {\n",
       "        vertical-align: top;\n",
       "    }\n",
       "\n",
       "    .dataframe thead th {\n",
       "        text-align: right;\n",
       "    }\n",
       "</style>\n",
       "<table border=\"1\" class=\"dataframe\">\n",
       "  <thead>\n",
       "    <tr style=\"text-align: right;\">\n",
       "      <th></th>\n",
       "      <th>order_id</th>\n",
       "      <th>payment_type_boleto</th>\n",
       "      <th>payment_type_credit_card</th>\n",
       "      <th>payment_type_debit_card</th>\n",
       "      <th>payment_type_voucher</th>\n",
       "    </tr>\n",
       "  </thead>\n",
       "  <tbody>\n",
       "    <tr>\n",
       "      <th>0</th>\n",
       "      <td>00010242fe8c5a6d1ba2dd792cb16214</td>\n",
       "      <td>0</td>\n",
       "      <td>1</td>\n",
       "      <td>0</td>\n",
       "      <td>0</td>\n",
       "    </tr>\n",
       "    <tr>\n",
       "      <th>1</th>\n",
       "      <td>00018f77f2f0320c557190d7a144bdd3</td>\n",
       "      <td>0</td>\n",
       "      <td>1</td>\n",
       "      <td>0</td>\n",
       "      <td>0</td>\n",
       "    </tr>\n",
       "    <tr>\n",
       "      <th>2</th>\n",
       "      <td>000229ec398224ef6ca0657da4fc703e</td>\n",
       "      <td>0</td>\n",
       "      <td>1</td>\n",
       "      <td>0</td>\n",
       "      <td>0</td>\n",
       "    </tr>\n",
       "    <tr>\n",
       "      <th>3</th>\n",
       "      <td>00024acbcdf0a6daa1e931b038114c75</td>\n",
       "      <td>0</td>\n",
       "      <td>1</td>\n",
       "      <td>0</td>\n",
       "      <td>0</td>\n",
       "    </tr>\n",
       "    <tr>\n",
       "      <th>4</th>\n",
       "      <td>00042b26cf59d7ce69dfabb4e55b4fd9</td>\n",
       "      <td>0</td>\n",
       "      <td>1</td>\n",
       "      <td>0</td>\n",
       "      <td>0</td>\n",
       "    </tr>\n",
       "  </tbody>\n",
       "</table>\n",
       "</div>"
      ],
      "text/plain": [
       "                           order_id  payment_type_boleto  \\\n",
       "0  00010242fe8c5a6d1ba2dd792cb16214                    0   \n",
       "1  00018f77f2f0320c557190d7a144bdd3                    0   \n",
       "2  000229ec398224ef6ca0657da4fc703e                    0   \n",
       "3  00024acbcdf0a6daa1e931b038114c75                    0   \n",
       "4  00042b26cf59d7ce69dfabb4e55b4fd9                    0   \n",
       "\n",
       "   payment_type_credit_card  payment_type_debit_card  payment_type_voucher  \n",
       "0                         1                        0                     0  \n",
       "1                         1                        0                     0  \n",
       "2                         1                        0                     0  \n",
       "3                         1                        0                     0  \n",
       "4                         1                        0                     0  "
      ]
     },
     "execution_count": 59,
     "metadata": {},
     "output_type": "execute_result"
    }
   ],
   "source": [
    "olist_order_payment_final.head()"
   ]
  },
  {
   "cell_type": "code",
   "execution_count": 60,
   "metadata": {},
   "outputs": [
    {
     "data": {
      "text/plain": [
       "(99440, 5)"
      ]
     },
     "execution_count": 60,
     "metadata": {},
     "output_type": "execute_result"
    }
   ],
   "source": [
    "olist_order_payment_final.shape"
   ]
  },
  {
   "cell_type": "code",
   "execution_count": 61,
   "metadata": {},
   "outputs": [],
   "source": [
    "olist_order_payments_dataset = x.merge(olist_order_payment_final, on = 'order_id', validate = '1:1')"
   ]
  },
  {
   "cell_type": "code",
   "execution_count": 62,
   "metadata": {},
   "outputs": [
    {
     "data": {
      "text/html": [
       "<div>\n",
       "<style scoped>\n",
       "    .dataframe tbody tr th:only-of-type {\n",
       "        vertical-align: middle;\n",
       "    }\n",
       "\n",
       "    .dataframe tbody tr th {\n",
       "        vertical-align: top;\n",
       "    }\n",
       "\n",
       "    .dataframe thead th {\n",
       "        text-align: right;\n",
       "    }\n",
       "</style>\n",
       "<table border=\"1\" class=\"dataframe\">\n",
       "  <thead>\n",
       "    <tr style=\"text-align: right;\">\n",
       "      <th></th>\n",
       "      <th>order_id</th>\n",
       "      <th>payment_sequential_boleto</th>\n",
       "      <th>payment_sequential_credit_card</th>\n",
       "      <th>payment_sequential_debit_card</th>\n",
       "      <th>payment_sequential_not_defined</th>\n",
       "      <th>payment_sequential_voucher</th>\n",
       "      <th>payment_installments_boleto</th>\n",
       "      <th>payment_installments_credit_card</th>\n",
       "      <th>payment_installments_debit_card</th>\n",
       "      <th>payment_installments_not_defined</th>\n",
       "      <th>payment_installments_voucher</th>\n",
       "      <th>payment_value_boleto</th>\n",
       "      <th>payment_value_credit_card</th>\n",
       "      <th>payment_value_debit_card</th>\n",
       "      <th>payment_value_not_defined</th>\n",
       "      <th>payment_value_voucher</th>\n",
       "      <th>payment_type_boleto</th>\n",
       "      <th>payment_type_credit_card</th>\n",
       "      <th>payment_type_debit_card</th>\n",
       "      <th>payment_type_voucher</th>\n",
       "    </tr>\n",
       "  </thead>\n",
       "  <tbody>\n",
       "    <tr>\n",
       "      <th>0</th>\n",
       "      <td>00010242fe8c5a6d1ba2dd792cb16214</td>\n",
       "      <td>0.0</td>\n",
       "      <td>1.0</td>\n",
       "      <td>0.0</td>\n",
       "      <td>0.0</td>\n",
       "      <td>0.0</td>\n",
       "      <td>0.0</td>\n",
       "      <td>2.0</td>\n",
       "      <td>0.0</td>\n",
       "      <td>0.0</td>\n",
       "      <td>0.0</td>\n",
       "      <td>0.0</td>\n",
       "      <td>72.19</td>\n",
       "      <td>0.0</td>\n",
       "      <td>0.0</td>\n",
       "      <td>0.0</td>\n",
       "      <td>0</td>\n",
       "      <td>1</td>\n",
       "      <td>0</td>\n",
       "      <td>0</td>\n",
       "    </tr>\n",
       "    <tr>\n",
       "      <th>1</th>\n",
       "      <td>00018f77f2f0320c557190d7a144bdd3</td>\n",
       "      <td>0.0</td>\n",
       "      <td>1.0</td>\n",
       "      <td>0.0</td>\n",
       "      <td>0.0</td>\n",
       "      <td>0.0</td>\n",
       "      <td>0.0</td>\n",
       "      <td>3.0</td>\n",
       "      <td>0.0</td>\n",
       "      <td>0.0</td>\n",
       "      <td>0.0</td>\n",
       "      <td>0.0</td>\n",
       "      <td>259.83</td>\n",
       "      <td>0.0</td>\n",
       "      <td>0.0</td>\n",
       "      <td>0.0</td>\n",
       "      <td>0</td>\n",
       "      <td>1</td>\n",
       "      <td>0</td>\n",
       "      <td>0</td>\n",
       "    </tr>\n",
       "    <tr>\n",
       "      <th>2</th>\n",
       "      <td>000229ec398224ef6ca0657da4fc703e</td>\n",
       "      <td>0.0</td>\n",
       "      <td>1.0</td>\n",
       "      <td>0.0</td>\n",
       "      <td>0.0</td>\n",
       "      <td>0.0</td>\n",
       "      <td>0.0</td>\n",
       "      <td>5.0</td>\n",
       "      <td>0.0</td>\n",
       "      <td>0.0</td>\n",
       "      <td>0.0</td>\n",
       "      <td>0.0</td>\n",
       "      <td>216.87</td>\n",
       "      <td>0.0</td>\n",
       "      <td>0.0</td>\n",
       "      <td>0.0</td>\n",
       "      <td>0</td>\n",
       "      <td>1</td>\n",
       "      <td>0</td>\n",
       "      <td>0</td>\n",
       "    </tr>\n",
       "    <tr>\n",
       "      <th>3</th>\n",
       "      <td>00024acbcdf0a6daa1e931b038114c75</td>\n",
       "      <td>0.0</td>\n",
       "      <td>1.0</td>\n",
       "      <td>0.0</td>\n",
       "      <td>0.0</td>\n",
       "      <td>0.0</td>\n",
       "      <td>0.0</td>\n",
       "      <td>2.0</td>\n",
       "      <td>0.0</td>\n",
       "      <td>0.0</td>\n",
       "      <td>0.0</td>\n",
       "      <td>0.0</td>\n",
       "      <td>25.78</td>\n",
       "      <td>0.0</td>\n",
       "      <td>0.0</td>\n",
       "      <td>0.0</td>\n",
       "      <td>0</td>\n",
       "      <td>1</td>\n",
       "      <td>0</td>\n",
       "      <td>0</td>\n",
       "    </tr>\n",
       "    <tr>\n",
       "      <th>4</th>\n",
       "      <td>00042b26cf59d7ce69dfabb4e55b4fd9</td>\n",
       "      <td>0.0</td>\n",
       "      <td>1.0</td>\n",
       "      <td>0.0</td>\n",
       "      <td>0.0</td>\n",
       "      <td>0.0</td>\n",
       "      <td>0.0</td>\n",
       "      <td>3.0</td>\n",
       "      <td>0.0</td>\n",
       "      <td>0.0</td>\n",
       "      <td>0.0</td>\n",
       "      <td>0.0</td>\n",
       "      <td>218.04</td>\n",
       "      <td>0.0</td>\n",
       "      <td>0.0</td>\n",
       "      <td>0.0</td>\n",
       "      <td>0</td>\n",
       "      <td>1</td>\n",
       "      <td>0</td>\n",
       "      <td>0</td>\n",
       "    </tr>\n",
       "  </tbody>\n",
       "</table>\n",
       "</div>"
      ],
      "text/plain": [
       "                           order_id  payment_sequential_boleto  \\\n",
       "0  00010242fe8c5a6d1ba2dd792cb16214                        0.0   \n",
       "1  00018f77f2f0320c557190d7a144bdd3                        0.0   \n",
       "2  000229ec398224ef6ca0657da4fc703e                        0.0   \n",
       "3  00024acbcdf0a6daa1e931b038114c75                        0.0   \n",
       "4  00042b26cf59d7ce69dfabb4e55b4fd9                        0.0   \n",
       "\n",
       "   payment_sequential_credit_card  payment_sequential_debit_card  \\\n",
       "0                             1.0                            0.0   \n",
       "1                             1.0                            0.0   \n",
       "2                             1.0                            0.0   \n",
       "3                             1.0                            0.0   \n",
       "4                             1.0                            0.0   \n",
       "\n",
       "   payment_sequential_not_defined  payment_sequential_voucher  \\\n",
       "0                             0.0                         0.0   \n",
       "1                             0.0                         0.0   \n",
       "2                             0.0                         0.0   \n",
       "3                             0.0                         0.0   \n",
       "4                             0.0                         0.0   \n",
       "\n",
       "   payment_installments_boleto  payment_installments_credit_card  \\\n",
       "0                          0.0                               2.0   \n",
       "1                          0.0                               3.0   \n",
       "2                          0.0                               5.0   \n",
       "3                          0.0                               2.0   \n",
       "4                          0.0                               3.0   \n",
       "\n",
       "   payment_installments_debit_card  payment_installments_not_defined  \\\n",
       "0                              0.0                               0.0   \n",
       "1                              0.0                               0.0   \n",
       "2                              0.0                               0.0   \n",
       "3                              0.0                               0.0   \n",
       "4                              0.0                               0.0   \n",
       "\n",
       "   payment_installments_voucher  payment_value_boleto  \\\n",
       "0                           0.0                   0.0   \n",
       "1                           0.0                   0.0   \n",
       "2                           0.0                   0.0   \n",
       "3                           0.0                   0.0   \n",
       "4                           0.0                   0.0   \n",
       "\n",
       "   payment_value_credit_card  payment_value_debit_card  \\\n",
       "0                      72.19                       0.0   \n",
       "1                     259.83                       0.0   \n",
       "2                     216.87                       0.0   \n",
       "3                      25.78                       0.0   \n",
       "4                     218.04                       0.0   \n",
       "\n",
       "   payment_value_not_defined  payment_value_voucher  payment_type_boleto  \\\n",
       "0                        0.0                    0.0                    0   \n",
       "1                        0.0                    0.0                    0   \n",
       "2                        0.0                    0.0                    0   \n",
       "3                        0.0                    0.0                    0   \n",
       "4                        0.0                    0.0                    0   \n",
       "\n",
       "   payment_type_credit_card  payment_type_debit_card  payment_type_voucher  \n",
       "0                         1                        0                     0  \n",
       "1                         1                        0                     0  \n",
       "2                         1                        0                     0  \n",
       "3                         1                        0                     0  \n",
       "4                         1                        0                     0  "
      ]
     },
     "execution_count": 62,
     "metadata": {},
     "output_type": "execute_result"
    }
   ],
   "source": [
    "olist_order_payments_dataset.head()"
   ]
  },
  {
   "cell_type": "code",
   "execution_count": 63,
   "metadata": {},
   "outputs": [
    {
     "data": {
      "text/plain": [
       "(99440, 20)"
      ]
     },
     "execution_count": 63,
     "metadata": {},
     "output_type": "execute_result"
    }
   ],
   "source": [
    "olist_order_payments_dataset.shape"
   ]
  },
  {
   "cell_type": "markdown",
   "metadata": {},
   "source": [
    "#### <span style=\"color:red\"> Merge olist_dataset y olist_order_payments_dataset </span>"
   ]
  },
  {
   "cell_type": "code",
   "execution_count": 64,
   "metadata": {},
   "outputs": [],
   "source": [
    "olist_dataset = olist_dataset.merge(olist_order_payments_dataset, how = 'left', on = 'order_id', validate = '1:1')"
   ]
  },
  {
   "cell_type": "code",
   "execution_count": 66,
   "metadata": {},
   "outputs": [
    {
     "data": {
      "text/html": [
       "<div>\n",
       "<style scoped>\n",
       "    .dataframe tbody tr th:only-of-type {\n",
       "        vertical-align: middle;\n",
       "    }\n",
       "\n",
       "    .dataframe tbody tr th {\n",
       "        vertical-align: top;\n",
       "    }\n",
       "\n",
       "    .dataframe thead th {\n",
       "        text-align: right;\n",
       "    }\n",
       "</style>\n",
       "<table border=\"1\" class=\"dataframe\">\n",
       "  <thead>\n",
       "    <tr style=\"text-align: right;\">\n",
       "      <th></th>\n",
       "      <th>order_id</th>\n",
       "      <th>customer_id</th>\n",
       "      <th>order_status</th>\n",
       "      <th>order_purchase_timestamp</th>\n",
       "      <th>order_approved_at</th>\n",
       "      <th>order_delivered_carrier_date</th>\n",
       "      <th>order_delivered_customer_date</th>\n",
       "      <th>order_estimated_delivery_date</th>\n",
       "      <th>customer_unique_id</th>\n",
       "      <th>customer_zip_code_prefix</th>\n",
       "      <th>customer_city</th>\n",
       "      <th>customer_state</th>\n",
       "      <th>review_id</th>\n",
       "      <th>review_score</th>\n",
       "      <th>review_comment_title</th>\n",
       "      <th>review_comment_message</th>\n",
       "      <th>review_creation_date</th>\n",
       "      <th>review_answer_timestamp</th>\n",
       "      <th>payment_sequential_boleto</th>\n",
       "      <th>payment_sequential_credit_card</th>\n",
       "      <th>payment_sequential_debit_card</th>\n",
       "      <th>payment_sequential_not_defined</th>\n",
       "      <th>payment_sequential_voucher</th>\n",
       "      <th>payment_installments_boleto</th>\n",
       "      <th>payment_installments_credit_card</th>\n",
       "      <th>payment_installments_debit_card</th>\n",
       "      <th>payment_installments_not_defined</th>\n",
       "      <th>payment_installments_voucher</th>\n",
       "      <th>payment_value_boleto</th>\n",
       "      <th>payment_value_credit_card</th>\n",
       "      <th>payment_value_debit_card</th>\n",
       "      <th>payment_value_not_defined</th>\n",
       "      <th>payment_value_voucher</th>\n",
       "      <th>payment_type_boleto</th>\n",
       "      <th>payment_type_credit_card</th>\n",
       "      <th>payment_type_debit_card</th>\n",
       "      <th>payment_type_voucher</th>\n",
       "    </tr>\n",
       "  </thead>\n",
       "  <tbody>\n",
       "    <tr>\n",
       "      <th>0</th>\n",
       "      <td>e481f51cbdc54678b7cc49136f2d6af7</td>\n",
       "      <td>9ef432eb6251297304e76186b10a928d</td>\n",
       "      <td>delivered</td>\n",
       "      <td>2017-10-02 10:56:33</td>\n",
       "      <td>2017-10-02 11:07:15</td>\n",
       "      <td>2017-10-04 19:55:00</td>\n",
       "      <td>2017-10-10 21:25:13</td>\n",
       "      <td>2017-10-18 00:00:00</td>\n",
       "      <td>7c396fd4830fd04220f754e42b4e5bff</td>\n",
       "      <td>3149</td>\n",
       "      <td>sao paulo</td>\n",
       "      <td>SP</td>\n",
       "      <td>a54f0611adc9ed256b57ede6b6eb5114</td>\n",
       "      <td>4</td>\n",
       "      <td>NaN</td>\n",
       "      <td>Não testei o produto ainda, mas ele veio corre...</td>\n",
       "      <td>2017-10-11 00:00:00</td>\n",
       "      <td>2017-10-12 03:43:48</td>\n",
       "      <td>0.0</td>\n",
       "      <td>1.0</td>\n",
       "      <td>0.0</td>\n",
       "      <td>0.0</td>\n",
       "      <td>2.0</td>\n",
       "      <td>0.0</td>\n",
       "      <td>1.0</td>\n",
       "      <td>0.0</td>\n",
       "      <td>0.0</td>\n",
       "      <td>2.0</td>\n",
       "      <td>0.00</td>\n",
       "      <td>18.12</td>\n",
       "      <td>0.0</td>\n",
       "      <td>0.0</td>\n",
       "      <td>20.59</td>\n",
       "      <td>0.0</td>\n",
       "      <td>1.0</td>\n",
       "      <td>0.0</td>\n",
       "      <td>1.0</td>\n",
       "    </tr>\n",
       "    <tr>\n",
       "      <th>1</th>\n",
       "      <td>53cdb2fc8bc7dce0b6741e2150273451</td>\n",
       "      <td>b0830fb4747a6c6d20dea0b8c802d7ef</td>\n",
       "      <td>delivered</td>\n",
       "      <td>2018-07-24 20:41:37</td>\n",
       "      <td>2018-07-26 03:24:27</td>\n",
       "      <td>2018-07-26 14:31:00</td>\n",
       "      <td>2018-08-07 15:27:45</td>\n",
       "      <td>2018-08-13 00:00:00</td>\n",
       "      <td>af07308b275d755c9edb36a90c618231</td>\n",
       "      <td>47813</td>\n",
       "      <td>barreiras</td>\n",
       "      <td>BA</td>\n",
       "      <td>8d5266042046a06655c8db133d120ba5</td>\n",
       "      <td>4</td>\n",
       "      <td>Muito boa a loja</td>\n",
       "      <td>Muito bom o produto.</td>\n",
       "      <td>2018-08-08 00:00:00</td>\n",
       "      <td>2018-08-08 18:37:50</td>\n",
       "      <td>1.0</td>\n",
       "      <td>0.0</td>\n",
       "      <td>0.0</td>\n",
       "      <td>0.0</td>\n",
       "      <td>0.0</td>\n",
       "      <td>1.0</td>\n",
       "      <td>0.0</td>\n",
       "      <td>0.0</td>\n",
       "      <td>0.0</td>\n",
       "      <td>0.0</td>\n",
       "      <td>141.46</td>\n",
       "      <td>0.00</td>\n",
       "      <td>0.0</td>\n",
       "      <td>0.0</td>\n",
       "      <td>0.00</td>\n",
       "      <td>1.0</td>\n",
       "      <td>0.0</td>\n",
       "      <td>0.0</td>\n",
       "      <td>0.0</td>\n",
       "    </tr>\n",
       "    <tr>\n",
       "      <th>2</th>\n",
       "      <td>47770eb9100c2d0c44946d9cf07ec65d</td>\n",
       "      <td>41ce2a54c0b03bf3443c3d931a367089</td>\n",
       "      <td>delivered</td>\n",
       "      <td>2018-08-08 08:38:49</td>\n",
       "      <td>2018-08-08 08:55:23</td>\n",
       "      <td>2018-08-08 13:50:00</td>\n",
       "      <td>2018-08-17 18:06:29</td>\n",
       "      <td>2018-09-04 00:00:00</td>\n",
       "      <td>3a653a41f6f9fc3d2a113cf8398680e8</td>\n",
       "      <td>75265</td>\n",
       "      <td>vianopolis</td>\n",
       "      <td>GO</td>\n",
       "      <td>e73b67b67587f7644d5bd1a52deb1b01</td>\n",
       "      <td>5</td>\n",
       "      <td>NaN</td>\n",
       "      <td>NaN</td>\n",
       "      <td>2018-08-18 00:00:00</td>\n",
       "      <td>2018-08-22 19:07:58</td>\n",
       "      <td>0.0</td>\n",
       "      <td>1.0</td>\n",
       "      <td>0.0</td>\n",
       "      <td>0.0</td>\n",
       "      <td>0.0</td>\n",
       "      <td>0.0</td>\n",
       "      <td>3.0</td>\n",
       "      <td>0.0</td>\n",
       "      <td>0.0</td>\n",
       "      <td>0.0</td>\n",
       "      <td>0.00</td>\n",
       "      <td>179.12</td>\n",
       "      <td>0.0</td>\n",
       "      <td>0.0</td>\n",
       "      <td>0.00</td>\n",
       "      <td>0.0</td>\n",
       "      <td>1.0</td>\n",
       "      <td>0.0</td>\n",
       "      <td>0.0</td>\n",
       "    </tr>\n",
       "    <tr>\n",
       "      <th>3</th>\n",
       "      <td>949d5b44dbf5de918fe9c16f97b45f8a</td>\n",
       "      <td>f88197465ea7920adcdbec7375364d82</td>\n",
       "      <td>delivered</td>\n",
       "      <td>2017-11-18 19:28:06</td>\n",
       "      <td>2017-11-18 19:45:59</td>\n",
       "      <td>2017-11-22 13:39:59</td>\n",
       "      <td>2017-12-02 00:28:42</td>\n",
       "      <td>2017-12-15 00:00:00</td>\n",
       "      <td>7c142cf63193a1473d2e66489a9ae977</td>\n",
       "      <td>59296</td>\n",
       "      <td>sao goncalo do amarante</td>\n",
       "      <td>RN</td>\n",
       "      <td>359d03e676b3c069f62cadba8dd3f6e8</td>\n",
       "      <td>5</td>\n",
       "      <td>NaN</td>\n",
       "      <td>O produto foi exatamente o que eu esperava e e...</td>\n",
       "      <td>2017-12-03 00:00:00</td>\n",
       "      <td>2017-12-05 19:21:58</td>\n",
       "      <td>0.0</td>\n",
       "      <td>1.0</td>\n",
       "      <td>0.0</td>\n",
       "      <td>0.0</td>\n",
       "      <td>0.0</td>\n",
       "      <td>0.0</td>\n",
       "      <td>1.0</td>\n",
       "      <td>0.0</td>\n",
       "      <td>0.0</td>\n",
       "      <td>0.0</td>\n",
       "      <td>0.00</td>\n",
       "      <td>72.20</td>\n",
       "      <td>0.0</td>\n",
       "      <td>0.0</td>\n",
       "      <td>0.00</td>\n",
       "      <td>0.0</td>\n",
       "      <td>1.0</td>\n",
       "      <td>0.0</td>\n",
       "      <td>0.0</td>\n",
       "    </tr>\n",
       "    <tr>\n",
       "      <th>4</th>\n",
       "      <td>ad21c59c0840e6cb83a9ceb5573f8159</td>\n",
       "      <td>8ab97904e6daea8866dbdbc4fb7aad2c</td>\n",
       "      <td>delivered</td>\n",
       "      <td>2018-02-13 21:18:39</td>\n",
       "      <td>2018-02-13 22:20:29</td>\n",
       "      <td>2018-02-14 19:46:34</td>\n",
       "      <td>2018-02-16 18:17:02</td>\n",
       "      <td>2018-02-26 00:00:00</td>\n",
       "      <td>72632f0f9dd73dfee390c9b22eb56dd6</td>\n",
       "      <td>9195</td>\n",
       "      <td>santo andre</td>\n",
       "      <td>SP</td>\n",
       "      <td>e50934924e227544ba8246aeb3770dd4</td>\n",
       "      <td>5</td>\n",
       "      <td>NaN</td>\n",
       "      <td>NaN</td>\n",
       "      <td>2018-02-17 00:00:00</td>\n",
       "      <td>2018-02-18 13:02:51</td>\n",
       "      <td>0.0</td>\n",
       "      <td>1.0</td>\n",
       "      <td>0.0</td>\n",
       "      <td>0.0</td>\n",
       "      <td>0.0</td>\n",
       "      <td>0.0</td>\n",
       "      <td>1.0</td>\n",
       "      <td>0.0</td>\n",
       "      <td>0.0</td>\n",
       "      <td>0.0</td>\n",
       "      <td>0.00</td>\n",
       "      <td>28.62</td>\n",
       "      <td>0.0</td>\n",
       "      <td>0.0</td>\n",
       "      <td>0.00</td>\n",
       "      <td>0.0</td>\n",
       "      <td>1.0</td>\n",
       "      <td>0.0</td>\n",
       "      <td>0.0</td>\n",
       "    </tr>\n",
       "  </tbody>\n",
       "</table>\n",
       "</div>"
      ],
      "text/plain": [
       "                           order_id                       customer_id  \\\n",
       "0  e481f51cbdc54678b7cc49136f2d6af7  9ef432eb6251297304e76186b10a928d   \n",
       "1  53cdb2fc8bc7dce0b6741e2150273451  b0830fb4747a6c6d20dea0b8c802d7ef   \n",
       "2  47770eb9100c2d0c44946d9cf07ec65d  41ce2a54c0b03bf3443c3d931a367089   \n",
       "3  949d5b44dbf5de918fe9c16f97b45f8a  f88197465ea7920adcdbec7375364d82   \n",
       "4  ad21c59c0840e6cb83a9ceb5573f8159  8ab97904e6daea8866dbdbc4fb7aad2c   \n",
       "\n",
       "  order_status order_purchase_timestamp    order_approved_at  \\\n",
       "0    delivered      2017-10-02 10:56:33  2017-10-02 11:07:15   \n",
       "1    delivered      2018-07-24 20:41:37  2018-07-26 03:24:27   \n",
       "2    delivered      2018-08-08 08:38:49  2018-08-08 08:55:23   \n",
       "3    delivered      2017-11-18 19:28:06  2017-11-18 19:45:59   \n",
       "4    delivered      2018-02-13 21:18:39  2018-02-13 22:20:29   \n",
       "\n",
       "  order_delivered_carrier_date order_delivered_customer_date  \\\n",
       "0          2017-10-04 19:55:00           2017-10-10 21:25:13   \n",
       "1          2018-07-26 14:31:00           2018-08-07 15:27:45   \n",
       "2          2018-08-08 13:50:00           2018-08-17 18:06:29   \n",
       "3          2017-11-22 13:39:59           2017-12-02 00:28:42   \n",
       "4          2018-02-14 19:46:34           2018-02-16 18:17:02   \n",
       "\n",
       "  order_estimated_delivery_date                customer_unique_id  \\\n",
       "0           2017-10-18 00:00:00  7c396fd4830fd04220f754e42b4e5bff   \n",
       "1           2018-08-13 00:00:00  af07308b275d755c9edb36a90c618231   \n",
       "2           2018-09-04 00:00:00  3a653a41f6f9fc3d2a113cf8398680e8   \n",
       "3           2017-12-15 00:00:00  7c142cf63193a1473d2e66489a9ae977   \n",
       "4           2018-02-26 00:00:00  72632f0f9dd73dfee390c9b22eb56dd6   \n",
       "\n",
       "   customer_zip_code_prefix            customer_city customer_state  \\\n",
       "0                      3149                sao paulo             SP   \n",
       "1                     47813                barreiras             BA   \n",
       "2                     75265               vianopolis             GO   \n",
       "3                     59296  sao goncalo do amarante             RN   \n",
       "4                      9195              santo andre             SP   \n",
       "\n",
       "                          review_id  review_score review_comment_title  \\\n",
       "0  a54f0611adc9ed256b57ede6b6eb5114             4                  NaN   \n",
       "1  8d5266042046a06655c8db133d120ba5             4     Muito boa a loja   \n",
       "2  e73b67b67587f7644d5bd1a52deb1b01             5                  NaN   \n",
       "3  359d03e676b3c069f62cadba8dd3f6e8             5                  NaN   \n",
       "4  e50934924e227544ba8246aeb3770dd4             5                  NaN   \n",
       "\n",
       "                              review_comment_message review_creation_date  \\\n",
       "0  Não testei o produto ainda, mas ele veio corre...  2017-10-11 00:00:00   \n",
       "1                               Muito bom o produto.  2018-08-08 00:00:00   \n",
       "2                                                NaN  2018-08-18 00:00:00   \n",
       "3  O produto foi exatamente o que eu esperava e e...  2017-12-03 00:00:00   \n",
       "4                                                NaN  2018-02-17 00:00:00   \n",
       "\n",
       "  review_answer_timestamp  payment_sequential_boleto  \\\n",
       "0     2017-10-12 03:43:48                        0.0   \n",
       "1     2018-08-08 18:37:50                        1.0   \n",
       "2     2018-08-22 19:07:58                        0.0   \n",
       "3     2017-12-05 19:21:58                        0.0   \n",
       "4     2018-02-18 13:02:51                        0.0   \n",
       "\n",
       "   payment_sequential_credit_card  payment_sequential_debit_card  \\\n",
       "0                             1.0                            0.0   \n",
       "1                             0.0                            0.0   \n",
       "2                             1.0                            0.0   \n",
       "3                             1.0                            0.0   \n",
       "4                             1.0                            0.0   \n",
       "\n",
       "   payment_sequential_not_defined  payment_sequential_voucher  \\\n",
       "0                             0.0                         2.0   \n",
       "1                             0.0                         0.0   \n",
       "2                             0.0                         0.0   \n",
       "3                             0.0                         0.0   \n",
       "4                             0.0                         0.0   \n",
       "\n",
       "   payment_installments_boleto  payment_installments_credit_card  \\\n",
       "0                          0.0                               1.0   \n",
       "1                          1.0                               0.0   \n",
       "2                          0.0                               3.0   \n",
       "3                          0.0                               1.0   \n",
       "4                          0.0                               1.0   \n",
       "\n",
       "   payment_installments_debit_card  payment_installments_not_defined  \\\n",
       "0                              0.0                               0.0   \n",
       "1                              0.0                               0.0   \n",
       "2                              0.0                               0.0   \n",
       "3                              0.0                               0.0   \n",
       "4                              0.0                               0.0   \n",
       "\n",
       "   payment_installments_voucher  payment_value_boleto  \\\n",
       "0                           2.0                  0.00   \n",
       "1                           0.0                141.46   \n",
       "2                           0.0                  0.00   \n",
       "3                           0.0                  0.00   \n",
       "4                           0.0                  0.00   \n",
       "\n",
       "   payment_value_credit_card  payment_value_debit_card  \\\n",
       "0                      18.12                       0.0   \n",
       "1                       0.00                       0.0   \n",
       "2                     179.12                       0.0   \n",
       "3                      72.20                       0.0   \n",
       "4                      28.62                       0.0   \n",
       "\n",
       "   payment_value_not_defined  payment_value_voucher  payment_type_boleto  \\\n",
       "0                        0.0                  20.59                  0.0   \n",
       "1                        0.0                   0.00                  1.0   \n",
       "2                        0.0                   0.00                  0.0   \n",
       "3                        0.0                   0.00                  0.0   \n",
       "4                        0.0                   0.00                  0.0   \n",
       "\n",
       "   payment_type_credit_card  payment_type_debit_card  payment_type_voucher  \n",
       "0                       1.0                      0.0                   1.0  \n",
       "1                       0.0                      0.0                   0.0  \n",
       "2                       1.0                      0.0                   0.0  \n",
       "3                       1.0                      0.0                   0.0  \n",
       "4                       1.0                      0.0                   0.0  "
      ]
     },
     "execution_count": 66,
     "metadata": {},
     "output_type": "execute_result"
    }
   ],
   "source": [
    "pd.set_option(\"display.max_columns\", None)\n",
    "olist_dataset.head()"
   ]
  },
  {
   "cell_type": "code",
   "execution_count": 67,
   "metadata": {},
   "outputs": [
    {
     "data": {
      "text/plain": [
       "(99441, 37)"
      ]
     },
     "execution_count": 67,
     "metadata": {},
     "output_type": "execute_result"
    }
   ],
   "source": [
    "olist_dataset.shape"
   ]
  },
  {
   "cell_type": "code",
   "execution_count": 68,
   "metadata": {},
   "outputs": [
    {
     "data": {
      "text/plain": [
       "False    99441\n",
       "dtype: int64"
      ]
     },
     "execution_count": 68,
     "metadata": {},
     "output_type": "execute_result"
    }
   ],
   "source": [
    "olist_dataset.duplicated('order_id',keep='first').value_counts()"
   ]
  },
  {
   "cell_type": "code",
   "execution_count": 69,
   "metadata": {},
   "outputs": [
    {
     "data": {
      "text/plain": [
       "{'bfbd0f9bdef84302105ad712db648a6c'}"
      ]
     },
     "execution_count": 69,
     "metadata": {},
     "output_type": "execute_result"
    }
   ],
   "source": [
    "set(olist_order_reviews_dataset['order_id']).difference(set(olist_order_payments_dataset['order_id']))"
   ]
  },
  {
   "cell_type": "code",
   "execution_count": 70,
   "metadata": {},
   "outputs": [
    {
     "data": {
      "text/html": [
       "<div>\n",
       "<style scoped>\n",
       "    .dataframe tbody tr th:only-of-type {\n",
       "        vertical-align: middle;\n",
       "    }\n",
       "\n",
       "    .dataframe tbody tr th {\n",
       "        vertical-align: top;\n",
       "    }\n",
       "\n",
       "    .dataframe thead th {\n",
       "        text-align: right;\n",
       "    }\n",
       "</style>\n",
       "<table border=\"1\" class=\"dataframe\">\n",
       "  <thead>\n",
       "    <tr style=\"text-align: right;\">\n",
       "      <th></th>\n",
       "      <th>order_id</th>\n",
       "      <th>customer_id</th>\n",
       "      <th>order_status</th>\n",
       "      <th>order_purchase_timestamp</th>\n",
       "      <th>order_approved_at</th>\n",
       "      <th>order_delivered_carrier_date</th>\n",
       "      <th>order_delivered_customer_date</th>\n",
       "      <th>order_estimated_delivery_date</th>\n",
       "      <th>customer_unique_id</th>\n",
       "      <th>customer_zip_code_prefix</th>\n",
       "      <th>customer_city</th>\n",
       "      <th>customer_state</th>\n",
       "      <th>review_id</th>\n",
       "      <th>review_score</th>\n",
       "      <th>review_comment_title</th>\n",
       "      <th>review_comment_message</th>\n",
       "      <th>review_creation_date</th>\n",
       "      <th>review_answer_timestamp</th>\n",
       "      <th>payment_sequential_boleto</th>\n",
       "      <th>payment_sequential_credit_card</th>\n",
       "      <th>payment_sequential_debit_card</th>\n",
       "      <th>payment_sequential_not_defined</th>\n",
       "      <th>payment_sequential_voucher</th>\n",
       "      <th>payment_installments_boleto</th>\n",
       "      <th>payment_installments_credit_card</th>\n",
       "      <th>payment_installments_debit_card</th>\n",
       "      <th>payment_installments_not_defined</th>\n",
       "      <th>payment_installments_voucher</th>\n",
       "      <th>payment_value_boleto</th>\n",
       "      <th>payment_value_credit_card</th>\n",
       "      <th>payment_value_debit_card</th>\n",
       "      <th>payment_value_not_defined</th>\n",
       "      <th>payment_value_voucher</th>\n",
       "      <th>payment_type_boleto</th>\n",
       "      <th>payment_type_credit_card</th>\n",
       "      <th>payment_type_debit_card</th>\n",
       "      <th>payment_type_voucher</th>\n",
       "    </tr>\n",
       "  </thead>\n",
       "  <tbody>\n",
       "    <tr>\n",
       "      <th>30710</th>\n",
       "      <td>bfbd0f9bdef84302105ad712db648a6c</td>\n",
       "      <td>86dc2ffce2dfff336de2f386a786e574</td>\n",
       "      <td>delivered</td>\n",
       "      <td>2016-09-15 12:16:38</td>\n",
       "      <td>2016-09-15 12:16:38</td>\n",
       "      <td>2016-11-07 17:11:53</td>\n",
       "      <td>2016-11-09 07:47:38</td>\n",
       "      <td>2016-10-04 00:00:00</td>\n",
       "      <td>830d5b7aaa3b6f1e9ad63703bec97d23</td>\n",
       "      <td>14600</td>\n",
       "      <td>sao joaquim da barra</td>\n",
       "      <td>SP</td>\n",
       "      <td>6916ca4502d6d3bfd39818759d55d536</td>\n",
       "      <td>1</td>\n",
       "      <td>NaN</td>\n",
       "      <td>nao recebi o produto e nem resposta da empresa</td>\n",
       "      <td>2016-10-06 00:00:00</td>\n",
       "      <td>2016-10-07 18:32:28</td>\n",
       "      <td>NaN</td>\n",
       "      <td>NaN</td>\n",
       "      <td>NaN</td>\n",
       "      <td>NaN</td>\n",
       "      <td>NaN</td>\n",
       "      <td>NaN</td>\n",
       "      <td>NaN</td>\n",
       "      <td>NaN</td>\n",
       "      <td>NaN</td>\n",
       "      <td>NaN</td>\n",
       "      <td>NaN</td>\n",
       "      <td>NaN</td>\n",
       "      <td>NaN</td>\n",
       "      <td>NaN</td>\n",
       "      <td>NaN</td>\n",
       "      <td>NaN</td>\n",
       "      <td>NaN</td>\n",
       "      <td>NaN</td>\n",
       "      <td>NaN</td>\n",
       "    </tr>\n",
       "  </tbody>\n",
       "</table>\n",
       "</div>"
      ],
      "text/plain": [
       "                               order_id                       customer_id  \\\n",
       "30710  bfbd0f9bdef84302105ad712db648a6c  86dc2ffce2dfff336de2f386a786e574   \n",
       "\n",
       "      order_status order_purchase_timestamp    order_approved_at  \\\n",
       "30710    delivered      2016-09-15 12:16:38  2016-09-15 12:16:38   \n",
       "\n",
       "      order_delivered_carrier_date order_delivered_customer_date  \\\n",
       "30710          2016-11-07 17:11:53           2016-11-09 07:47:38   \n",
       "\n",
       "      order_estimated_delivery_date                customer_unique_id  \\\n",
       "30710           2016-10-04 00:00:00  830d5b7aaa3b6f1e9ad63703bec97d23   \n",
       "\n",
       "       customer_zip_code_prefix         customer_city customer_state  \\\n",
       "30710                     14600  sao joaquim da barra             SP   \n",
       "\n",
       "                              review_id  review_score review_comment_title  \\\n",
       "30710  6916ca4502d6d3bfd39818759d55d536             1                  NaN   \n",
       "\n",
       "                               review_comment_message review_creation_date  \\\n",
       "30710  nao recebi o produto e nem resposta da empresa  2016-10-06 00:00:00   \n",
       "\n",
       "      review_answer_timestamp  payment_sequential_boleto  \\\n",
       "30710     2016-10-07 18:32:28                        NaN   \n",
       "\n",
       "       payment_sequential_credit_card  payment_sequential_debit_card  \\\n",
       "30710                             NaN                            NaN   \n",
       "\n",
       "       payment_sequential_not_defined  payment_sequential_voucher  \\\n",
       "30710                             NaN                         NaN   \n",
       "\n",
       "       payment_installments_boleto  payment_installments_credit_card  \\\n",
       "30710                          NaN                               NaN   \n",
       "\n",
       "       payment_installments_debit_card  payment_installments_not_defined  \\\n",
       "30710                              NaN                               NaN   \n",
       "\n",
       "       payment_installments_voucher  payment_value_boleto  \\\n",
       "30710                           NaN                   NaN   \n",
       "\n",
       "       payment_value_credit_card  payment_value_debit_card  \\\n",
       "30710                        NaN                       NaN   \n",
       "\n",
       "       payment_value_not_defined  payment_value_voucher  payment_type_boleto  \\\n",
       "30710                        NaN                    NaN                  NaN   \n",
       "\n",
       "       payment_type_credit_card  payment_type_debit_card  payment_type_voucher  \n",
       "30710                       NaN                      NaN                   NaN  "
      ]
     },
     "execution_count": 70,
     "metadata": {},
     "output_type": "execute_result"
    }
   ],
   "source": [
    "olist_dataset[olist_dataset['order_id'] == 'bfbd0f9bdef84302105ad712db648a6c']"
   ]
  },
  {
   "cell_type": "markdown",
   "metadata": {},
   "source": [
    "------"
   ]
  },
  {
   "cell_type": "markdown",
   "metadata": {},
   "source": [
    "------"
   ]
  },
  {
   "cell_type": "markdown",
   "metadata": {},
   "source": [
    "## olist_geolocation_dataset"
   ]
  },
  {
   "cell_type": "code",
   "execution_count": 385,
   "metadata": {},
   "outputs": [],
   "source": [
    "olist_geolocation_dataset = pd.read_csv('olist_geolocation_dataset.csv')"
   ]
  },
  {
   "cell_type": "code",
   "execution_count": 386,
   "metadata": {},
   "outputs": [
    {
     "data": {
      "text/html": [
       "<div>\n",
       "<style scoped>\n",
       "    .dataframe tbody tr th:only-of-type {\n",
       "        vertical-align: middle;\n",
       "    }\n",
       "\n",
       "    .dataframe tbody tr th {\n",
       "        vertical-align: top;\n",
       "    }\n",
       "\n",
       "    .dataframe thead th {\n",
       "        text-align: right;\n",
       "    }\n",
       "</style>\n",
       "<table border=\"1\" class=\"dataframe\">\n",
       "  <thead>\n",
       "    <tr style=\"text-align: right;\">\n",
       "      <th></th>\n",
       "      <th>geolocation_zip_code_prefix</th>\n",
       "      <th>geolocation_lat</th>\n",
       "      <th>geolocation_lng</th>\n",
       "      <th>geolocation_city</th>\n",
       "      <th>geolocation_state</th>\n",
       "    </tr>\n",
       "  </thead>\n",
       "  <tbody>\n",
       "    <tr>\n",
       "      <th>0</th>\n",
       "      <td>1037</td>\n",
       "      <td>-23.545621</td>\n",
       "      <td>-46.639292</td>\n",
       "      <td>sao paulo</td>\n",
       "      <td>SP</td>\n",
       "    </tr>\n",
       "    <tr>\n",
       "      <th>1</th>\n",
       "      <td>1046</td>\n",
       "      <td>-23.546081</td>\n",
       "      <td>-46.644820</td>\n",
       "      <td>sao paulo</td>\n",
       "      <td>SP</td>\n",
       "    </tr>\n",
       "    <tr>\n",
       "      <th>2</th>\n",
       "      <td>1046</td>\n",
       "      <td>-23.546129</td>\n",
       "      <td>-46.642951</td>\n",
       "      <td>sao paulo</td>\n",
       "      <td>SP</td>\n",
       "    </tr>\n",
       "    <tr>\n",
       "      <th>3</th>\n",
       "      <td>1041</td>\n",
       "      <td>-23.544392</td>\n",
       "      <td>-46.639499</td>\n",
       "      <td>sao paulo</td>\n",
       "      <td>SP</td>\n",
       "    </tr>\n",
       "    <tr>\n",
       "      <th>4</th>\n",
       "      <td>1035</td>\n",
       "      <td>-23.541578</td>\n",
       "      <td>-46.641607</td>\n",
       "      <td>sao paulo</td>\n",
       "      <td>SP</td>\n",
       "    </tr>\n",
       "  </tbody>\n",
       "</table>\n",
       "</div>"
      ],
      "text/plain": [
       "   geolocation_zip_code_prefix  geolocation_lat  geolocation_lng  \\\n",
       "0                         1037       -23.545621       -46.639292   \n",
       "1                         1046       -23.546081       -46.644820   \n",
       "2                         1046       -23.546129       -46.642951   \n",
       "3                         1041       -23.544392       -46.639499   \n",
       "4                         1035       -23.541578       -46.641607   \n",
       "\n",
       "  geolocation_city geolocation_state  \n",
       "0        sao paulo                SP  \n",
       "1        sao paulo                SP  \n",
       "2        sao paulo                SP  \n",
       "3        sao paulo                SP  \n",
       "4        sao paulo                SP  "
      ]
     },
     "execution_count": 386,
     "metadata": {},
     "output_type": "execute_result"
    }
   ],
   "source": [
    "olist_geolocation_dataset.head()"
   ]
  },
  {
   "cell_type": "code",
   "execution_count": 387,
   "metadata": {},
   "outputs": [
    {
     "data": {
      "text/plain": [
       "(1000163, 5)"
      ]
     },
     "execution_count": 387,
     "metadata": {},
     "output_type": "execute_result"
    }
   ],
   "source": [
    "olist_geolocation_dataset.shape"
   ]
  },
  {
   "cell_type": "code",
   "execution_count": 388,
   "metadata": {},
   "outputs": [
    {
     "data": {
      "text/plain": [
       "False    738332\n",
       "True     261831\n",
       "dtype: int64"
      ]
     },
     "execution_count": 388,
     "metadata": {},
     "output_type": "execute_result"
    }
   ],
   "source": [
    "olist_geolocation_dataset.duplicated(keep='first').value_counts()"
   ]
  },
  {
   "cell_type": "code",
   "execution_count": 389,
   "metadata": {},
   "outputs": [
    {
     "data": {
      "text/plain": [
       "True     981148\n",
       "False     19015\n",
       "dtype: int64"
      ]
     },
     "execution_count": 389,
     "metadata": {},
     "output_type": "execute_result"
    }
   ],
   "source": [
    "z = olist_geolocation_dataset.duplicated('geolocation_zip_code_prefix',keep='first')#\n",
    "z.value_counts()"
   ]
  },
  {
   "cell_type": "markdown",
   "metadata": {},
   "source": [
    "Es necesario primero eliminar los duplicados de la base, pues están enmarcando el mismo sitio"
   ]
  },
  {
   "cell_type": "code",
   "execution_count": 390,
   "metadata": {},
   "outputs": [],
   "source": [
    "olist_geolocation_dataset.drop_duplicates(inplace = True)"
   ]
  },
  {
   "cell_type": "code",
   "execution_count": 391,
   "metadata": {},
   "outputs": [
    {
     "data": {
      "text/plain": [
       "True     719317\n",
       "False     19015\n",
       "dtype: int64"
      ]
     },
     "execution_count": 391,
     "metadata": {},
     "output_type": "execute_result"
    }
   ],
   "source": [
    "z = olist_geolocation_dataset.duplicated('geolocation_zip_code_prefix',keep='first')#\n",
    "z.value_counts()"
   ]
  },
  {
   "cell_type": "code",
   "execution_count": 392,
   "metadata": {},
   "outputs": [
    {
     "data": {
      "text/html": [
       "<div>\n",
       "<style scoped>\n",
       "    .dataframe tbody tr th:only-of-type {\n",
       "        vertical-align: middle;\n",
       "    }\n",
       "\n",
       "    .dataframe tbody tr th {\n",
       "        vertical-align: top;\n",
       "    }\n",
       "\n",
       "    .dataframe thead th {\n",
       "        text-align: right;\n",
       "    }\n",
       "</style>\n",
       "<table border=\"1\" class=\"dataframe\">\n",
       "  <thead>\n",
       "    <tr style=\"text-align: right;\">\n",
       "      <th></th>\n",
       "      <th>geolocation_zip_code_prefix</th>\n",
       "      <th>geolocation_lat</th>\n",
       "      <th>geolocation_lng</th>\n",
       "      <th>geolocation_city</th>\n",
       "      <th>geolocation_state</th>\n",
       "    </tr>\n",
       "  </thead>\n",
       "  <tbody>\n",
       "    <tr>\n",
       "      <th>519</th>\n",
       "      <td>1001</td>\n",
       "      <td>-23.551337</td>\n",
       "      <td>-46.634027</td>\n",
       "      <td>sao paulo</td>\n",
       "      <td>SP</td>\n",
       "    </tr>\n",
       "    <tr>\n",
       "      <th>235</th>\n",
       "      <td>1001</td>\n",
       "      <td>-23.550642</td>\n",
       "      <td>-46.634410</td>\n",
       "      <td>sao paulo</td>\n",
       "      <td>SP</td>\n",
       "    </tr>\n",
       "    <tr>\n",
       "      <th>206</th>\n",
       "      <td>1001</td>\n",
       "      <td>-23.550498</td>\n",
       "      <td>-46.634338</td>\n",
       "      <td>sao paulo</td>\n",
       "      <td>SP</td>\n",
       "    </tr>\n",
       "    <tr>\n",
       "      <th>326</th>\n",
       "      <td>1001</td>\n",
       "      <td>-23.551427</td>\n",
       "      <td>-46.634074</td>\n",
       "      <td>sao paulo</td>\n",
       "      <td>SP</td>\n",
       "    </tr>\n",
       "    <tr>\n",
       "      <th>1182</th>\n",
       "      <td>1001</td>\n",
       "      <td>-23.549779</td>\n",
       "      <td>-46.633957</td>\n",
       "      <td>sao paulo</td>\n",
       "      <td>SP</td>\n",
       "    </tr>\n",
       "  </tbody>\n",
       "</table>\n",
       "</div>"
      ],
      "text/plain": [
       "      geolocation_zip_code_prefix  geolocation_lat  geolocation_lng  \\\n",
       "519                          1001       -23.551337       -46.634027   \n",
       "235                          1001       -23.550642       -46.634410   \n",
       "206                          1001       -23.550498       -46.634338   \n",
       "326                          1001       -23.551427       -46.634074   \n",
       "1182                         1001       -23.549779       -46.633957   \n",
       "\n",
       "     geolocation_city geolocation_state  \n",
       "519         sao paulo                SP  \n",
       "235         sao paulo                SP  \n",
       "206         sao paulo                SP  \n",
       "326         sao paulo                SP  \n",
       "1182        sao paulo                SP  "
      ]
     },
     "execution_count": 392,
     "metadata": {},
     "output_type": "execute_result"
    }
   ],
   "source": [
    "olist_geolocation_dataset.sort_values('geolocation_zip_code_prefix').head()"
   ]
  },
  {
   "cell_type": "code",
   "execution_count": 393,
   "metadata": {},
   "outputs": [
    {
     "data": {
      "text/plain": [
       "19015"
      ]
     },
     "execution_count": 393,
     "metadata": {},
     "output_type": "execute_result"
    }
   ],
   "source": [
    "olist_geolocation_dataset['geolocation_zip_code_prefix'].nunique()"
   ]
  },
  {
   "cell_type": "markdown",
   "metadata": {},
   "source": [
    "## olist_sellers_dataset"
   ]
  },
  {
   "cell_type": "code",
   "execution_count": 394,
   "metadata": {},
   "outputs": [],
   "source": [
    "olist_sellers_dataset = pd.read_csv('olist_sellers_dataset.csv')"
   ]
  },
  {
   "cell_type": "code",
   "execution_count": 395,
   "metadata": {},
   "outputs": [
    {
     "data": {
      "text/html": [
       "<div>\n",
       "<style scoped>\n",
       "    .dataframe tbody tr th:only-of-type {\n",
       "        vertical-align: middle;\n",
       "    }\n",
       "\n",
       "    .dataframe tbody tr th {\n",
       "        vertical-align: top;\n",
       "    }\n",
       "\n",
       "    .dataframe thead th {\n",
       "        text-align: right;\n",
       "    }\n",
       "</style>\n",
       "<table border=\"1\" class=\"dataframe\">\n",
       "  <thead>\n",
       "    <tr style=\"text-align: right;\">\n",
       "      <th></th>\n",
       "      <th>seller_id</th>\n",
       "      <th>seller_zip_code_prefix</th>\n",
       "      <th>seller_city</th>\n",
       "      <th>seller_state</th>\n",
       "    </tr>\n",
       "  </thead>\n",
       "  <tbody>\n",
       "    <tr>\n",
       "      <th>0</th>\n",
       "      <td>3442f8959a84dea7ee197c632cb2df15</td>\n",
       "      <td>13023</td>\n",
       "      <td>campinas</td>\n",
       "      <td>SP</td>\n",
       "    </tr>\n",
       "    <tr>\n",
       "      <th>1</th>\n",
       "      <td>d1b65fc7debc3361ea86b5f14c68d2e2</td>\n",
       "      <td>13844</td>\n",
       "      <td>mogi guacu</td>\n",
       "      <td>SP</td>\n",
       "    </tr>\n",
       "    <tr>\n",
       "      <th>2</th>\n",
       "      <td>ce3ad9de960102d0677a81f5d0bb7b2d</td>\n",
       "      <td>20031</td>\n",
       "      <td>rio de janeiro</td>\n",
       "      <td>RJ</td>\n",
       "    </tr>\n",
       "    <tr>\n",
       "      <th>3</th>\n",
       "      <td>c0f3eea2e14555b6faeea3dd58c1b1c3</td>\n",
       "      <td>4195</td>\n",
       "      <td>sao paulo</td>\n",
       "      <td>SP</td>\n",
       "    </tr>\n",
       "    <tr>\n",
       "      <th>4</th>\n",
       "      <td>51a04a8a6bdcb23deccc82b0b80742cf</td>\n",
       "      <td>12914</td>\n",
       "      <td>braganca paulista</td>\n",
       "      <td>SP</td>\n",
       "    </tr>\n",
       "  </tbody>\n",
       "</table>\n",
       "</div>"
      ],
      "text/plain": [
       "                          seller_id  seller_zip_code_prefix  \\\n",
       "0  3442f8959a84dea7ee197c632cb2df15                   13023   \n",
       "1  d1b65fc7debc3361ea86b5f14c68d2e2                   13844   \n",
       "2  ce3ad9de960102d0677a81f5d0bb7b2d                   20031   \n",
       "3  c0f3eea2e14555b6faeea3dd58c1b1c3                    4195   \n",
       "4  51a04a8a6bdcb23deccc82b0b80742cf                   12914   \n",
       "\n",
       "         seller_city seller_state  \n",
       "0           campinas           SP  \n",
       "1         mogi guacu           SP  \n",
       "2     rio de janeiro           RJ  \n",
       "3          sao paulo           SP  \n",
       "4  braganca paulista           SP  "
      ]
     },
     "execution_count": 395,
     "metadata": {},
     "output_type": "execute_result"
    }
   ],
   "source": [
    "olist_sellers_dataset.head()"
   ]
  },
  {
   "cell_type": "code",
   "execution_count": 396,
   "metadata": {},
   "outputs": [
    {
     "data": {
      "text/plain": [
       "(3095, 4)"
      ]
     },
     "execution_count": 396,
     "metadata": {},
     "output_type": "execute_result"
    }
   ],
   "source": [
    "olist_sellers_dataset.shape"
   ]
  },
  {
   "cell_type": "code",
   "execution_count": 397,
   "metadata": {},
   "outputs": [
    {
     "data": {
      "text/plain": [
       "False    3095\n",
       "dtype: int64"
      ]
     },
     "execution_count": 397,
     "metadata": {},
     "output_type": "execute_result"
    }
   ],
   "source": [
    "olist_sellers_dataset.duplicated('seller_id',keep='first').value_counts()#"
   ]
  },
  {
   "cell_type": "code",
   "execution_count": 398,
   "metadata": {},
   "outputs": [
    {
     "data": {
      "text/plain": [
       "2246"
      ]
     },
     "execution_count": 398,
     "metadata": {},
     "output_type": "execute_result"
    }
   ],
   "source": [
    "olist_sellers_dataset['seller_zip_code_prefix'].nunique()"
   ]
  },
  {
   "cell_type": "markdown",
   "metadata": {},
   "source": [
    "#### <span style=\"color:red\"> Merge olist_sellers_dataset y olist_geolocation_dataset  </span>"
   ]
  },
  {
   "cell_type": "code",
   "execution_count": 399,
   "metadata": {},
   "outputs": [],
   "source": [
    "olist_items_dataset = olist_sellers_dataset[['seller_id','seller_zip_code_prefix']].merge(olist_geolocation_dataset, how = 'left', left_on = 'seller_zip_code_prefix', right_on = 'geolocation_zip_code_prefix', validate = 'm:m')"
   ]
  },
  {
   "cell_type": "code",
   "execution_count": 400,
   "metadata": {},
   "outputs": [
    {
     "data": {
      "text/plain": [
       "(311796, 7)"
      ]
     },
     "execution_count": 400,
     "metadata": {},
     "output_type": "execute_result"
    }
   ],
   "source": [
    "olist_items_dataset.shape"
   ]
  },
  {
   "cell_type": "code",
   "execution_count": 401,
   "metadata": {},
   "outputs": [
    {
     "data": {
      "text/html": [
       "<div>\n",
       "<style scoped>\n",
       "    .dataframe tbody tr th:only-of-type {\n",
       "        vertical-align: middle;\n",
       "    }\n",
       "\n",
       "    .dataframe tbody tr th {\n",
       "        vertical-align: top;\n",
       "    }\n",
       "\n",
       "    .dataframe thead th {\n",
       "        text-align: right;\n",
       "    }\n",
       "</style>\n",
       "<table border=\"1\" class=\"dataframe\">\n",
       "  <thead>\n",
       "    <tr style=\"text-align: right;\">\n",
       "      <th></th>\n",
       "      <th>seller_id</th>\n",
       "      <th>seller_zip_code_prefix</th>\n",
       "      <th>geolocation_zip_code_prefix</th>\n",
       "      <th>geolocation_lat</th>\n",
       "      <th>geolocation_lng</th>\n",
       "      <th>geolocation_city</th>\n",
       "      <th>geolocation_state</th>\n",
       "    </tr>\n",
       "  </thead>\n",
       "  <tbody>\n",
       "    <tr>\n",
       "      <th>0</th>\n",
       "      <td>3442f8959a84dea7ee197c632cb2df15</td>\n",
       "      <td>13023</td>\n",
       "      <td>13023.0</td>\n",
       "      <td>-22.898536</td>\n",
       "      <td>-47.063125</td>\n",
       "      <td>campinas</td>\n",
       "      <td>SP</td>\n",
       "    </tr>\n",
       "    <tr>\n",
       "      <th>1</th>\n",
       "      <td>3442f8959a84dea7ee197c632cb2df15</td>\n",
       "      <td>13023</td>\n",
       "      <td>13023.0</td>\n",
       "      <td>-22.895499</td>\n",
       "      <td>-47.061944</td>\n",
       "      <td>campinas</td>\n",
       "      <td>SP</td>\n",
       "    </tr>\n",
       "    <tr>\n",
       "      <th>2</th>\n",
       "      <td>3442f8959a84dea7ee197c632cb2df15</td>\n",
       "      <td>13023</td>\n",
       "      <td>13023.0</td>\n",
       "      <td>-22.891740</td>\n",
       "      <td>-47.060820</td>\n",
       "      <td>campinas</td>\n",
       "      <td>SP</td>\n",
       "    </tr>\n",
       "    <tr>\n",
       "      <th>3</th>\n",
       "      <td>3442f8959a84dea7ee197c632cb2df15</td>\n",
       "      <td>13023</td>\n",
       "      <td>13023.0</td>\n",
       "      <td>-22.895762</td>\n",
       "      <td>-47.066144</td>\n",
       "      <td>campinas</td>\n",
       "      <td>SP</td>\n",
       "    </tr>\n",
       "    <tr>\n",
       "      <th>4</th>\n",
       "      <td>3442f8959a84dea7ee197c632cb2df15</td>\n",
       "      <td>13023</td>\n",
       "      <td>13023.0</td>\n",
       "      <td>-22.896154</td>\n",
       "      <td>-47.062431</td>\n",
       "      <td>campinas</td>\n",
       "      <td>SP</td>\n",
       "    </tr>\n",
       "  </tbody>\n",
       "</table>\n",
       "</div>"
      ],
      "text/plain": [
       "                          seller_id  seller_zip_code_prefix  \\\n",
       "0  3442f8959a84dea7ee197c632cb2df15                   13023   \n",
       "1  3442f8959a84dea7ee197c632cb2df15                   13023   \n",
       "2  3442f8959a84dea7ee197c632cb2df15                   13023   \n",
       "3  3442f8959a84dea7ee197c632cb2df15                   13023   \n",
       "4  3442f8959a84dea7ee197c632cb2df15                   13023   \n",
       "\n",
       "   geolocation_zip_code_prefix  geolocation_lat  geolocation_lng  \\\n",
       "0                      13023.0       -22.898536       -47.063125   \n",
       "1                      13023.0       -22.895499       -47.061944   \n",
       "2                      13023.0       -22.891740       -47.060820   \n",
       "3                      13023.0       -22.895762       -47.066144   \n",
       "4                      13023.0       -22.896154       -47.062431   \n",
       "\n",
       "  geolocation_city geolocation_state  \n",
       "0         campinas                SP  \n",
       "1         campinas                SP  \n",
       "2         campinas                SP  \n",
       "3         campinas                SP  \n",
       "4         campinas                SP  "
      ]
     },
     "execution_count": 401,
     "metadata": {},
     "output_type": "execute_result"
    }
   ],
   "source": [
    "olist_items_dataset.head()"
   ]
  },
  {
   "cell_type": "code",
   "execution_count": 402,
   "metadata": {},
   "outputs": [
    {
     "data": {
      "text/plain": [
       "3095"
      ]
     },
     "execution_count": 402,
     "metadata": {},
     "output_type": "execute_result"
    }
   ],
   "source": [
    "olist_items_dataset['seller_id'].nunique()"
   ]
  },
  {
   "cell_type": "code",
   "execution_count": 403,
   "metadata": {},
   "outputs": [
    {
     "data": {
      "text/plain": [
       "False    311796\n",
       "dtype: int64"
      ]
     },
     "execution_count": 403,
     "metadata": {},
     "output_type": "execute_result"
    }
   ],
   "source": [
    "olist_items_dataset.duplicated(keep='first').value_counts()#"
   ]
  },
  {
   "cell_type": "code",
   "execution_count": 404,
   "metadata": {},
   "outputs": [],
   "source": [
    "del olist_items_dataset['geolocation_zip_code_prefix']"
   ]
  },
  {
   "cell_type": "code",
   "execution_count": 405,
   "metadata": {},
   "outputs": [
    {
     "data": {
      "text/html": [
       "<div>\n",
       "<style scoped>\n",
       "    .dataframe tbody tr th:only-of-type {\n",
       "        vertical-align: middle;\n",
       "    }\n",
       "\n",
       "    .dataframe tbody tr th {\n",
       "        vertical-align: top;\n",
       "    }\n",
       "\n",
       "    .dataframe thead th {\n",
       "        text-align: right;\n",
       "    }\n",
       "</style>\n",
       "<table border=\"1\" class=\"dataframe\">\n",
       "  <thead>\n",
       "    <tr style=\"text-align: right;\">\n",
       "      <th></th>\n",
       "      <th>seller_id</th>\n",
       "      <th>seller_zip_code_prefix</th>\n",
       "      <th>geolocation_lat</th>\n",
       "      <th>geolocation_lng</th>\n",
       "      <th>geolocation_city</th>\n",
       "      <th>geolocation_state</th>\n",
       "    </tr>\n",
       "  </thead>\n",
       "  <tbody>\n",
       "    <tr>\n",
       "      <th>0</th>\n",
       "      <td>3442f8959a84dea7ee197c632cb2df15</td>\n",
       "      <td>13023</td>\n",
       "      <td>-22.898536</td>\n",
       "      <td>-47.063125</td>\n",
       "      <td>campinas</td>\n",
       "      <td>SP</td>\n",
       "    </tr>\n",
       "    <tr>\n",
       "      <th>1</th>\n",
       "      <td>3442f8959a84dea7ee197c632cb2df15</td>\n",
       "      <td>13023</td>\n",
       "      <td>-22.895499</td>\n",
       "      <td>-47.061944</td>\n",
       "      <td>campinas</td>\n",
       "      <td>SP</td>\n",
       "    </tr>\n",
       "    <tr>\n",
       "      <th>2</th>\n",
       "      <td>3442f8959a84dea7ee197c632cb2df15</td>\n",
       "      <td>13023</td>\n",
       "      <td>-22.891740</td>\n",
       "      <td>-47.060820</td>\n",
       "      <td>campinas</td>\n",
       "      <td>SP</td>\n",
       "    </tr>\n",
       "    <tr>\n",
       "      <th>3</th>\n",
       "      <td>3442f8959a84dea7ee197c632cb2df15</td>\n",
       "      <td>13023</td>\n",
       "      <td>-22.895762</td>\n",
       "      <td>-47.066144</td>\n",
       "      <td>campinas</td>\n",
       "      <td>SP</td>\n",
       "    </tr>\n",
       "    <tr>\n",
       "      <th>4</th>\n",
       "      <td>3442f8959a84dea7ee197c632cb2df15</td>\n",
       "      <td>13023</td>\n",
       "      <td>-22.896154</td>\n",
       "      <td>-47.062431</td>\n",
       "      <td>campinas</td>\n",
       "      <td>SP</td>\n",
       "    </tr>\n",
       "  </tbody>\n",
       "</table>\n",
       "</div>"
      ],
      "text/plain": [
       "                          seller_id  seller_zip_code_prefix  geolocation_lat  \\\n",
       "0  3442f8959a84dea7ee197c632cb2df15                   13023       -22.898536   \n",
       "1  3442f8959a84dea7ee197c632cb2df15                   13023       -22.895499   \n",
       "2  3442f8959a84dea7ee197c632cb2df15                   13023       -22.891740   \n",
       "3  3442f8959a84dea7ee197c632cb2df15                   13023       -22.895762   \n",
       "4  3442f8959a84dea7ee197c632cb2df15                   13023       -22.896154   \n",
       "\n",
       "   geolocation_lng geolocation_city geolocation_state  \n",
       "0       -47.063125         campinas                SP  \n",
       "1       -47.061944         campinas                SP  \n",
       "2       -47.060820         campinas                SP  \n",
       "3       -47.066144         campinas                SP  \n",
       "4       -47.062431         campinas                SP  "
      ]
     },
     "execution_count": 405,
     "metadata": {},
     "output_type": "execute_result"
    }
   ],
   "source": [
    "olist_items_dataset.head()"
   ]
  },
  {
   "cell_type": "code",
   "execution_count": 406,
   "metadata": {},
   "outputs": [],
   "source": [
    "group_olist_items_dataset = olist_items_dataset.groupby(['seller_id']).agg({'seller_zip_code_prefix':'first',\n",
    "                                                                            'geolocation_lat': 'mean',\n",
    "                                                                            'geolocation_lng':'mean',\n",
    "                                                                            'geolocation_city':'first',\n",
    "                                                                            'geolocation_state':'first'}).reset_index()"
   ]
  },
  {
   "cell_type": "code",
   "execution_count": 407,
   "metadata": {},
   "outputs": [
    {
     "data": {
      "text/html": [
       "<div>\n",
       "<style scoped>\n",
       "    .dataframe tbody tr th:only-of-type {\n",
       "        vertical-align: middle;\n",
       "    }\n",
       "\n",
       "    .dataframe tbody tr th {\n",
       "        vertical-align: top;\n",
       "    }\n",
       "\n",
       "    .dataframe thead th {\n",
       "        text-align: right;\n",
       "    }\n",
       "</style>\n",
       "<table border=\"1\" class=\"dataframe\">\n",
       "  <thead>\n",
       "    <tr style=\"text-align: right;\">\n",
       "      <th></th>\n",
       "      <th>seller_id</th>\n",
       "      <th>seller_zip_code_prefix</th>\n",
       "      <th>geolocation_lat</th>\n",
       "      <th>geolocation_lng</th>\n",
       "      <th>geolocation_city</th>\n",
       "      <th>geolocation_state</th>\n",
       "    </tr>\n",
       "  </thead>\n",
       "  <tbody>\n",
       "    <tr>\n",
       "      <th>0</th>\n",
       "      <td>0015a82c2db000af6aaaf3ae2ecb0532</td>\n",
       "      <td>9080</td>\n",
       "      <td>-23.640202</td>\n",
       "      <td>-46.542079</td>\n",
       "      <td>santo andre</td>\n",
       "      <td>SP</td>\n",
       "    </tr>\n",
       "    <tr>\n",
       "      <th>1</th>\n",
       "      <td>001cca7ae9ae17fb1caed9dfb1094831</td>\n",
       "      <td>29156</td>\n",
       "      <td>-20.279224</td>\n",
       "      <td>-40.411514</td>\n",
       "      <td>cariacica</td>\n",
       "      <td>ES</td>\n",
       "    </tr>\n",
       "    <tr>\n",
       "      <th>2</th>\n",
       "      <td>001e6ad469a905060d959994f1b41e4f</td>\n",
       "      <td>24754</td>\n",
       "      <td>-22.872033</td>\n",
       "      <td>-43.027441</td>\n",
       "      <td>sao goncalo</td>\n",
       "      <td>RJ</td>\n",
       "    </tr>\n",
       "    <tr>\n",
       "      <th>3</th>\n",
       "      <td>002100f778ceb8431b7a1020ff7ab48f</td>\n",
       "      <td>14405</td>\n",
       "      <td>-20.528419</td>\n",
       "      <td>-47.411287</td>\n",
       "      <td>franca</td>\n",
       "      <td>SP</td>\n",
       "    </tr>\n",
       "    <tr>\n",
       "      <th>4</th>\n",
       "      <td>003554e2dce176b5555353e4f3555ac8</td>\n",
       "      <td>74565</td>\n",
       "      <td>-16.638282</td>\n",
       "      <td>-49.280909</td>\n",
       "      <td>goiania</td>\n",
       "      <td>GO</td>\n",
       "    </tr>\n",
       "  </tbody>\n",
       "</table>\n",
       "</div>"
      ],
      "text/plain": [
       "                          seller_id  seller_zip_code_prefix  geolocation_lat  \\\n",
       "0  0015a82c2db000af6aaaf3ae2ecb0532                    9080       -23.640202   \n",
       "1  001cca7ae9ae17fb1caed9dfb1094831                   29156       -20.279224   \n",
       "2  001e6ad469a905060d959994f1b41e4f                   24754       -22.872033   \n",
       "3  002100f778ceb8431b7a1020ff7ab48f                   14405       -20.528419   \n",
       "4  003554e2dce176b5555353e4f3555ac8                   74565       -16.638282   \n",
       "\n",
       "   geolocation_lng geolocation_city geolocation_state  \n",
       "0       -46.542079      santo andre                SP  \n",
       "1       -40.411514        cariacica                ES  \n",
       "2       -43.027441      sao goncalo                RJ  \n",
       "3       -47.411287           franca                SP  \n",
       "4       -49.280909          goiania                GO  "
      ]
     },
     "execution_count": 407,
     "metadata": {},
     "output_type": "execute_result"
    }
   ],
   "source": [
    "group_olist_items_dataset.head()"
   ]
  },
  {
   "cell_type": "code",
   "execution_count": 408,
   "metadata": {},
   "outputs": [
    {
     "data": {
      "text/plain": [
       "(3095, 6)"
      ]
     },
     "execution_count": 408,
     "metadata": {},
     "output_type": "execute_result"
    }
   ],
   "source": [
    "group_olist_items_dataset.shape"
   ]
  },
  {
   "cell_type": "code",
   "execution_count": 409,
   "metadata": {},
   "outputs": [],
   "source": [
    "olist_items_dataset = group_olist_items_dataset.iloc[:,:].copy()"
   ]
  },
  {
   "cell_type": "markdown",
   "metadata": {},
   "source": [
    "## olist_order_items_dataset"
   ]
  },
  {
   "cell_type": "code",
   "execution_count": 410,
   "metadata": {},
   "outputs": [],
   "source": [
    "olist_order_items_dataset = pd.read_csv('olist_order_items_dataset.csv')"
   ]
  },
  {
   "cell_type": "code",
   "execution_count": 411,
   "metadata": {},
   "outputs": [
    {
     "data": {
      "text/plain": [
       "(112650, 7)"
      ]
     },
     "execution_count": 411,
     "metadata": {},
     "output_type": "execute_result"
    }
   ],
   "source": [
    "olist_order_items_dataset.shape"
   ]
  },
  {
   "cell_type": "code",
   "execution_count": 412,
   "metadata": {},
   "outputs": [
    {
     "data": {
      "text/html": [
       "<div>\n",
       "<style scoped>\n",
       "    .dataframe tbody tr th:only-of-type {\n",
       "        vertical-align: middle;\n",
       "    }\n",
       "\n",
       "    .dataframe tbody tr th {\n",
       "        vertical-align: top;\n",
       "    }\n",
       "\n",
       "    .dataframe thead th {\n",
       "        text-align: right;\n",
       "    }\n",
       "</style>\n",
       "<table border=\"1\" class=\"dataframe\">\n",
       "  <thead>\n",
       "    <tr style=\"text-align: right;\">\n",
       "      <th></th>\n",
       "      <th>order_id</th>\n",
       "      <th>order_item_id</th>\n",
       "      <th>product_id</th>\n",
       "      <th>seller_id</th>\n",
       "      <th>shipping_limit_date</th>\n",
       "      <th>price</th>\n",
       "      <th>freight_value</th>\n",
       "    </tr>\n",
       "  </thead>\n",
       "  <tbody>\n",
       "    <tr>\n",
       "      <th>0</th>\n",
       "      <td>00010242fe8c5a6d1ba2dd792cb16214</td>\n",
       "      <td>1</td>\n",
       "      <td>4244733e06e7ecb4970a6e2683c13e61</td>\n",
       "      <td>48436dade18ac8b2bce089ec2a041202</td>\n",
       "      <td>2017-09-19 09:45:35</td>\n",
       "      <td>58.90</td>\n",
       "      <td>13.29</td>\n",
       "    </tr>\n",
       "    <tr>\n",
       "      <th>1</th>\n",
       "      <td>00018f77f2f0320c557190d7a144bdd3</td>\n",
       "      <td>1</td>\n",
       "      <td>e5f2d52b802189ee658865ca93d83a8f</td>\n",
       "      <td>dd7ddc04e1b6c2c614352b383efe2d36</td>\n",
       "      <td>2017-05-03 11:05:13</td>\n",
       "      <td>239.90</td>\n",
       "      <td>19.93</td>\n",
       "    </tr>\n",
       "    <tr>\n",
       "      <th>2</th>\n",
       "      <td>000229ec398224ef6ca0657da4fc703e</td>\n",
       "      <td>1</td>\n",
       "      <td>c777355d18b72b67abbeef9df44fd0fd</td>\n",
       "      <td>5b51032eddd242adc84c38acab88f23d</td>\n",
       "      <td>2018-01-18 14:48:30</td>\n",
       "      <td>199.00</td>\n",
       "      <td>17.87</td>\n",
       "    </tr>\n",
       "    <tr>\n",
       "      <th>3</th>\n",
       "      <td>00024acbcdf0a6daa1e931b038114c75</td>\n",
       "      <td>1</td>\n",
       "      <td>7634da152a4610f1595efa32f14722fc</td>\n",
       "      <td>9d7a1d34a5052409006425275ba1c2b4</td>\n",
       "      <td>2018-08-15 10:10:18</td>\n",
       "      <td>12.99</td>\n",
       "      <td>12.79</td>\n",
       "    </tr>\n",
       "    <tr>\n",
       "      <th>4</th>\n",
       "      <td>00042b26cf59d7ce69dfabb4e55b4fd9</td>\n",
       "      <td>1</td>\n",
       "      <td>ac6c3623068f30de03045865e4e10089</td>\n",
       "      <td>df560393f3a51e74553ab94004ba5c87</td>\n",
       "      <td>2017-02-13 13:57:51</td>\n",
       "      <td>199.90</td>\n",
       "      <td>18.14</td>\n",
       "    </tr>\n",
       "  </tbody>\n",
       "</table>\n",
       "</div>"
      ],
      "text/plain": [
       "                           order_id  order_item_id  \\\n",
       "0  00010242fe8c5a6d1ba2dd792cb16214              1   \n",
       "1  00018f77f2f0320c557190d7a144bdd3              1   \n",
       "2  000229ec398224ef6ca0657da4fc703e              1   \n",
       "3  00024acbcdf0a6daa1e931b038114c75              1   \n",
       "4  00042b26cf59d7ce69dfabb4e55b4fd9              1   \n",
       "\n",
       "                         product_id                         seller_id  \\\n",
       "0  4244733e06e7ecb4970a6e2683c13e61  48436dade18ac8b2bce089ec2a041202   \n",
       "1  e5f2d52b802189ee658865ca93d83a8f  dd7ddc04e1b6c2c614352b383efe2d36   \n",
       "2  c777355d18b72b67abbeef9df44fd0fd  5b51032eddd242adc84c38acab88f23d   \n",
       "3  7634da152a4610f1595efa32f14722fc  9d7a1d34a5052409006425275ba1c2b4   \n",
       "4  ac6c3623068f30de03045865e4e10089  df560393f3a51e74553ab94004ba5c87   \n",
       "\n",
       "   shipping_limit_date   price  freight_value  \n",
       "0  2017-09-19 09:45:35   58.90          13.29  \n",
       "1  2017-05-03 11:05:13  239.90          19.93  \n",
       "2  2018-01-18 14:48:30  199.00          17.87  \n",
       "3  2018-08-15 10:10:18   12.99          12.79  \n",
       "4  2017-02-13 13:57:51  199.90          18.14  "
      ]
     },
     "execution_count": 412,
     "metadata": {},
     "output_type": "execute_result"
    }
   ],
   "source": [
    "olist_order_items_dataset.head()"
   ]
  },
  {
   "cell_type": "code",
   "execution_count": 413,
   "metadata": {},
   "outputs": [
    {
     "data": {
      "text/plain": [
       "False    112650\n",
       "dtype: int64"
      ]
     },
     "execution_count": 413,
     "metadata": {},
     "output_type": "execute_result"
    }
   ],
   "source": [
    "olist_order_items_dataset.duplicated(keep='first').value_counts()#"
   ]
  },
  {
   "cell_type": "code",
   "execution_count": 414,
   "metadata": {},
   "outputs": [
    {
     "data": {
      "text/plain": [
       "21"
      ]
     },
     "execution_count": 414,
     "metadata": {},
     "output_type": "execute_result"
    }
   ],
   "source": [
    "olist_order_items_dataset['order_item_id'].max()"
   ]
  },
  {
   "cell_type": "code",
   "execution_count": 415,
   "metadata": {},
   "outputs": [
    {
     "data": {
      "text/plain": [
       "98666"
      ]
     },
     "execution_count": 415,
     "metadata": {},
     "output_type": "execute_result"
    }
   ],
   "source": [
    "olist_order_items_dataset['order_id'].nunique()"
   ]
  },
  {
   "cell_type": "code",
   "execution_count": 416,
   "metadata": {},
   "outputs": [
    {
     "data": {
      "text/html": [
       "<div>\n",
       "<style scoped>\n",
       "    .dataframe tbody tr th:only-of-type {\n",
       "        vertical-align: middle;\n",
       "    }\n",
       "\n",
       "    .dataframe tbody tr th {\n",
       "        vertical-align: top;\n",
       "    }\n",
       "\n",
       "    .dataframe thead th {\n",
       "        text-align: right;\n",
       "    }\n",
       "</style>\n",
       "<table border=\"1\" class=\"dataframe\">\n",
       "  <thead>\n",
       "    <tr style=\"text-align: right;\">\n",
       "      <th></th>\n",
       "      <th>order_id</th>\n",
       "      <th>order_item_id</th>\n",
       "      <th>product_id</th>\n",
       "      <th>seller_id</th>\n",
       "      <th>shipping_limit_date</th>\n",
       "      <th>price</th>\n",
       "      <th>freight_value</th>\n",
       "    </tr>\n",
       "  </thead>\n",
       "  <tbody>\n",
       "    <tr>\n",
       "      <th>57317</th>\n",
       "      <td>8272b63d03f5f79c56e9e4120aec44ef</td>\n",
       "      <td>21</td>\n",
       "      <td>79ce45dbc2ea29b22b5a261bbb7b7ee7</td>\n",
       "      <td>2709af9587499e95e803a6498a5a56e9</td>\n",
       "      <td>2017-07-21 18:25:23</td>\n",
       "      <td>7.8</td>\n",
       "      <td>6.57</td>\n",
       "    </tr>\n",
       "  </tbody>\n",
       "</table>\n",
       "</div>"
      ],
      "text/plain": [
       "                               order_id  order_item_id  \\\n",
       "57317  8272b63d03f5f79c56e9e4120aec44ef             21   \n",
       "\n",
       "                             product_id                         seller_id  \\\n",
       "57317  79ce45dbc2ea29b22b5a261bbb7b7ee7  2709af9587499e95e803a6498a5a56e9   \n",
       "\n",
       "       shipping_limit_date  price  freight_value  \n",
       "57317  2017-07-21 18:25:23    7.8           6.57  "
      ]
     },
     "execution_count": 416,
     "metadata": {},
     "output_type": "execute_result"
    }
   ],
   "source": [
    "olist_order_items_dataset[olist_order_items_dataset['order_item_id'] == 21]"
   ]
  },
  {
   "cell_type": "code",
   "execution_count": 417,
   "metadata": {},
   "outputs": [
    {
     "data": {
      "text/plain": [
       "False    98666\n",
       "True     13984\n",
       "dtype: int64"
      ]
     },
     "execution_count": 417,
     "metadata": {},
     "output_type": "execute_result"
    }
   ],
   "source": [
    "z = olist_order_items_dataset.duplicated('order_id',keep='first')\n",
    "z.value_counts()#"
   ]
  },
  {
   "cell_type": "code",
   "execution_count": 418,
   "metadata": {},
   "outputs": [
    {
     "data": {
      "text/html": [
       "<div>\n",
       "<style scoped>\n",
       "    .dataframe tbody tr th:only-of-type {\n",
       "        vertical-align: middle;\n",
       "    }\n",
       "\n",
       "    .dataframe tbody tr th {\n",
       "        vertical-align: top;\n",
       "    }\n",
       "\n",
       "    .dataframe thead th {\n",
       "        text-align: right;\n",
       "    }\n",
       "</style>\n",
       "<table border=\"1\" class=\"dataframe\">\n",
       "  <thead>\n",
       "    <tr style=\"text-align: right;\">\n",
       "      <th></th>\n",
       "      <th>order_id</th>\n",
       "      <th>order_item_id</th>\n",
       "      <th>product_id</th>\n",
       "      <th>seller_id</th>\n",
       "      <th>shipping_limit_date</th>\n",
       "      <th>price</th>\n",
       "      <th>freight_value</th>\n",
       "    </tr>\n",
       "  </thead>\n",
       "  <tbody>\n",
       "    <tr>\n",
       "      <th>14</th>\n",
       "      <td>0008288aa423d2a3f00fcb17cd7d8719</td>\n",
       "      <td>2</td>\n",
       "      <td>368c6c730842d78016ad823897a372db</td>\n",
       "      <td>1f50f920176fa81dab994f9023523100</td>\n",
       "      <td>2018-02-21 02:55:52</td>\n",
       "      <td>49.90</td>\n",
       "      <td>13.37</td>\n",
       "    </tr>\n",
       "    <tr>\n",
       "      <th>33</th>\n",
       "      <td>00143d0f86d6fbd9f9b38ab440ac16f5</td>\n",
       "      <td>2</td>\n",
       "      <td>e95ee6822b66ac6058e2e4aff656071a</td>\n",
       "      <td>a17f621c590ea0fab3d5d883e1630ec6</td>\n",
       "      <td>2017-10-20 16:07:52</td>\n",
       "      <td>21.33</td>\n",
       "      <td>15.10</td>\n",
       "    </tr>\n",
       "    <tr>\n",
       "      <th>34</th>\n",
       "      <td>00143d0f86d6fbd9f9b38ab440ac16f5</td>\n",
       "      <td>3</td>\n",
       "      <td>e95ee6822b66ac6058e2e4aff656071a</td>\n",
       "      <td>a17f621c590ea0fab3d5d883e1630ec6</td>\n",
       "      <td>2017-10-20 16:07:52</td>\n",
       "      <td>21.33</td>\n",
       "      <td>15.10</td>\n",
       "    </tr>\n",
       "    <tr>\n",
       "      <th>43</th>\n",
       "      <td>001ab0a7578dd66cd4b0a71f5b6e1e41</td>\n",
       "      <td>2</td>\n",
       "      <td>0b0172eb0fd18479d29c3bc122c058c2</td>\n",
       "      <td>5656537e588803a555b8eb41f07a944b</td>\n",
       "      <td>2018-01-04 02:33:42</td>\n",
       "      <td>24.89</td>\n",
       "      <td>17.63</td>\n",
       "    </tr>\n",
       "    <tr>\n",
       "      <th>44</th>\n",
       "      <td>001ab0a7578dd66cd4b0a71f5b6e1e41</td>\n",
       "      <td>3</td>\n",
       "      <td>0b0172eb0fd18479d29c3bc122c058c2</td>\n",
       "      <td>5656537e588803a555b8eb41f07a944b</td>\n",
       "      <td>2018-01-04 02:33:42</td>\n",
       "      <td>24.89</td>\n",
       "      <td>17.63</td>\n",
       "    </tr>\n",
       "  </tbody>\n",
       "</table>\n",
       "</div>"
      ],
      "text/plain": [
       "                            order_id  order_item_id  \\\n",
       "14  0008288aa423d2a3f00fcb17cd7d8719              2   \n",
       "33  00143d0f86d6fbd9f9b38ab440ac16f5              2   \n",
       "34  00143d0f86d6fbd9f9b38ab440ac16f5              3   \n",
       "43  001ab0a7578dd66cd4b0a71f5b6e1e41              2   \n",
       "44  001ab0a7578dd66cd4b0a71f5b6e1e41              3   \n",
       "\n",
       "                          product_id                         seller_id  \\\n",
       "14  368c6c730842d78016ad823897a372db  1f50f920176fa81dab994f9023523100   \n",
       "33  e95ee6822b66ac6058e2e4aff656071a  a17f621c590ea0fab3d5d883e1630ec6   \n",
       "34  e95ee6822b66ac6058e2e4aff656071a  a17f621c590ea0fab3d5d883e1630ec6   \n",
       "43  0b0172eb0fd18479d29c3bc122c058c2  5656537e588803a555b8eb41f07a944b   \n",
       "44  0b0172eb0fd18479d29c3bc122c058c2  5656537e588803a555b8eb41f07a944b   \n",
       "\n",
       "    shipping_limit_date  price  freight_value  \n",
       "14  2018-02-21 02:55:52  49.90          13.37  \n",
       "33  2017-10-20 16:07:52  21.33          15.10  \n",
       "34  2017-10-20 16:07:52  21.33          15.10  \n",
       "43  2018-01-04 02:33:42  24.89          17.63  \n",
       "44  2018-01-04 02:33:42  24.89          17.63  "
      ]
     },
     "execution_count": 418,
     "metadata": {},
     "output_type": "execute_result"
    }
   ],
   "source": [
    "olist_order_items_dataset[z].head()"
   ]
  },
  {
   "cell_type": "code",
   "execution_count": 419,
   "metadata": {},
   "outputs": [
    {
     "data": {
      "text/html": [
       "<div>\n",
       "<style scoped>\n",
       "    .dataframe tbody tr th:only-of-type {\n",
       "        vertical-align: middle;\n",
       "    }\n",
       "\n",
       "    .dataframe tbody tr th {\n",
       "        vertical-align: top;\n",
       "    }\n",
       "\n",
       "    .dataframe thead th {\n",
       "        text-align: right;\n",
       "    }\n",
       "</style>\n",
       "<table border=\"1\" class=\"dataframe\">\n",
       "  <thead>\n",
       "    <tr style=\"text-align: right;\">\n",
       "      <th></th>\n",
       "      <th>order_id</th>\n",
       "      <th>order_item_id</th>\n",
       "      <th>product_id</th>\n",
       "      <th>seller_id</th>\n",
       "      <th>shipping_limit_date</th>\n",
       "      <th>price</th>\n",
       "      <th>freight_value</th>\n",
       "    </tr>\n",
       "  </thead>\n",
       "  <tbody>\n",
       "    <tr>\n",
       "      <th>32</th>\n",
       "      <td>00143d0f86d6fbd9f9b38ab440ac16f5</td>\n",
       "      <td>1</td>\n",
       "      <td>e95ee6822b66ac6058e2e4aff656071a</td>\n",
       "      <td>a17f621c590ea0fab3d5d883e1630ec6</td>\n",
       "      <td>2017-10-20 16:07:52</td>\n",
       "      <td>21.33</td>\n",
       "      <td>15.1</td>\n",
       "    </tr>\n",
       "    <tr>\n",
       "      <th>33</th>\n",
       "      <td>00143d0f86d6fbd9f9b38ab440ac16f5</td>\n",
       "      <td>2</td>\n",
       "      <td>e95ee6822b66ac6058e2e4aff656071a</td>\n",
       "      <td>a17f621c590ea0fab3d5d883e1630ec6</td>\n",
       "      <td>2017-10-20 16:07:52</td>\n",
       "      <td>21.33</td>\n",
       "      <td>15.1</td>\n",
       "    </tr>\n",
       "    <tr>\n",
       "      <th>34</th>\n",
       "      <td>00143d0f86d6fbd9f9b38ab440ac16f5</td>\n",
       "      <td>3</td>\n",
       "      <td>e95ee6822b66ac6058e2e4aff656071a</td>\n",
       "      <td>a17f621c590ea0fab3d5d883e1630ec6</td>\n",
       "      <td>2017-10-20 16:07:52</td>\n",
       "      <td>21.33</td>\n",
       "      <td>15.1</td>\n",
       "    </tr>\n",
       "  </tbody>\n",
       "</table>\n",
       "</div>"
      ],
      "text/plain": [
       "                            order_id  order_item_id  \\\n",
       "32  00143d0f86d6fbd9f9b38ab440ac16f5              1   \n",
       "33  00143d0f86d6fbd9f9b38ab440ac16f5              2   \n",
       "34  00143d0f86d6fbd9f9b38ab440ac16f5              3   \n",
       "\n",
       "                          product_id                         seller_id  \\\n",
       "32  e95ee6822b66ac6058e2e4aff656071a  a17f621c590ea0fab3d5d883e1630ec6   \n",
       "33  e95ee6822b66ac6058e2e4aff656071a  a17f621c590ea0fab3d5d883e1630ec6   \n",
       "34  e95ee6822b66ac6058e2e4aff656071a  a17f621c590ea0fab3d5d883e1630ec6   \n",
       "\n",
       "    shipping_limit_date  price  freight_value  \n",
       "32  2017-10-20 16:07:52  21.33           15.1  \n",
       "33  2017-10-20 16:07:52  21.33           15.1  \n",
       "34  2017-10-20 16:07:52  21.33           15.1  "
      ]
     },
     "execution_count": 419,
     "metadata": {},
     "output_type": "execute_result"
    }
   ],
   "source": [
    "olist_order_items_dataset[olist_order_items_dataset['order_id'] == '00143d0f86d6fbd9f9b38ab440ac16f5']"
   ]
  },
  {
   "cell_type": "code",
   "execution_count": 420,
   "metadata": {},
   "outputs": [
    {
     "data": {
      "text/html": [
       "<div>\n",
       "<style scoped>\n",
       "    .dataframe tbody tr th:only-of-type {\n",
       "        vertical-align: middle;\n",
       "    }\n",
       "\n",
       "    .dataframe tbody tr th {\n",
       "        vertical-align: top;\n",
       "    }\n",
       "\n",
       "    .dataframe thead th {\n",
       "        text-align: right;\n",
       "    }\n",
       "</style>\n",
       "<table border=\"1\" class=\"dataframe\">\n",
       "  <thead>\n",
       "    <tr style=\"text-align: right;\">\n",
       "      <th></th>\n",
       "      <th>order_id</th>\n",
       "      <th>order_item_id</th>\n",
       "      <th>product_id</th>\n",
       "      <th>seller_id</th>\n",
       "      <th>shipping_limit_date</th>\n",
       "      <th>price</th>\n",
       "      <th>freight_value</th>\n",
       "    </tr>\n",
       "  </thead>\n",
       "  <tbody>\n",
       "    <tr>\n",
       "      <th>42</th>\n",
       "      <td>001ab0a7578dd66cd4b0a71f5b6e1e41</td>\n",
       "      <td>1</td>\n",
       "      <td>0b0172eb0fd18479d29c3bc122c058c2</td>\n",
       "      <td>5656537e588803a555b8eb41f07a944b</td>\n",
       "      <td>2018-01-04 02:33:42</td>\n",
       "      <td>24.89</td>\n",
       "      <td>17.63</td>\n",
       "    </tr>\n",
       "    <tr>\n",
       "      <th>43</th>\n",
       "      <td>001ab0a7578dd66cd4b0a71f5b6e1e41</td>\n",
       "      <td>2</td>\n",
       "      <td>0b0172eb0fd18479d29c3bc122c058c2</td>\n",
       "      <td>5656537e588803a555b8eb41f07a944b</td>\n",
       "      <td>2018-01-04 02:33:42</td>\n",
       "      <td>24.89</td>\n",
       "      <td>17.63</td>\n",
       "    </tr>\n",
       "    <tr>\n",
       "      <th>44</th>\n",
       "      <td>001ab0a7578dd66cd4b0a71f5b6e1e41</td>\n",
       "      <td>3</td>\n",
       "      <td>0b0172eb0fd18479d29c3bc122c058c2</td>\n",
       "      <td>5656537e588803a555b8eb41f07a944b</td>\n",
       "      <td>2018-01-04 02:33:42</td>\n",
       "      <td>24.89</td>\n",
       "      <td>17.63</td>\n",
       "    </tr>\n",
       "  </tbody>\n",
       "</table>\n",
       "</div>"
      ],
      "text/plain": [
       "                            order_id  order_item_id  \\\n",
       "42  001ab0a7578dd66cd4b0a71f5b6e1e41              1   \n",
       "43  001ab0a7578dd66cd4b0a71f5b6e1e41              2   \n",
       "44  001ab0a7578dd66cd4b0a71f5b6e1e41              3   \n",
       "\n",
       "                          product_id                         seller_id  \\\n",
       "42  0b0172eb0fd18479d29c3bc122c058c2  5656537e588803a555b8eb41f07a944b   \n",
       "43  0b0172eb0fd18479d29c3bc122c058c2  5656537e588803a555b8eb41f07a944b   \n",
       "44  0b0172eb0fd18479d29c3bc122c058c2  5656537e588803a555b8eb41f07a944b   \n",
       "\n",
       "    shipping_limit_date  price  freight_value  \n",
       "42  2018-01-04 02:33:42  24.89          17.63  \n",
       "43  2018-01-04 02:33:42  24.89          17.63  \n",
       "44  2018-01-04 02:33:42  24.89          17.63  "
      ]
     },
     "execution_count": 420,
     "metadata": {},
     "output_type": "execute_result"
    }
   ],
   "source": [
    "olist_order_items_dataset[olist_order_items_dataset['order_id'] == '001ab0a7578dd66cd4b0a71f5b6e1e41']"
   ]
  },
  {
   "cell_type": "code",
   "execution_count": 421,
   "metadata": {},
   "outputs": [
    {
     "data": {
      "text/html": [
       "<div>\n",
       "<style scoped>\n",
       "    .dataframe tbody tr th:only-of-type {\n",
       "        vertical-align: middle;\n",
       "    }\n",
       "\n",
       "    .dataframe tbody tr th {\n",
       "        vertical-align: top;\n",
       "    }\n",
       "\n",
       "    .dataframe thead th {\n",
       "        text-align: right;\n",
       "    }\n",
       "</style>\n",
       "<table border=\"1\" class=\"dataframe\">\n",
       "  <thead>\n",
       "    <tr style=\"text-align: right;\">\n",
       "      <th></th>\n",
       "      <th>order_id</th>\n",
       "      <th>order_item_id</th>\n",
       "      <th>product_id</th>\n",
       "      <th>seller_id</th>\n",
       "      <th>shipping_limit_date</th>\n",
       "      <th>price</th>\n",
       "      <th>freight_value</th>\n",
       "    </tr>\n",
       "  </thead>\n",
       "  <tbody>\n",
       "    <tr>\n",
       "      <th>137</th>\n",
       "      <td>00526a9d4ebde463baee25f386963ddc</td>\n",
       "      <td>1</td>\n",
       "      <td>0c4a0f8ab44f9acd2d04e7024f9ba362</td>\n",
       "      <td>7210cd29727d674c00741e5e387b3ccd</td>\n",
       "      <td>2018-08-14 22:15:22</td>\n",
       "      <td>33.89</td>\n",
       "      <td>8.4</td>\n",
       "    </tr>\n",
       "    <tr>\n",
       "      <th>138</th>\n",
       "      <td>00526a9d4ebde463baee25f386963ddc</td>\n",
       "      <td>2</td>\n",
       "      <td>0c4a0f8ab44f9acd2d04e7024f9ba362</td>\n",
       "      <td>7210cd29727d674c00741e5e387b3ccd</td>\n",
       "      <td>2018-08-14 22:15:22</td>\n",
       "      <td>33.89</td>\n",
       "      <td>8.4</td>\n",
       "    </tr>\n",
       "    <tr>\n",
       "      <th>139</th>\n",
       "      <td>00526a9d4ebde463baee25f386963ddc</td>\n",
       "      <td>3</td>\n",
       "      <td>0c4a0f8ab44f9acd2d04e7024f9ba362</td>\n",
       "      <td>7210cd29727d674c00741e5e387b3ccd</td>\n",
       "      <td>2018-08-14 22:15:22</td>\n",
       "      <td>33.89</td>\n",
       "      <td>8.4</td>\n",
       "    </tr>\n",
       "    <tr>\n",
       "      <th>140</th>\n",
       "      <td>00526a9d4ebde463baee25f386963ddc</td>\n",
       "      <td>4</td>\n",
       "      <td>0c4a0f8ab44f9acd2d04e7024f9ba362</td>\n",
       "      <td>7210cd29727d674c00741e5e387b3ccd</td>\n",
       "      <td>2018-08-14 22:15:22</td>\n",
       "      <td>33.89</td>\n",
       "      <td>8.4</td>\n",
       "    </tr>\n",
       "  </tbody>\n",
       "</table>\n",
       "</div>"
      ],
      "text/plain": [
       "                             order_id  order_item_id  \\\n",
       "137  00526a9d4ebde463baee25f386963ddc              1   \n",
       "138  00526a9d4ebde463baee25f386963ddc              2   \n",
       "139  00526a9d4ebde463baee25f386963ddc              3   \n",
       "140  00526a9d4ebde463baee25f386963ddc              4   \n",
       "\n",
       "                           product_id                         seller_id  \\\n",
       "137  0c4a0f8ab44f9acd2d04e7024f9ba362  7210cd29727d674c00741e5e387b3ccd   \n",
       "138  0c4a0f8ab44f9acd2d04e7024f9ba362  7210cd29727d674c00741e5e387b3ccd   \n",
       "139  0c4a0f8ab44f9acd2d04e7024f9ba362  7210cd29727d674c00741e5e387b3ccd   \n",
       "140  0c4a0f8ab44f9acd2d04e7024f9ba362  7210cd29727d674c00741e5e387b3ccd   \n",
       "\n",
       "     shipping_limit_date  price  freight_value  \n",
       "137  2018-08-14 22:15:22  33.89            8.4  \n",
       "138  2018-08-14 22:15:22  33.89            8.4  \n",
       "139  2018-08-14 22:15:22  33.89            8.4  \n",
       "140  2018-08-14 22:15:22  33.89            8.4  "
      ]
     },
     "execution_count": 421,
     "metadata": {},
     "output_type": "execute_result"
    }
   ],
   "source": [
    "olist_order_items_dataset[olist_order_items_dataset['order_id'] == '00526a9d4ebde463baee25f386963ddc']"
   ]
  },
  {
   "cell_type": "code",
   "execution_count": 422,
   "metadata": {},
   "outputs": [],
   "source": [
    "d = olist_order_items_dataset.groupby(['order_id', 'product_id', 'seller_id','shipping_limit_date','price', 'freight_value'])['order_item_id'].max().reset_index()"
   ]
  },
  {
   "cell_type": "code",
   "execution_count": 423,
   "metadata": {},
   "outputs": [
    {
     "data": {
      "text/html": [
       "<div>\n",
       "<style scoped>\n",
       "    .dataframe tbody tr th:only-of-type {\n",
       "        vertical-align: middle;\n",
       "    }\n",
       "\n",
       "    .dataframe tbody tr th {\n",
       "        vertical-align: top;\n",
       "    }\n",
       "\n",
       "    .dataframe thead th {\n",
       "        text-align: right;\n",
       "    }\n",
       "</style>\n",
       "<table border=\"1\" class=\"dataframe\">\n",
       "  <thead>\n",
       "    <tr style=\"text-align: right;\">\n",
       "      <th></th>\n",
       "      <th>order_id</th>\n",
       "      <th>product_id</th>\n",
       "      <th>seller_id</th>\n",
       "      <th>shipping_limit_date</th>\n",
       "      <th>price</th>\n",
       "      <th>freight_value</th>\n",
       "      <th>order_item_id</th>\n",
       "    </tr>\n",
       "  </thead>\n",
       "  <tbody>\n",
       "    <tr>\n",
       "      <th>0</th>\n",
       "      <td>00010242fe8c5a6d1ba2dd792cb16214</td>\n",
       "      <td>4244733e06e7ecb4970a6e2683c13e61</td>\n",
       "      <td>48436dade18ac8b2bce089ec2a041202</td>\n",
       "      <td>2017-09-19 09:45:35</td>\n",
       "      <td>58.90</td>\n",
       "      <td>13.29</td>\n",
       "      <td>1</td>\n",
       "    </tr>\n",
       "    <tr>\n",
       "      <th>1</th>\n",
       "      <td>00018f77f2f0320c557190d7a144bdd3</td>\n",
       "      <td>e5f2d52b802189ee658865ca93d83a8f</td>\n",
       "      <td>dd7ddc04e1b6c2c614352b383efe2d36</td>\n",
       "      <td>2017-05-03 11:05:13</td>\n",
       "      <td>239.90</td>\n",
       "      <td>19.93</td>\n",
       "      <td>1</td>\n",
       "    </tr>\n",
       "    <tr>\n",
       "      <th>2</th>\n",
       "      <td>000229ec398224ef6ca0657da4fc703e</td>\n",
       "      <td>c777355d18b72b67abbeef9df44fd0fd</td>\n",
       "      <td>5b51032eddd242adc84c38acab88f23d</td>\n",
       "      <td>2018-01-18 14:48:30</td>\n",
       "      <td>199.00</td>\n",
       "      <td>17.87</td>\n",
       "      <td>1</td>\n",
       "    </tr>\n",
       "    <tr>\n",
       "      <th>3</th>\n",
       "      <td>00024acbcdf0a6daa1e931b038114c75</td>\n",
       "      <td>7634da152a4610f1595efa32f14722fc</td>\n",
       "      <td>9d7a1d34a5052409006425275ba1c2b4</td>\n",
       "      <td>2018-08-15 10:10:18</td>\n",
       "      <td>12.99</td>\n",
       "      <td>12.79</td>\n",
       "      <td>1</td>\n",
       "    </tr>\n",
       "    <tr>\n",
       "      <th>4</th>\n",
       "      <td>00042b26cf59d7ce69dfabb4e55b4fd9</td>\n",
       "      <td>ac6c3623068f30de03045865e4e10089</td>\n",
       "      <td>df560393f3a51e74553ab94004ba5c87</td>\n",
       "      <td>2017-02-13 13:57:51</td>\n",
       "      <td>199.90</td>\n",
       "      <td>18.14</td>\n",
       "      <td>1</td>\n",
       "    </tr>\n",
       "  </tbody>\n",
       "</table>\n",
       "</div>"
      ],
      "text/plain": [
       "                           order_id                        product_id  \\\n",
       "0  00010242fe8c5a6d1ba2dd792cb16214  4244733e06e7ecb4970a6e2683c13e61   \n",
       "1  00018f77f2f0320c557190d7a144bdd3  e5f2d52b802189ee658865ca93d83a8f   \n",
       "2  000229ec398224ef6ca0657da4fc703e  c777355d18b72b67abbeef9df44fd0fd   \n",
       "3  00024acbcdf0a6daa1e931b038114c75  7634da152a4610f1595efa32f14722fc   \n",
       "4  00042b26cf59d7ce69dfabb4e55b4fd9  ac6c3623068f30de03045865e4e10089   \n",
       "\n",
       "                          seller_id  shipping_limit_date   price  \\\n",
       "0  48436dade18ac8b2bce089ec2a041202  2017-09-19 09:45:35   58.90   \n",
       "1  dd7ddc04e1b6c2c614352b383efe2d36  2017-05-03 11:05:13  239.90   \n",
       "2  5b51032eddd242adc84c38acab88f23d  2018-01-18 14:48:30  199.00   \n",
       "3  9d7a1d34a5052409006425275ba1c2b4  2018-08-15 10:10:18   12.99   \n",
       "4  df560393f3a51e74553ab94004ba5c87  2017-02-13 13:57:51  199.90   \n",
       "\n",
       "   freight_value  order_item_id  \n",
       "0          13.29              1  \n",
       "1          19.93              1  \n",
       "2          17.87              1  \n",
       "3          12.79              1  \n",
       "4          18.14              1  "
      ]
     },
     "execution_count": 423,
     "metadata": {},
     "output_type": "execute_result"
    }
   ],
   "source": [
    "d.head()"
   ]
  },
  {
   "cell_type": "code",
   "execution_count": 424,
   "metadata": {},
   "outputs": [
    {
     "data": {
      "text/plain": [
       "(102425, 7)"
      ]
     },
     "execution_count": 424,
     "metadata": {},
     "output_type": "execute_result"
    }
   ],
   "source": [
    "d.shape"
   ]
  },
  {
   "cell_type": "code",
   "execution_count": 425,
   "metadata": {},
   "outputs": [
    {
     "data": {
      "text/plain": [
       "98666"
      ]
     },
     "execution_count": 425,
     "metadata": {},
     "output_type": "execute_result"
    }
   ],
   "source": [
    "d['order_id'].nunique()"
   ]
  },
  {
   "cell_type": "code",
   "execution_count": 426,
   "metadata": {},
   "outputs": [
    {
     "data": {
      "text/plain": [
       "False    98666\n",
       "True      3759\n",
       "dtype: int64"
      ]
     },
     "execution_count": 426,
     "metadata": {},
     "output_type": "execute_result"
    }
   ],
   "source": [
    "zz = d.duplicated('order_id',keep='first')\n",
    "zz.value_counts()"
   ]
  },
  {
   "cell_type": "code",
   "execution_count": 427,
   "metadata": {},
   "outputs": [
    {
     "data": {
      "text/html": [
       "<div>\n",
       "<style scoped>\n",
       "    .dataframe tbody tr th:only-of-type {\n",
       "        vertical-align: middle;\n",
       "    }\n",
       "\n",
       "    .dataframe tbody tr th {\n",
       "        vertical-align: top;\n",
       "    }\n",
       "\n",
       "    .dataframe thead th {\n",
       "        text-align: right;\n",
       "    }\n",
       "</style>\n",
       "<table border=\"1\" class=\"dataframe\">\n",
       "  <thead>\n",
       "    <tr style=\"text-align: right;\">\n",
       "      <th></th>\n",
       "      <th>order_id</th>\n",
       "      <th>product_id</th>\n",
       "      <th>seller_id</th>\n",
       "      <th>shipping_limit_date</th>\n",
       "      <th>price</th>\n",
       "      <th>freight_value</th>\n",
       "      <th>order_item_id</th>\n",
       "    </tr>\n",
       "  </thead>\n",
       "  <tbody>\n",
       "    <tr>\n",
       "      <th>74</th>\n",
       "      <td>002f98c0f7efd42638ed6100ca699b42</td>\n",
       "      <td>d41dc2f2979f52d75d78714b378d4068</td>\n",
       "      <td>7299e27ed73d2ad986de7f7c77d919fa</td>\n",
       "      <td>2017-08-10 09:30:15</td>\n",
       "      <td>8.99</td>\n",
       "      <td>32.57</td>\n",
       "      <td>1</td>\n",
       "    </tr>\n",
       "    <tr>\n",
       "      <th>84</th>\n",
       "      <td>00337fe25a3780b3424d9ad7c5a4b35e</td>\n",
       "      <td>1f9799a175f50c9fa725984775cac5c5</td>\n",
       "      <td>cfb1a033743668a192316f3c6d1d2671</td>\n",
       "      <td>2017-09-29 17:50:16</td>\n",
       "      <td>59.90</td>\n",
       "      <td>9.94</td>\n",
       "      <td>1</td>\n",
       "    </tr>\n",
       "    <tr>\n",
       "      <th>137</th>\n",
       "      <td>005d9a5423d47281ac463a968b3936fb</td>\n",
       "      <td>fb7a100ec8c7b34f60cec22b1a9a10e0</td>\n",
       "      <td>d98eec89afa3380e14463da2aabaea72</td>\n",
       "      <td>2017-10-24 12:28:16</td>\n",
       "      <td>49.99</td>\n",
       "      <td>18.12</td>\n",
       "      <td>1</td>\n",
       "    </tr>\n",
       "    <tr>\n",
       "      <th>202</th>\n",
       "      <td>00946f674d880be1f188abc10ad7cf46</td>\n",
       "      <td>9bb2d066e4b33b624cbdfec7d50b3dcb</td>\n",
       "      <td>5cf13accae3222c70a9cac40818ae839</td>\n",
       "      <td>2017-12-14 19:30:37</td>\n",
       "      <td>99.90</td>\n",
       "      <td>14.35</td>\n",
       "      <td>2</td>\n",
       "    </tr>\n",
       "    <tr>\n",
       "      <th>213</th>\n",
       "      <td>0097f0545a302aafa32782f1734ff71c</td>\n",
       "      <td>b6397895a17ce86decd60b898b459796</td>\n",
       "      <td>7901646fdd36a55f564ffaf2dbccaaf7</td>\n",
       "      <td>2018-03-09 18:30:41</td>\n",
       "      <td>158.00</td>\n",
       "      <td>10.68</td>\n",
       "      <td>1</td>\n",
       "    </tr>\n",
       "  </tbody>\n",
       "</table>\n",
       "</div>"
      ],
      "text/plain": [
       "                             order_id                        product_id  \\\n",
       "74   002f98c0f7efd42638ed6100ca699b42  d41dc2f2979f52d75d78714b378d4068   \n",
       "84   00337fe25a3780b3424d9ad7c5a4b35e  1f9799a175f50c9fa725984775cac5c5   \n",
       "137  005d9a5423d47281ac463a968b3936fb  fb7a100ec8c7b34f60cec22b1a9a10e0   \n",
       "202  00946f674d880be1f188abc10ad7cf46  9bb2d066e4b33b624cbdfec7d50b3dcb   \n",
       "213  0097f0545a302aafa32782f1734ff71c  b6397895a17ce86decd60b898b459796   \n",
       "\n",
       "                            seller_id  shipping_limit_date   price  \\\n",
       "74   7299e27ed73d2ad986de7f7c77d919fa  2017-08-10 09:30:15    8.99   \n",
       "84   cfb1a033743668a192316f3c6d1d2671  2017-09-29 17:50:16   59.90   \n",
       "137  d98eec89afa3380e14463da2aabaea72  2017-10-24 12:28:16   49.99   \n",
       "202  5cf13accae3222c70a9cac40818ae839  2017-12-14 19:30:37   99.90   \n",
       "213  7901646fdd36a55f564ffaf2dbccaaf7  2018-03-09 18:30:41  158.00   \n",
       "\n",
       "     freight_value  order_item_id  \n",
       "74           32.57              1  \n",
       "84            9.94              1  \n",
       "137          18.12              1  \n",
       "202          14.35              2  \n",
       "213          10.68              1  "
      ]
     },
     "execution_count": 427,
     "metadata": {},
     "output_type": "execute_result"
    }
   ],
   "source": [
    "d[zz].head()"
   ]
  },
  {
   "cell_type": "code",
   "execution_count": 428,
   "metadata": {},
   "outputs": [
    {
     "data": {
      "text/html": [
       "<div>\n",
       "<style scoped>\n",
       "    .dataframe tbody tr th:only-of-type {\n",
       "        vertical-align: middle;\n",
       "    }\n",
       "\n",
       "    .dataframe tbody tr th {\n",
       "        vertical-align: top;\n",
       "    }\n",
       "\n",
       "    .dataframe thead th {\n",
       "        text-align: right;\n",
       "    }\n",
       "</style>\n",
       "<table border=\"1\" class=\"dataframe\">\n",
       "  <thead>\n",
       "    <tr style=\"text-align: right;\">\n",
       "      <th></th>\n",
       "      <th>order_id</th>\n",
       "      <th>product_id</th>\n",
       "      <th>seller_id</th>\n",
       "      <th>shipping_limit_date</th>\n",
       "      <th>price</th>\n",
       "      <th>freight_value</th>\n",
       "      <th>order_item_id</th>\n",
       "    </tr>\n",
       "  </thead>\n",
       "  <tbody>\n",
       "    <tr>\n",
       "      <th>73</th>\n",
       "      <td>002f98c0f7efd42638ed6100ca699b42</td>\n",
       "      <td>880be32f4db1d9f6e2bec38fb6ac23ab</td>\n",
       "      <td>fa40cc5b934574b62717c68f3d678b6d</td>\n",
       "      <td>2017-08-10 09:30:15</td>\n",
       "      <td>44.90</td>\n",
       "      <td>7.16</td>\n",
       "      <td>2</td>\n",
       "    </tr>\n",
       "    <tr>\n",
       "      <th>74</th>\n",
       "      <td>002f98c0f7efd42638ed6100ca699b42</td>\n",
       "      <td>d41dc2f2979f52d75d78714b378d4068</td>\n",
       "      <td>7299e27ed73d2ad986de7f7c77d919fa</td>\n",
       "      <td>2017-08-10 09:30:15</td>\n",
       "      <td>8.99</td>\n",
       "      <td>32.57</td>\n",
       "      <td>1</td>\n",
       "    </tr>\n",
       "  </tbody>\n",
       "</table>\n",
       "</div>"
      ],
      "text/plain": [
       "                            order_id                        product_id  \\\n",
       "73  002f98c0f7efd42638ed6100ca699b42  880be32f4db1d9f6e2bec38fb6ac23ab   \n",
       "74  002f98c0f7efd42638ed6100ca699b42  d41dc2f2979f52d75d78714b378d4068   \n",
       "\n",
       "                           seller_id  shipping_limit_date  price  \\\n",
       "73  fa40cc5b934574b62717c68f3d678b6d  2017-08-10 09:30:15  44.90   \n",
       "74  7299e27ed73d2ad986de7f7c77d919fa  2017-08-10 09:30:15   8.99   \n",
       "\n",
       "    freight_value  order_item_id  \n",
       "73           7.16              2  \n",
       "74          32.57              1  "
      ]
     },
     "execution_count": 428,
     "metadata": {},
     "output_type": "execute_result"
    }
   ],
   "source": [
    "d[d['order_id'] == '002f98c0f7efd42638ed6100ca699b42']"
   ]
  },
  {
   "cell_type": "code",
   "execution_count": 429,
   "metadata": {
    "scrolled": true
   },
   "outputs": [
    {
     "data": {
      "text/plain": [
       "ca3625898fbd48669d50701aba51cd5f    8\n",
       "77df84f9195be22a4e9cb72ca9e8b4c2    7\n",
       "7d8f5bfd5aff648220374a2df62e84d5    7\n",
       "ad850e69fce9a512ada84086651a2e7d    7\n",
       "1c11d0f4353b31ac3417fbfa5f0f2a8a    6\n",
       "Name: order_id, dtype: int64"
      ]
     },
     "execution_count": 429,
     "metadata": {},
     "output_type": "execute_result"
    }
   ],
   "source": [
    "d['order_id'].value_counts().head()"
   ]
  },
  {
   "cell_type": "code",
   "execution_count": 430,
   "metadata": {},
   "outputs": [
    {
     "data": {
      "text/html": [
       "<div>\n",
       "<style scoped>\n",
       "    .dataframe tbody tr th:only-of-type {\n",
       "        vertical-align: middle;\n",
       "    }\n",
       "\n",
       "    .dataframe tbody tr th {\n",
       "        vertical-align: top;\n",
       "    }\n",
       "\n",
       "    .dataframe thead th {\n",
       "        text-align: right;\n",
       "    }\n",
       "</style>\n",
       "<table border=\"1\" class=\"dataframe\">\n",
       "  <thead>\n",
       "    <tr style=\"text-align: right;\">\n",
       "      <th></th>\n",
       "      <th>order_id</th>\n",
       "      <th>product_id</th>\n",
       "      <th>seller_id</th>\n",
       "      <th>shipping_limit_date</th>\n",
       "      <th>price</th>\n",
       "      <th>freight_value</th>\n",
       "      <th>order_item_id</th>\n",
       "    </tr>\n",
       "  </thead>\n",
       "  <tbody>\n",
       "    <tr>\n",
       "      <th>80867</th>\n",
       "      <td>ca3625898fbd48669d50701aba51cd5f</td>\n",
       "      <td>0cf2faf9749f53924cea652a09d8e327</td>\n",
       "      <td>0b35c634521043bf4b47e21547b99ab5</td>\n",
       "      <td>2018-08-16 02:25:07</td>\n",
       "      <td>33.9</td>\n",
       "      <td>1.84</td>\n",
       "      <td>2</td>\n",
       "    </tr>\n",
       "    <tr>\n",
       "      <th>80868</th>\n",
       "      <td>ca3625898fbd48669d50701aba51cd5f</td>\n",
       "      <td>0de59eddc63167215c972b0d785ffa7b</td>\n",
       "      <td>0b35c634521043bf4b47e21547b99ab5</td>\n",
       "      <td>2018-08-16 02:25:07</td>\n",
       "      <td>159.0</td>\n",
       "      <td>3.67</td>\n",
       "      <td>4</td>\n",
       "    </tr>\n",
       "    <tr>\n",
       "      <th>80869</th>\n",
       "      <td>ca3625898fbd48669d50701aba51cd5f</td>\n",
       "      <td>1065e0ebef073787a7bf691924c60eeb</td>\n",
       "      <td>0b35c634521043bf4b47e21547b99ab5</td>\n",
       "      <td>2018-08-16 02:25:07</td>\n",
       "      <td>309.0</td>\n",
       "      <td>1.84</td>\n",
       "      <td>1</td>\n",
       "    </tr>\n",
       "    <tr>\n",
       "      <th>80870</th>\n",
       "      <td>ca3625898fbd48669d50701aba51cd5f</td>\n",
       "      <td>21b524c4c060169fa75ccf08c7da4627</td>\n",
       "      <td>0b35c634521043bf4b47e21547b99ab5</td>\n",
       "      <td>2018-08-16 02:25:07</td>\n",
       "      <td>63.7</td>\n",
       "      <td>0.15</td>\n",
       "      <td>8</td>\n",
       "    </tr>\n",
       "    <tr>\n",
       "      <th>80871</th>\n",
       "      <td>ca3625898fbd48669d50701aba51cd5f</td>\n",
       "      <td>309dd69eb83cea38c51709d62befe1a4</td>\n",
       "      <td>0b35c634521043bf4b47e21547b99ab5</td>\n",
       "      <td>2018-08-16 02:25:07</td>\n",
       "      <td>56.0</td>\n",
       "      <td>3.68</td>\n",
       "      <td>10</td>\n",
       "    </tr>\n",
       "    <tr>\n",
       "      <th>80872</th>\n",
       "      <td>ca3625898fbd48669d50701aba51cd5f</td>\n",
       "      <td>4a5c3967bfd3629fe07ef4d0cc8c3818</td>\n",
       "      <td>0b35c634521043bf4b47e21547b99ab5</td>\n",
       "      <td>2018-08-16 02:25:07</td>\n",
       "      <td>109.9</td>\n",
       "      <td>0.15</td>\n",
       "      <td>6</td>\n",
       "    </tr>\n",
       "    <tr>\n",
       "      <th>80873</th>\n",
       "      <td>ca3625898fbd48669d50701aba51cd5f</td>\n",
       "      <td>5dae498eff2d80057f56122235a36aff</td>\n",
       "      <td>888faa8bfb0b159c37de6d898b961c31</td>\n",
       "      <td>2018-08-17 02:25:07</td>\n",
       "      <td>95.9</td>\n",
       "      <td>0.15</td>\n",
       "      <td>5</td>\n",
       "    </tr>\n",
       "    <tr>\n",
       "      <th>80874</th>\n",
       "      <td>ca3625898fbd48669d50701aba51cd5f</td>\n",
       "      <td>678c229b41c0e497d35a25a8be1cc631</td>\n",
       "      <td>888faa8bfb0b159c37de6d898b961c31</td>\n",
       "      <td>2018-08-17 02:25:07</td>\n",
       "      <td>95.9</td>\n",
       "      <td>0.15</td>\n",
       "      <td>7</td>\n",
       "    </tr>\n",
       "  </tbody>\n",
       "</table>\n",
       "</div>"
      ],
      "text/plain": [
       "                               order_id                        product_id  \\\n",
       "80867  ca3625898fbd48669d50701aba51cd5f  0cf2faf9749f53924cea652a09d8e327   \n",
       "80868  ca3625898fbd48669d50701aba51cd5f  0de59eddc63167215c972b0d785ffa7b   \n",
       "80869  ca3625898fbd48669d50701aba51cd5f  1065e0ebef073787a7bf691924c60eeb   \n",
       "80870  ca3625898fbd48669d50701aba51cd5f  21b524c4c060169fa75ccf08c7da4627   \n",
       "80871  ca3625898fbd48669d50701aba51cd5f  309dd69eb83cea38c51709d62befe1a4   \n",
       "80872  ca3625898fbd48669d50701aba51cd5f  4a5c3967bfd3629fe07ef4d0cc8c3818   \n",
       "80873  ca3625898fbd48669d50701aba51cd5f  5dae498eff2d80057f56122235a36aff   \n",
       "80874  ca3625898fbd48669d50701aba51cd5f  678c229b41c0e497d35a25a8be1cc631   \n",
       "\n",
       "                              seller_id  shipping_limit_date  price  \\\n",
       "80867  0b35c634521043bf4b47e21547b99ab5  2018-08-16 02:25:07   33.9   \n",
       "80868  0b35c634521043bf4b47e21547b99ab5  2018-08-16 02:25:07  159.0   \n",
       "80869  0b35c634521043bf4b47e21547b99ab5  2018-08-16 02:25:07  309.0   \n",
       "80870  0b35c634521043bf4b47e21547b99ab5  2018-08-16 02:25:07   63.7   \n",
       "80871  0b35c634521043bf4b47e21547b99ab5  2018-08-16 02:25:07   56.0   \n",
       "80872  0b35c634521043bf4b47e21547b99ab5  2018-08-16 02:25:07  109.9   \n",
       "80873  888faa8bfb0b159c37de6d898b961c31  2018-08-17 02:25:07   95.9   \n",
       "80874  888faa8bfb0b159c37de6d898b961c31  2018-08-17 02:25:07   95.9   \n",
       "\n",
       "       freight_value  order_item_id  \n",
       "80867           1.84              2  \n",
       "80868           3.67              4  \n",
       "80869           1.84              1  \n",
       "80870           0.15              8  \n",
       "80871           3.68             10  \n",
       "80872           0.15              6  \n",
       "80873           0.15              5  \n",
       "80874           0.15              7  "
      ]
     },
     "execution_count": 430,
     "metadata": {},
     "output_type": "execute_result"
    }
   ],
   "source": [
    "d[d['order_id'] == 'ca3625898fbd48669d50701aba51cd5f']"
   ]
  },
  {
   "cell_type": "code",
   "execution_count": 431,
   "metadata": {},
   "outputs": [
    {
     "data": {
      "text/html": [
       "<div>\n",
       "<style scoped>\n",
       "    .dataframe tbody tr th:only-of-type {\n",
       "        vertical-align: middle;\n",
       "    }\n",
       "\n",
       "    .dataframe tbody tr th {\n",
       "        vertical-align: top;\n",
       "    }\n",
       "\n",
       "    .dataframe thead th {\n",
       "        text-align: right;\n",
       "    }\n",
       "</style>\n",
       "<table border=\"1\" class=\"dataframe\">\n",
       "  <thead>\n",
       "    <tr style=\"text-align: right;\">\n",
       "      <th></th>\n",
       "      <th>order_id</th>\n",
       "      <th>product_id</th>\n",
       "      <th>seller_id</th>\n",
       "      <th>shipping_limit_date</th>\n",
       "      <th>price</th>\n",
       "      <th>freight_value</th>\n",
       "      <th>order_item_id</th>\n",
       "    </tr>\n",
       "  </thead>\n",
       "  <tbody>\n",
       "    <tr>\n",
       "      <th>11231</th>\n",
       "      <td>1c11d0f4353b31ac3417fbfa5f0f2a8a</td>\n",
       "      <td>61b6e5d2e3ee58d2b341b8ef1a652b26</td>\n",
       "      <td>c7fdb77fdbff3c41981bc52f787e959e</td>\n",
       "      <td>2018-02-02 11:31:03</td>\n",
       "      <td>56.00</td>\n",
       "      <td>12.77</td>\n",
       "      <td>7</td>\n",
       "    </tr>\n",
       "    <tr>\n",
       "      <th>11232</th>\n",
       "      <td>1c11d0f4353b31ac3417fbfa5f0f2a8a</td>\n",
       "      <td>a3a10562c9d134b92f04b8cce298d037</td>\n",
       "      <td>822166ed1e47908f7cfb49946d03c726</td>\n",
       "      <td>2018-02-02 11:31:03</td>\n",
       "      <td>22.49</td>\n",
       "      <td>25.54</td>\n",
       "      <td>5</td>\n",
       "    </tr>\n",
       "    <tr>\n",
       "      <th>11233</th>\n",
       "      <td>1c11d0f4353b31ac3417fbfa5f0f2a8a</td>\n",
       "      <td>d3a386ad58b99f0ddcc216ed9efb03c3</td>\n",
       "      <td>609e1a9a6c2539919b8205cf7c4e6ff0</td>\n",
       "      <td>2018-02-02 11:31:03</td>\n",
       "      <td>43.90</td>\n",
       "      <td>12.77</td>\n",
       "      <td>6</td>\n",
       "    </tr>\n",
       "    <tr>\n",
       "      <th>11234</th>\n",
       "      <td>1c11d0f4353b31ac3417fbfa5f0f2a8a</td>\n",
       "      <td>d64738c7b2e2d1778a51e835d8f02568</td>\n",
       "      <td>609e1a9a6c2539919b8205cf7c4e6ff0</td>\n",
       "      <td>2018-02-02 11:31:03</td>\n",
       "      <td>43.90</td>\n",
       "      <td>12.77</td>\n",
       "      <td>1</td>\n",
       "    </tr>\n",
       "    <tr>\n",
       "      <th>11235</th>\n",
       "      <td>1c11d0f4353b31ac3417fbfa5f0f2a8a</td>\n",
       "      <td>d80fce9f775927c7d602c2de926759f1</td>\n",
       "      <td>747c1cdcd1737dcfbd1547f6eb6f2cf3</td>\n",
       "      <td>2018-02-02 11:31:03</td>\n",
       "      <td>88.00</td>\n",
       "      <td>12.77</td>\n",
       "      <td>3</td>\n",
       "    </tr>\n",
       "    <tr>\n",
       "      <th>11236</th>\n",
       "      <td>1c11d0f4353b31ac3417fbfa5f0f2a8a</td>\n",
       "      <td>ddbf57e4559f03c003fc3708d4860c5e</td>\n",
       "      <td>1835b56ce799e6a4dc4eddc053f04066</td>\n",
       "      <td>2018-02-02 11:31:03</td>\n",
       "      <td>29.99</td>\n",
       "      <td>12.77</td>\n",
       "      <td>4</td>\n",
       "    </tr>\n",
       "  </tbody>\n",
       "</table>\n",
       "</div>"
      ],
      "text/plain": [
       "                               order_id                        product_id  \\\n",
       "11231  1c11d0f4353b31ac3417fbfa5f0f2a8a  61b6e5d2e3ee58d2b341b8ef1a652b26   \n",
       "11232  1c11d0f4353b31ac3417fbfa5f0f2a8a  a3a10562c9d134b92f04b8cce298d037   \n",
       "11233  1c11d0f4353b31ac3417fbfa5f0f2a8a  d3a386ad58b99f0ddcc216ed9efb03c3   \n",
       "11234  1c11d0f4353b31ac3417fbfa5f0f2a8a  d64738c7b2e2d1778a51e835d8f02568   \n",
       "11235  1c11d0f4353b31ac3417fbfa5f0f2a8a  d80fce9f775927c7d602c2de926759f1   \n",
       "11236  1c11d0f4353b31ac3417fbfa5f0f2a8a  ddbf57e4559f03c003fc3708d4860c5e   \n",
       "\n",
       "                              seller_id  shipping_limit_date  price  \\\n",
       "11231  c7fdb77fdbff3c41981bc52f787e959e  2018-02-02 11:31:03  56.00   \n",
       "11232  822166ed1e47908f7cfb49946d03c726  2018-02-02 11:31:03  22.49   \n",
       "11233  609e1a9a6c2539919b8205cf7c4e6ff0  2018-02-02 11:31:03  43.90   \n",
       "11234  609e1a9a6c2539919b8205cf7c4e6ff0  2018-02-02 11:31:03  43.90   \n",
       "11235  747c1cdcd1737dcfbd1547f6eb6f2cf3  2018-02-02 11:31:03  88.00   \n",
       "11236  1835b56ce799e6a4dc4eddc053f04066  2018-02-02 11:31:03  29.99   \n",
       "\n",
       "       freight_value  order_item_id  \n",
       "11231          12.77              7  \n",
       "11232          25.54              5  \n",
       "11233          12.77              6  \n",
       "11234          12.77              1  \n",
       "11235          12.77              3  \n",
       "11236          12.77              4  "
      ]
     },
     "execution_count": 431,
     "metadata": {},
     "output_type": "execute_result"
    }
   ],
   "source": [
    "d[d['order_id'] == '1c11d0f4353b31ac3417fbfa5f0f2a8a']"
   ]
  },
  {
   "cell_type": "code",
   "execution_count": 432,
   "metadata": {},
   "outputs": [],
   "source": [
    "olist_order_items_dataset = d.iloc[:,:].copy()"
   ]
  },
  {
   "cell_type": "markdown",
   "metadata": {},
   "source": [
    "#### <span style=\"color:red\"> Merge olist_order_items_dataset y olist_items_dataset  </span>"
   ]
  },
  {
   "cell_type": "code",
   "execution_count": 433,
   "metadata": {},
   "outputs": [],
   "source": [
    "olist_items_dataset = olist_order_items_dataset.merge(olist_items_dataset, how = 'left', on = 'seller_id', validate = 'm:1')"
   ]
  },
  {
   "cell_type": "code",
   "execution_count": 434,
   "metadata": {},
   "outputs": [
    {
     "data": {
      "text/plain": [
       "(102425, 12)"
      ]
     },
     "execution_count": 434,
     "metadata": {},
     "output_type": "execute_result"
    }
   ],
   "source": [
    "olist_items_dataset.shape"
   ]
  },
  {
   "cell_type": "code",
   "execution_count": 435,
   "metadata": {},
   "outputs": [
    {
     "data": {
      "text/html": [
       "<div>\n",
       "<style scoped>\n",
       "    .dataframe tbody tr th:only-of-type {\n",
       "        vertical-align: middle;\n",
       "    }\n",
       "\n",
       "    .dataframe tbody tr th {\n",
       "        vertical-align: top;\n",
       "    }\n",
       "\n",
       "    .dataframe thead th {\n",
       "        text-align: right;\n",
       "    }\n",
       "</style>\n",
       "<table border=\"1\" class=\"dataframe\">\n",
       "  <thead>\n",
       "    <tr style=\"text-align: right;\">\n",
       "      <th></th>\n",
       "      <th>order_id</th>\n",
       "      <th>product_id</th>\n",
       "      <th>seller_id</th>\n",
       "      <th>shipping_limit_date</th>\n",
       "      <th>price</th>\n",
       "      <th>freight_value</th>\n",
       "      <th>order_item_id</th>\n",
       "      <th>seller_zip_code_prefix</th>\n",
       "      <th>geolocation_lat</th>\n",
       "      <th>geolocation_lng</th>\n",
       "      <th>geolocation_city</th>\n",
       "      <th>geolocation_state</th>\n",
       "    </tr>\n",
       "  </thead>\n",
       "  <tbody>\n",
       "    <tr>\n",
       "      <th>0</th>\n",
       "      <td>00010242fe8c5a6d1ba2dd792cb16214</td>\n",
       "      <td>4244733e06e7ecb4970a6e2683c13e61</td>\n",
       "      <td>48436dade18ac8b2bce089ec2a041202</td>\n",
       "      <td>2017-09-19 09:45:35</td>\n",
       "      <td>58.90</td>\n",
       "      <td>13.29</td>\n",
       "      <td>1</td>\n",
       "      <td>27277</td>\n",
       "      <td>-22.497188</td>\n",
       "      <td>-44.127324</td>\n",
       "      <td>volta redonda</td>\n",
       "      <td>RJ</td>\n",
       "    </tr>\n",
       "    <tr>\n",
       "      <th>1</th>\n",
       "      <td>00018f77f2f0320c557190d7a144bdd3</td>\n",
       "      <td>e5f2d52b802189ee658865ca93d83a8f</td>\n",
       "      <td>dd7ddc04e1b6c2c614352b383efe2d36</td>\n",
       "      <td>2017-05-03 11:05:13</td>\n",
       "      <td>239.90</td>\n",
       "      <td>19.93</td>\n",
       "      <td>1</td>\n",
       "      <td>3471</td>\n",
       "      <td>-23.565754</td>\n",
       "      <td>-46.519097</td>\n",
       "      <td>sao paulo</td>\n",
       "      <td>SP</td>\n",
       "    </tr>\n",
       "    <tr>\n",
       "      <th>2</th>\n",
       "      <td>000229ec398224ef6ca0657da4fc703e</td>\n",
       "      <td>c777355d18b72b67abbeef9df44fd0fd</td>\n",
       "      <td>5b51032eddd242adc84c38acab88f23d</td>\n",
       "      <td>2018-01-18 14:48:30</td>\n",
       "      <td>199.00</td>\n",
       "      <td>17.87</td>\n",
       "      <td>1</td>\n",
       "      <td>37564</td>\n",
       "      <td>-22.262802</td>\n",
       "      <td>-46.170735</td>\n",
       "      <td>borda da mata</td>\n",
       "      <td>MG</td>\n",
       "    </tr>\n",
       "    <tr>\n",
       "      <th>3</th>\n",
       "      <td>00024acbcdf0a6daa1e931b038114c75</td>\n",
       "      <td>7634da152a4610f1595efa32f14722fc</td>\n",
       "      <td>9d7a1d34a5052409006425275ba1c2b4</td>\n",
       "      <td>2018-08-15 10:10:18</td>\n",
       "      <td>12.99</td>\n",
       "      <td>12.79</td>\n",
       "      <td>1</td>\n",
       "      <td>14403</td>\n",
       "      <td>-20.553651</td>\n",
       "      <td>-47.387145</td>\n",
       "      <td>franca</td>\n",
       "      <td>SP</td>\n",
       "    </tr>\n",
       "    <tr>\n",
       "      <th>4</th>\n",
       "      <td>00042b26cf59d7ce69dfabb4e55b4fd9</td>\n",
       "      <td>ac6c3623068f30de03045865e4e10089</td>\n",
       "      <td>df560393f3a51e74553ab94004ba5c87</td>\n",
       "      <td>2017-02-13 13:57:51</td>\n",
       "      <td>199.90</td>\n",
       "      <td>18.14</td>\n",
       "      <td>1</td>\n",
       "      <td>87900</td>\n",
       "      <td>-22.929583</td>\n",
       "      <td>-53.135750</td>\n",
       "      <td>loanda</td>\n",
       "      <td>PR</td>\n",
       "    </tr>\n",
       "  </tbody>\n",
       "</table>\n",
       "</div>"
      ],
      "text/plain": [
       "                           order_id                        product_id  \\\n",
       "0  00010242fe8c5a6d1ba2dd792cb16214  4244733e06e7ecb4970a6e2683c13e61   \n",
       "1  00018f77f2f0320c557190d7a144bdd3  e5f2d52b802189ee658865ca93d83a8f   \n",
       "2  000229ec398224ef6ca0657da4fc703e  c777355d18b72b67abbeef9df44fd0fd   \n",
       "3  00024acbcdf0a6daa1e931b038114c75  7634da152a4610f1595efa32f14722fc   \n",
       "4  00042b26cf59d7ce69dfabb4e55b4fd9  ac6c3623068f30de03045865e4e10089   \n",
       "\n",
       "                          seller_id  shipping_limit_date   price  \\\n",
       "0  48436dade18ac8b2bce089ec2a041202  2017-09-19 09:45:35   58.90   \n",
       "1  dd7ddc04e1b6c2c614352b383efe2d36  2017-05-03 11:05:13  239.90   \n",
       "2  5b51032eddd242adc84c38acab88f23d  2018-01-18 14:48:30  199.00   \n",
       "3  9d7a1d34a5052409006425275ba1c2b4  2018-08-15 10:10:18   12.99   \n",
       "4  df560393f3a51e74553ab94004ba5c87  2017-02-13 13:57:51  199.90   \n",
       "\n",
       "   freight_value  order_item_id  seller_zip_code_prefix  geolocation_lat  \\\n",
       "0          13.29              1                   27277       -22.497188   \n",
       "1          19.93              1                    3471       -23.565754   \n",
       "2          17.87              1                   37564       -22.262802   \n",
       "3          12.79              1                   14403       -20.553651   \n",
       "4          18.14              1                   87900       -22.929583   \n",
       "\n",
       "   geolocation_lng geolocation_city geolocation_state  \n",
       "0       -44.127324    volta redonda                RJ  \n",
       "1       -46.519097        sao paulo                SP  \n",
       "2       -46.170735    borda da mata                MG  \n",
       "3       -47.387145           franca                SP  \n",
       "4       -53.135750           loanda                PR  "
      ]
     },
     "execution_count": 435,
     "metadata": {},
     "output_type": "execute_result"
    }
   ],
   "source": [
    "olist_items_dataset.head()"
   ]
  },
  {
   "cell_type": "code",
   "execution_count": 436,
   "metadata": {},
   "outputs": [
    {
     "data": {
      "text/plain": [
       "False    98666\n",
       "True      3759\n",
       "dtype: int64"
      ]
     },
     "execution_count": 436,
     "metadata": {},
     "output_type": "execute_result"
    }
   ],
   "source": [
    "olist_items_dataset.duplicated('order_id',keep='first').value_counts()"
   ]
  },
  {
   "cell_type": "markdown",
   "metadata": {},
   "source": [
    "## olist_products_dataset"
   ]
  },
  {
   "cell_type": "code",
   "execution_count": 437,
   "metadata": {},
   "outputs": [],
   "source": [
    "olist_products_dataset = pd.read_csv('olist_products_dataset.csv')"
   ]
  },
  {
   "cell_type": "code",
   "execution_count": 438,
   "metadata": {},
   "outputs": [
    {
     "data": {
      "text/plain": [
       "(32951, 9)"
      ]
     },
     "execution_count": 438,
     "metadata": {},
     "output_type": "execute_result"
    }
   ],
   "source": [
    "olist_products_dataset.shape"
   ]
  },
  {
   "cell_type": "code",
   "execution_count": 439,
   "metadata": {},
   "outputs": [
    {
     "data": {
      "text/html": [
       "<div>\n",
       "<style scoped>\n",
       "    .dataframe tbody tr th:only-of-type {\n",
       "        vertical-align: middle;\n",
       "    }\n",
       "\n",
       "    .dataframe tbody tr th {\n",
       "        vertical-align: top;\n",
       "    }\n",
       "\n",
       "    .dataframe thead th {\n",
       "        text-align: right;\n",
       "    }\n",
       "</style>\n",
       "<table border=\"1\" class=\"dataframe\">\n",
       "  <thead>\n",
       "    <tr style=\"text-align: right;\">\n",
       "      <th></th>\n",
       "      <th>product_id</th>\n",
       "      <th>product_category_name</th>\n",
       "      <th>product_name_lenght</th>\n",
       "      <th>product_description_lenght</th>\n",
       "      <th>product_photos_qty</th>\n",
       "      <th>product_weight_g</th>\n",
       "      <th>product_length_cm</th>\n",
       "      <th>product_height_cm</th>\n",
       "      <th>product_width_cm</th>\n",
       "    </tr>\n",
       "  </thead>\n",
       "  <tbody>\n",
       "    <tr>\n",
       "      <th>0</th>\n",
       "      <td>1e9e8ef04dbcff4541ed26657ea517e5</td>\n",
       "      <td>perfumaria</td>\n",
       "      <td>40.0</td>\n",
       "      <td>287.0</td>\n",
       "      <td>1.0</td>\n",
       "      <td>225.0</td>\n",
       "      <td>16.0</td>\n",
       "      <td>10.0</td>\n",
       "      <td>14.0</td>\n",
       "    </tr>\n",
       "    <tr>\n",
       "      <th>1</th>\n",
       "      <td>3aa071139cb16b67ca9e5dea641aaa2f</td>\n",
       "      <td>artes</td>\n",
       "      <td>44.0</td>\n",
       "      <td>276.0</td>\n",
       "      <td>1.0</td>\n",
       "      <td>1000.0</td>\n",
       "      <td>30.0</td>\n",
       "      <td>18.0</td>\n",
       "      <td>20.0</td>\n",
       "    </tr>\n",
       "    <tr>\n",
       "      <th>2</th>\n",
       "      <td>96bd76ec8810374ed1b65e291975717f</td>\n",
       "      <td>esporte_lazer</td>\n",
       "      <td>46.0</td>\n",
       "      <td>250.0</td>\n",
       "      <td>1.0</td>\n",
       "      <td>154.0</td>\n",
       "      <td>18.0</td>\n",
       "      <td>9.0</td>\n",
       "      <td>15.0</td>\n",
       "    </tr>\n",
       "    <tr>\n",
       "      <th>3</th>\n",
       "      <td>cef67bcfe19066a932b7673e239eb23d</td>\n",
       "      <td>bebes</td>\n",
       "      <td>27.0</td>\n",
       "      <td>261.0</td>\n",
       "      <td>1.0</td>\n",
       "      <td>371.0</td>\n",
       "      <td>26.0</td>\n",
       "      <td>4.0</td>\n",
       "      <td>26.0</td>\n",
       "    </tr>\n",
       "    <tr>\n",
       "      <th>4</th>\n",
       "      <td>9dc1a7de274444849c219cff195d0b71</td>\n",
       "      <td>utilidades_domesticas</td>\n",
       "      <td>37.0</td>\n",
       "      <td>402.0</td>\n",
       "      <td>4.0</td>\n",
       "      <td>625.0</td>\n",
       "      <td>20.0</td>\n",
       "      <td>17.0</td>\n",
       "      <td>13.0</td>\n",
       "    </tr>\n",
       "  </tbody>\n",
       "</table>\n",
       "</div>"
      ],
      "text/plain": [
       "                         product_id  product_category_name  \\\n",
       "0  1e9e8ef04dbcff4541ed26657ea517e5             perfumaria   \n",
       "1  3aa071139cb16b67ca9e5dea641aaa2f                  artes   \n",
       "2  96bd76ec8810374ed1b65e291975717f          esporte_lazer   \n",
       "3  cef67bcfe19066a932b7673e239eb23d                  bebes   \n",
       "4  9dc1a7de274444849c219cff195d0b71  utilidades_domesticas   \n",
       "\n",
       "   product_name_lenght  product_description_lenght  product_photos_qty  \\\n",
       "0                 40.0                       287.0                 1.0   \n",
       "1                 44.0                       276.0                 1.0   \n",
       "2                 46.0                       250.0                 1.0   \n",
       "3                 27.0                       261.0                 1.0   \n",
       "4                 37.0                       402.0                 4.0   \n",
       "\n",
       "   product_weight_g  product_length_cm  product_height_cm  product_width_cm  \n",
       "0             225.0               16.0               10.0              14.0  \n",
       "1            1000.0               30.0               18.0              20.0  \n",
       "2             154.0               18.0                9.0              15.0  \n",
       "3             371.0               26.0                4.0              26.0  \n",
       "4             625.0               20.0               17.0              13.0  "
      ]
     },
     "execution_count": 439,
     "metadata": {},
     "output_type": "execute_result"
    }
   ],
   "source": [
    "olist_products_dataset.head()"
   ]
  },
  {
   "cell_type": "code",
   "execution_count": 440,
   "metadata": {},
   "outputs": [
    {
     "data": {
      "text/plain": [
       "False    32951\n",
       "dtype: int64"
      ]
     },
     "execution_count": 440,
     "metadata": {},
     "output_type": "execute_result"
    }
   ],
   "source": [
    "olist_products_dataset.duplicated(keep='first').value_counts()"
   ]
  },
  {
   "cell_type": "code",
   "execution_count": 441,
   "metadata": {},
   "outputs": [
    {
     "data": {
      "text/plain": [
       "False    32951\n",
       "dtype: int64"
      ]
     },
     "execution_count": 441,
     "metadata": {},
     "output_type": "execute_result"
    }
   ],
   "source": [
    "olist_products_dataset.duplicated('product_id', keep='first').value_counts()"
   ]
  },
  {
   "cell_type": "markdown",
   "metadata": {},
   "source": [
    "#### <span style=\"color:red\"> Merge olist_items_dataset y olist_products_dataset </span>"
   ]
  },
  {
   "cell_type": "code",
   "execution_count": 442,
   "metadata": {},
   "outputs": [],
   "source": [
    "olist_items_dataset = olist_items_dataset.merge(olist_products_dataset, how = 'left', on = 'product_id', validate = 'm:1')"
   ]
  },
  {
   "cell_type": "code",
   "execution_count": 443,
   "metadata": {},
   "outputs": [
    {
     "data": {
      "text/plain": [
       "(102425, 20)"
      ]
     },
     "execution_count": 443,
     "metadata": {},
     "output_type": "execute_result"
    }
   ],
   "source": [
    "olist_items_dataset.shape"
   ]
  },
  {
   "cell_type": "code",
   "execution_count": 444,
   "metadata": {},
   "outputs": [
    {
     "data": {
      "text/html": [
       "<div>\n",
       "<style scoped>\n",
       "    .dataframe tbody tr th:only-of-type {\n",
       "        vertical-align: middle;\n",
       "    }\n",
       "\n",
       "    .dataframe tbody tr th {\n",
       "        vertical-align: top;\n",
       "    }\n",
       "\n",
       "    .dataframe thead th {\n",
       "        text-align: right;\n",
       "    }\n",
       "</style>\n",
       "<table border=\"1\" class=\"dataframe\">\n",
       "  <thead>\n",
       "    <tr style=\"text-align: right;\">\n",
       "      <th></th>\n",
       "      <th>order_id</th>\n",
       "      <th>product_id</th>\n",
       "      <th>seller_id</th>\n",
       "      <th>shipping_limit_date</th>\n",
       "      <th>price</th>\n",
       "      <th>freight_value</th>\n",
       "      <th>order_item_id</th>\n",
       "      <th>seller_zip_code_prefix</th>\n",
       "      <th>geolocation_lat</th>\n",
       "      <th>geolocation_lng</th>\n",
       "      <th>geolocation_city</th>\n",
       "      <th>geolocation_state</th>\n",
       "      <th>product_category_name</th>\n",
       "      <th>product_name_lenght</th>\n",
       "      <th>product_description_lenght</th>\n",
       "      <th>product_photos_qty</th>\n",
       "      <th>product_weight_g</th>\n",
       "      <th>product_length_cm</th>\n",
       "      <th>product_height_cm</th>\n",
       "      <th>product_width_cm</th>\n",
       "    </tr>\n",
       "  </thead>\n",
       "  <tbody>\n",
       "    <tr>\n",
       "      <th>0</th>\n",
       "      <td>00010242fe8c5a6d1ba2dd792cb16214</td>\n",
       "      <td>4244733e06e7ecb4970a6e2683c13e61</td>\n",
       "      <td>48436dade18ac8b2bce089ec2a041202</td>\n",
       "      <td>2017-09-19 09:45:35</td>\n",
       "      <td>58.90</td>\n",
       "      <td>13.29</td>\n",
       "      <td>1</td>\n",
       "      <td>27277</td>\n",
       "      <td>-22.497188</td>\n",
       "      <td>-44.127324</td>\n",
       "      <td>volta redonda</td>\n",
       "      <td>RJ</td>\n",
       "      <td>cool_stuff</td>\n",
       "      <td>58.0</td>\n",
       "      <td>598.0</td>\n",
       "      <td>4.0</td>\n",
       "      <td>650.0</td>\n",
       "      <td>28.0</td>\n",
       "      <td>9.0</td>\n",
       "      <td>14.0</td>\n",
       "    </tr>\n",
       "    <tr>\n",
       "      <th>1</th>\n",
       "      <td>00018f77f2f0320c557190d7a144bdd3</td>\n",
       "      <td>e5f2d52b802189ee658865ca93d83a8f</td>\n",
       "      <td>dd7ddc04e1b6c2c614352b383efe2d36</td>\n",
       "      <td>2017-05-03 11:05:13</td>\n",
       "      <td>239.90</td>\n",
       "      <td>19.93</td>\n",
       "      <td>1</td>\n",
       "      <td>3471</td>\n",
       "      <td>-23.565754</td>\n",
       "      <td>-46.519097</td>\n",
       "      <td>sao paulo</td>\n",
       "      <td>SP</td>\n",
       "      <td>pet_shop</td>\n",
       "      <td>56.0</td>\n",
       "      <td>239.0</td>\n",
       "      <td>2.0</td>\n",
       "      <td>30000.0</td>\n",
       "      <td>50.0</td>\n",
       "      <td>30.0</td>\n",
       "      <td>40.0</td>\n",
       "    </tr>\n",
       "    <tr>\n",
       "      <th>2</th>\n",
       "      <td>000229ec398224ef6ca0657da4fc703e</td>\n",
       "      <td>c777355d18b72b67abbeef9df44fd0fd</td>\n",
       "      <td>5b51032eddd242adc84c38acab88f23d</td>\n",
       "      <td>2018-01-18 14:48:30</td>\n",
       "      <td>199.00</td>\n",
       "      <td>17.87</td>\n",
       "      <td>1</td>\n",
       "      <td>37564</td>\n",
       "      <td>-22.262802</td>\n",
       "      <td>-46.170735</td>\n",
       "      <td>borda da mata</td>\n",
       "      <td>MG</td>\n",
       "      <td>moveis_decoracao</td>\n",
       "      <td>59.0</td>\n",
       "      <td>695.0</td>\n",
       "      <td>2.0</td>\n",
       "      <td>3050.0</td>\n",
       "      <td>33.0</td>\n",
       "      <td>13.0</td>\n",
       "      <td>33.0</td>\n",
       "    </tr>\n",
       "    <tr>\n",
       "      <th>3</th>\n",
       "      <td>00024acbcdf0a6daa1e931b038114c75</td>\n",
       "      <td>7634da152a4610f1595efa32f14722fc</td>\n",
       "      <td>9d7a1d34a5052409006425275ba1c2b4</td>\n",
       "      <td>2018-08-15 10:10:18</td>\n",
       "      <td>12.99</td>\n",
       "      <td>12.79</td>\n",
       "      <td>1</td>\n",
       "      <td>14403</td>\n",
       "      <td>-20.553651</td>\n",
       "      <td>-47.387145</td>\n",
       "      <td>franca</td>\n",
       "      <td>SP</td>\n",
       "      <td>perfumaria</td>\n",
       "      <td>42.0</td>\n",
       "      <td>480.0</td>\n",
       "      <td>1.0</td>\n",
       "      <td>200.0</td>\n",
       "      <td>16.0</td>\n",
       "      <td>10.0</td>\n",
       "      <td>15.0</td>\n",
       "    </tr>\n",
       "    <tr>\n",
       "      <th>4</th>\n",
       "      <td>00042b26cf59d7ce69dfabb4e55b4fd9</td>\n",
       "      <td>ac6c3623068f30de03045865e4e10089</td>\n",
       "      <td>df560393f3a51e74553ab94004ba5c87</td>\n",
       "      <td>2017-02-13 13:57:51</td>\n",
       "      <td>199.90</td>\n",
       "      <td>18.14</td>\n",
       "      <td>1</td>\n",
       "      <td>87900</td>\n",
       "      <td>-22.929583</td>\n",
       "      <td>-53.135750</td>\n",
       "      <td>loanda</td>\n",
       "      <td>PR</td>\n",
       "      <td>ferramentas_jardim</td>\n",
       "      <td>59.0</td>\n",
       "      <td>409.0</td>\n",
       "      <td>1.0</td>\n",
       "      <td>3750.0</td>\n",
       "      <td>35.0</td>\n",
       "      <td>40.0</td>\n",
       "      <td>30.0</td>\n",
       "    </tr>\n",
       "  </tbody>\n",
       "</table>\n",
       "</div>"
      ],
      "text/plain": [
       "                           order_id                        product_id  \\\n",
       "0  00010242fe8c5a6d1ba2dd792cb16214  4244733e06e7ecb4970a6e2683c13e61   \n",
       "1  00018f77f2f0320c557190d7a144bdd3  e5f2d52b802189ee658865ca93d83a8f   \n",
       "2  000229ec398224ef6ca0657da4fc703e  c777355d18b72b67abbeef9df44fd0fd   \n",
       "3  00024acbcdf0a6daa1e931b038114c75  7634da152a4610f1595efa32f14722fc   \n",
       "4  00042b26cf59d7ce69dfabb4e55b4fd9  ac6c3623068f30de03045865e4e10089   \n",
       "\n",
       "                          seller_id  shipping_limit_date   price  \\\n",
       "0  48436dade18ac8b2bce089ec2a041202  2017-09-19 09:45:35   58.90   \n",
       "1  dd7ddc04e1b6c2c614352b383efe2d36  2017-05-03 11:05:13  239.90   \n",
       "2  5b51032eddd242adc84c38acab88f23d  2018-01-18 14:48:30  199.00   \n",
       "3  9d7a1d34a5052409006425275ba1c2b4  2018-08-15 10:10:18   12.99   \n",
       "4  df560393f3a51e74553ab94004ba5c87  2017-02-13 13:57:51  199.90   \n",
       "\n",
       "   freight_value  order_item_id  seller_zip_code_prefix  geolocation_lat  \\\n",
       "0          13.29              1                   27277       -22.497188   \n",
       "1          19.93              1                    3471       -23.565754   \n",
       "2          17.87              1                   37564       -22.262802   \n",
       "3          12.79              1                   14403       -20.553651   \n",
       "4          18.14              1                   87900       -22.929583   \n",
       "\n",
       "   geolocation_lng geolocation_city geolocation_state product_category_name  \\\n",
       "0       -44.127324    volta redonda                RJ            cool_stuff   \n",
       "1       -46.519097        sao paulo                SP              pet_shop   \n",
       "2       -46.170735    borda da mata                MG      moveis_decoracao   \n",
       "3       -47.387145           franca                SP            perfumaria   \n",
       "4       -53.135750           loanda                PR    ferramentas_jardim   \n",
       "\n",
       "   product_name_lenght  product_description_lenght  product_photos_qty  \\\n",
       "0                 58.0                       598.0                 4.0   \n",
       "1                 56.0                       239.0                 2.0   \n",
       "2                 59.0                       695.0                 2.0   \n",
       "3                 42.0                       480.0                 1.0   \n",
       "4                 59.0                       409.0                 1.0   \n",
       "\n",
       "   product_weight_g  product_length_cm  product_height_cm  product_width_cm  \n",
       "0             650.0               28.0                9.0              14.0  \n",
       "1           30000.0               50.0               30.0              40.0  \n",
       "2            3050.0               33.0               13.0              33.0  \n",
       "3             200.0               16.0               10.0              15.0  \n",
       "4            3750.0               35.0               40.0              30.0  "
      ]
     },
     "execution_count": 444,
     "metadata": {},
     "output_type": "execute_result"
    }
   ],
   "source": [
    "olist_items_dataset.head()"
   ]
  },
  {
   "cell_type": "code",
   "execution_count": 445,
   "metadata": {},
   "outputs": [
    {
     "data": {
      "text/plain": [
       "False    98666\n",
       "True      3759\n",
       "dtype: int64"
      ]
     },
     "execution_count": 445,
     "metadata": {},
     "output_type": "execute_result"
    }
   ],
   "source": [
    "olist_items_dataset.duplicated('order_id',keep='first').value_counts()"
   ]
  }
 ],
 "metadata": {
  "colab": {
   "name": "Olist.ipynb",
   "provenance": []
  },
  "kernelspec": {
   "display_name": "Python 3",
   "language": "python",
   "name": "python3"
  },
  "language_info": {
   "codemirror_mode": {
    "name": "ipython",
    "version": 3
   },
   "file_extension": ".py",
   "mimetype": "text/x-python",
   "name": "python",
   "nbconvert_exporter": "python",
   "pygments_lexer": "ipython3",
   "version": "3.7.0"
  }
 },
 "nbformat": 4,
 "nbformat_minor": 4
}
